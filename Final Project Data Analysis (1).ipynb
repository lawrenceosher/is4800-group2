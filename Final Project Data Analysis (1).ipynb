{
 "cells": [
  {
   "cell_type": "code",
   "execution_count": 2,
   "id": "ddd45c54",
   "metadata": {},
   "outputs": [],
   "source": [
    "import pandas as pd\n",
    "import altair as alt\n",
    "import math\n",
    "import scipy.stats"
   ]
  },
  {
   "cell_type": "code",
   "execution_count": 3,
   "id": "1641ede0",
   "metadata": {},
   "outputs": [],
   "source": [
    "data = pd.read_csv(\"Group2_Dataset.csv\")"
   ]
  },
  {
   "cell_type": "code",
   "execution_count": 4,
   "id": "b342f893",
   "metadata": {},
   "outputs": [],
   "source": [
    "data = data.drop(0)"
   ]
  },
  {
   "cell_type": "markdown",
   "id": "7c634d52",
   "metadata": {},
   "source": [
    "Converting the data types from strings to numbers in the csv"
   ]
  },
  {
   "cell_type": "code",
   "execution_count": 5,
   "id": "482b0d05",
   "metadata": {},
   "outputs": [],
   "source": [
    "#data[\"LightModeTime\"] = pd.to_numeric(data[\"LightModeTime\"])\n",
    "#data[\"DarkModeTime\"] = pd.to_numeric(data[\"DarkModeTime\"])\n",
    "\n",
    "columnNames = [\"LightModeTime\", \"DarkModeTime\", \"LightModeAccuracy\", \"DarkModeAccuracy\", \"OverallDarkComfortScore\", \"OverallLightComfortScore\"]\n",
    "\n",
    "for colName in columnNames:\n",
    "    data[colName] = pd.to_numeric(data[colName])"
   ]
  },
  {
   "cell_type": "markdown",
   "id": "a5d9b5f5",
   "metadata": {},
   "source": [
    "Dropped the first row as it has all of the question descriptions from Qualtrics"
   ]
  },
  {
   "cell_type": "code",
   "execution_count": 7,
   "id": "db35d1f2",
   "metadata": {},
   "outputs": [],
   "source": [
    "data[\"time_diff\"] = data[\"DarkModeTime\"] - data[\"LightModeTime\"]\n",
    "data[\"accuracy_diff\"] = data[\"DarkModeAccuracy\"] - data[\"LightModeAccuracy\"]\n",
    "data[\"comfort_diff\"] = data[\"OverallDarkComfortScore\"] - data[\"OverallLightComfortScore\"]"
   ]
  },
  {
   "cell_type": "code",
   "execution_count": 21,
   "id": "554f0ce1",
   "metadata": {},
   "outputs": [],
   "source": [
    "darkModeTimeSTD = data.DarkModeTime.std()\n",
    "darkModeTimeMean = data.DarkModeTime.mean()\n",
    "\n",
    "lightModeTimeSTD = data.LightModeTime.std()\n",
    "lightModeTimeMean = data.LightModeTime.mean()\n",
    "\n",
    "darkModeAccuracySTD = data.DarkModeAccuracy.std()\n",
    "darkModeAccuracyMean = data.DarkModeAccuracy.mean()\n",
    "\n",
    "lightModeAccuracySTD = data.LightModeAccuracy.std()\n",
    "lightModeAccuracyMean = data.LightModeAccuracy.mean()\n",
    "\n",
    "darkModeComfortSTD = data.OverallDarkComfortScore.std()\n",
    "darkModeComfortMean = data.OverallDarkComfortScore.mean()\n",
    "\n",
    "lightModeComfortSTD = data.OverallLightComfortScore.std()\n",
    "lightModeComfortMean = data.OverallLightComfortScore.mean()"
   ]
  },
  {
   "cell_type": "markdown",
   "id": "44926bc1",
   "metadata": {},
   "source": [
    "Checking for outliers (more than 3 standard deviations away from the mean):"
   ]
  },
  {
   "cell_type": "code",
   "execution_count": 22,
   "id": "5dd1ab08",
   "metadata": {},
   "outputs": [],
   "source": [
    "data = data[(data[\"DarkModeTime\"] <= (darkModeTimeMean + 3*darkModeTimeSTD))]\n",
    "data = data[(data[\"DarkModeTime\"] >= (darkModeTimeMean - 3*darkModeTimeSTD))]\n",
    "\n",
    "data = data[(data[\"LightModeTime\"] <= (lightModeTimeMean + 3*lightModeTimeSTD))]\n",
    "data = data[(data[\"LightModeTime\"] >= (lightModeTimeMean - 3*lightModeTimeSTD))]\n",
    "\n",
    "\n",
    "data = data[(data[\"DarkModeAccuracy\"] <= (darkModeAccuracyMean + 3*darkModeAccuracySTD))]\n",
    "data = data[(data[\"DarkModeAccuracy\"] >= (darkModeAccuracyMean - 3*darkModeAccuracySTD))]\n",
    "\n",
    "data = data[(data[\"LightModeAccuracy\"] <= (lightModeAccuracyMean + 3*lightModeAccuracySTD))]\n",
    "data = data[(data[\"LightModeAccuracy\"] >= (lightModeAccuracyMean - 3*lightModeAccuracySTD))]\n",
    "\n",
    "\n",
    "data = data[(data[\"OverallDarkComfortScore\"] <= (darkModeComfortMean + 3*darkModeComfortSTD))]\n",
    "data = data[(data[\"OverallDarkComfortScore\"] >= (darkModeComfortMean - 3*darkModeComfortSTD))]\n",
    "\n",
    "data = data[(data[\"OverallLightComfortScore\"] <= (lightModeComfortMean + 3*lightModeComfortSTD))]\n",
    "data = data[(data[\"OverallLightComfortScore\"] >= (lightModeComfortMean - 3*lightModeComfortSTD))]\n"
   ]
  },
  {
   "cell_type": "code",
   "execution_count": 59,
   "id": "3c97b57b",
   "metadata": {},
   "outputs": [
    {
     "data": {
      "text/html": [
       "<div>\n",
       "<style scoped>\n",
       "    .dataframe tbody tr th:only-of-type {\n",
       "        vertical-align: middle;\n",
       "    }\n",
       "\n",
       "    .dataframe tbody tr th {\n",
       "        vertical-align: top;\n",
       "    }\n",
       "\n",
       "    .dataframe thead th {\n",
       "        text-align: right;\n",
       "    }\n",
       "</style>\n",
       "<table border=\"1\" class=\"dataframe\">\n",
       "  <thead>\n",
       "    <tr style=\"text-align: right;\">\n",
       "      <th></th>\n",
       "      <th>ParticipantId</th>\n",
       "      <th>Experimenter</th>\n",
       "      <th>Informed Consent</th>\n",
       "      <th>LightModeTime</th>\n",
       "      <th>LightModeAccuracy</th>\n",
       "      <th>DarkModeTime</th>\n",
       "      <th>DarkModeAccuracy</th>\n",
       "      <th>Comfortability_1</th>\n",
       "      <th>Comfortability_2</th>\n",
       "      <th>Comfortability_3</th>\n",
       "      <th>Comfortability_4</th>\n",
       "      <th>Comfortability_5</th>\n",
       "      <th>OverallDarkComfortScore</th>\n",
       "      <th>OverallLightComfortScore</th>\n",
       "      <th>time_diff</th>\n",
       "      <th>accuracy_diff</th>\n",
       "      <th>comfort_diff</th>\n",
       "    </tr>\n",
       "  </thead>\n",
       "  <tbody>\n",
       "    <tr>\n",
       "      <th>1</th>\n",
       "      <td>1</td>\n",
       "      <td>Team</td>\n",
       "      <td>Yes</td>\n",
       "      <td>76</td>\n",
       "      <td>0.96</td>\n",
       "      <td>75</td>\n",
       "      <td>0.97</td>\n",
       "      <td>Somewhat agree</td>\n",
       "      <td>Somewhat disagree</td>\n",
       "      <td>Agree</td>\n",
       "      <td>Agree</td>\n",
       "      <td>Somewhat disagree</td>\n",
       "      <td>7</td>\n",
       "      <td>13</td>\n",
       "      <td>-1</td>\n",
       "      <td>0.01</td>\n",
       "      <td>-6</td>\n",
       "    </tr>\n",
       "    <tr>\n",
       "      <th>2</th>\n",
       "      <td>2</td>\n",
       "      <td>Team</td>\n",
       "      <td>Yes</td>\n",
       "      <td>62</td>\n",
       "      <td>0.97</td>\n",
       "      <td>60</td>\n",
       "      <td>0.96</td>\n",
       "      <td>Agree</td>\n",
       "      <td>Agree</td>\n",
       "      <td>Agree</td>\n",
       "      <td>Agree</td>\n",
       "      <td>Agree</td>\n",
       "      <td>14</td>\n",
       "      <td>10</td>\n",
       "      <td>-2</td>\n",
       "      <td>-0.01</td>\n",
       "      <td>4</td>\n",
       "    </tr>\n",
       "    <tr>\n",
       "      <th>3</th>\n",
       "      <td>3</td>\n",
       "      <td>Team</td>\n",
       "      <td>Yes</td>\n",
       "      <td>77</td>\n",
       "      <td>0.96</td>\n",
       "      <td>72</td>\n",
       "      <td>0.97</td>\n",
       "      <td>Strongly agree</td>\n",
       "      <td>Strongly agree</td>\n",
       "      <td>Strongly agree</td>\n",
       "      <td>Strongly agree</td>\n",
       "      <td>Agree</td>\n",
       "      <td>16</td>\n",
       "      <td>12</td>\n",
       "      <td>-5</td>\n",
       "      <td>0.01</td>\n",
       "      <td>4</td>\n",
       "    </tr>\n",
       "    <tr>\n",
       "      <th>4</th>\n",
       "      <td>4</td>\n",
       "      <td>Team</td>\n",
       "      <td>Yes</td>\n",
       "      <td>76</td>\n",
       "      <td>0.97</td>\n",
       "      <td>98</td>\n",
       "      <td>0.92</td>\n",
       "      <td>Somewhat disagree</td>\n",
       "      <td>Somewhat agree</td>\n",
       "      <td>Agree</td>\n",
       "      <td>Neither agree nor disagree</td>\n",
       "      <td>Somewhat agree</td>\n",
       "      <td>9</td>\n",
       "      <td>9</td>\n",
       "      <td>22</td>\n",
       "      <td>-0.05</td>\n",
       "      <td>0</td>\n",
       "    </tr>\n",
       "    <tr>\n",
       "      <th>5</th>\n",
       "      <td>5</td>\n",
       "      <td>Team</td>\n",
       "      <td>Yes</td>\n",
       "      <td>72</td>\n",
       "      <td>0.96</td>\n",
       "      <td>77</td>\n",
       "      <td>0.96</td>\n",
       "      <td>Strongly agree</td>\n",
       "      <td>Strongly agree</td>\n",
       "      <td>Agree</td>\n",
       "      <td>Agree</td>\n",
       "      <td>Agree</td>\n",
       "      <td>16</td>\n",
       "      <td>10</td>\n",
       "      <td>5</td>\n",
       "      <td>0.00</td>\n",
       "      <td>6</td>\n",
       "    </tr>\n",
       "    <tr>\n",
       "      <th>6</th>\n",
       "      <td>6</td>\n",
       "      <td>Team</td>\n",
       "      <td>Yes</td>\n",
       "      <td>86</td>\n",
       "      <td>0.96</td>\n",
       "      <td>88</td>\n",
       "      <td>0.96</td>\n",
       "      <td>Strongly agree</td>\n",
       "      <td>Somewhat agree</td>\n",
       "      <td>Strongly agree</td>\n",
       "      <td>Strongly agree</td>\n",
       "      <td>Neither agree nor disagree</td>\n",
       "      <td>12</td>\n",
       "      <td>14</td>\n",
       "      <td>2</td>\n",
       "      <td>0.00</td>\n",
       "      <td>-2</td>\n",
       "    </tr>\n",
       "    <tr>\n",
       "      <th>7</th>\n",
       "      <td>7</td>\n",
       "      <td>Team</td>\n",
       "      <td>Yes</td>\n",
       "      <td>56</td>\n",
       "      <td>0.97</td>\n",
       "      <td>54</td>\n",
       "      <td>0.96</td>\n",
       "      <td>Somewhat disagree</td>\n",
       "      <td>Somewhat disagree</td>\n",
       "      <td>Strongly agree</td>\n",
       "      <td>Strongly agree</td>\n",
       "      <td>Somewhat disagree</td>\n",
       "      <td>5</td>\n",
       "      <td>15</td>\n",
       "      <td>-2</td>\n",
       "      <td>-0.01</td>\n",
       "      <td>-10</td>\n",
       "    </tr>\n",
       "    <tr>\n",
       "      <th>8</th>\n",
       "      <td>8</td>\n",
       "      <td>Team</td>\n",
       "      <td>Yes</td>\n",
       "      <td>53</td>\n",
       "      <td>0.95</td>\n",
       "      <td>53</td>\n",
       "      <td>0.94</td>\n",
       "      <td>Strongly agree</td>\n",
       "      <td>Agree</td>\n",
       "      <td>Strongly agree</td>\n",
       "      <td>Strongly agree</td>\n",
       "      <td>Disagree</td>\n",
       "      <td>11</td>\n",
       "      <td>16</td>\n",
       "      <td>0</td>\n",
       "      <td>-0.01</td>\n",
       "      <td>-5</td>\n",
       "    </tr>\n",
       "    <tr>\n",
       "      <th>9</th>\n",
       "      <td>9</td>\n",
       "      <td>Team</td>\n",
       "      <td>Yes</td>\n",
       "      <td>68</td>\n",
       "      <td>0.96</td>\n",
       "      <td>79</td>\n",
       "      <td>0.97</td>\n",
       "      <td>Neither agree nor disagree</td>\n",
       "      <td>Disagree</td>\n",
       "      <td>Somewhat disagree</td>\n",
       "      <td>Strongly agree</td>\n",
       "      <td>Somewhat agree</td>\n",
       "      <td>7</td>\n",
       "      <td>9</td>\n",
       "      <td>11</td>\n",
       "      <td>0.01</td>\n",
       "      <td>-2</td>\n",
       "    </tr>\n",
       "    <tr>\n",
       "      <th>10</th>\n",
       "      <td>10</td>\n",
       "      <td>Team</td>\n",
       "      <td>Yes</td>\n",
       "      <td>71</td>\n",
       "      <td>0.96</td>\n",
       "      <td>73</td>\n",
       "      <td>0.95</td>\n",
       "      <td>Strongly agree</td>\n",
       "      <td>Strongly agree</td>\n",
       "      <td>Somewhat agree</td>\n",
       "      <td>Somewhat agree</td>\n",
       "      <td>Strongly agree</td>\n",
       "      <td>17</td>\n",
       "      <td>7</td>\n",
       "      <td>2</td>\n",
       "      <td>-0.01</td>\n",
       "      <td>10</td>\n",
       "    </tr>\n",
       "    <tr>\n",
       "      <th>11</th>\n",
       "      <td>11</td>\n",
       "      <td>Team</td>\n",
       "      <td>Yes</td>\n",
       "      <td>57</td>\n",
       "      <td>0.94</td>\n",
       "      <td>74</td>\n",
       "      <td>0.90</td>\n",
       "      <td>Strongly agree</td>\n",
       "      <td>Strongly agree</td>\n",
       "      <td>Strongly agree</td>\n",
       "      <td>Strongly agree</td>\n",
       "      <td>Somewhat agree</td>\n",
       "      <td>15</td>\n",
       "      <td>13</td>\n",
       "      <td>17</td>\n",
       "      <td>-0.04</td>\n",
       "      <td>2</td>\n",
       "    </tr>\n",
       "    <tr>\n",
       "      <th>12</th>\n",
       "      <td>12</td>\n",
       "      <td>Team</td>\n",
       "      <td>Yes</td>\n",
       "      <td>43</td>\n",
       "      <td>0.97</td>\n",
       "      <td>46</td>\n",
       "      <td>0.94</td>\n",
       "      <td>Agree</td>\n",
       "      <td>Somewhat agree</td>\n",
       "      <td>Somewhat agree</td>\n",
       "      <td>Somewhat agree</td>\n",
       "      <td>Neither agree nor disagree</td>\n",
       "      <td>11</td>\n",
       "      <td>10</td>\n",
       "      <td>3</td>\n",
       "      <td>-0.03</td>\n",
       "      <td>1</td>\n",
       "    </tr>\n",
       "    <tr>\n",
       "      <th>13</th>\n",
       "      <td>13</td>\n",
       "      <td>Team</td>\n",
       "      <td>Yes</td>\n",
       "      <td>46</td>\n",
       "      <td>0.93</td>\n",
       "      <td>41</td>\n",
       "      <td>0.94</td>\n",
       "      <td>Strongly agree</td>\n",
       "      <td>Strongly agree</td>\n",
       "      <td>Agree</td>\n",
       "      <td>Agree</td>\n",
       "      <td>Strongly agree</td>\n",
       "      <td>17</td>\n",
       "      <td>9</td>\n",
       "      <td>-5</td>\n",
       "      <td>0.01</td>\n",
       "      <td>8</td>\n",
       "    </tr>\n",
       "    <tr>\n",
       "      <th>14</th>\n",
       "      <td>14</td>\n",
       "      <td>Team</td>\n",
       "      <td>Yes</td>\n",
       "      <td>66</td>\n",
       "      <td>0.88</td>\n",
       "      <td>67</td>\n",
       "      <td>0.90</td>\n",
       "      <td>Agree</td>\n",
       "      <td>Agree</td>\n",
       "      <td>Disagree</td>\n",
       "      <td>Agree</td>\n",
       "      <td>Somewhat agree</td>\n",
       "      <td>13</td>\n",
       "      <td>7</td>\n",
       "      <td>1</td>\n",
       "      <td>0.02</td>\n",
       "      <td>6</td>\n",
       "    </tr>\n",
       "    <tr>\n",
       "      <th>15</th>\n",
       "      <td>15</td>\n",
       "      <td>Team</td>\n",
       "      <td>Yes</td>\n",
       "      <td>44</td>\n",
       "      <td>0.89</td>\n",
       "      <td>56</td>\n",
       "      <td>0.85</td>\n",
       "      <td>Somewhat agree</td>\n",
       "      <td>Agree</td>\n",
       "      <td>Agree</td>\n",
       "      <td>Agree</td>\n",
       "      <td>Neither agree nor disagree</td>\n",
       "      <td>11</td>\n",
       "      <td>12</td>\n",
       "      <td>12</td>\n",
       "      <td>-0.04</td>\n",
       "      <td>-1</td>\n",
       "    </tr>\n",
       "    <tr>\n",
       "      <th>16</th>\n",
       "      <td>16</td>\n",
       "      <td>Oliver</td>\n",
       "      <td>Yes</td>\n",
       "      <td>79</td>\n",
       "      <td>0.94</td>\n",
       "      <td>72</td>\n",
       "      <td>0.95</td>\n",
       "      <td>Somewhat disagree</td>\n",
       "      <td>Neither agree nor disagree</td>\n",
       "      <td>Agree</td>\n",
       "      <td>Agree</td>\n",
       "      <td>Somewhat disagree</td>\n",
       "      <td>6</td>\n",
       "      <td>13</td>\n",
       "      <td>-7</td>\n",
       "      <td>0.01</td>\n",
       "      <td>-7</td>\n",
       "    </tr>\n",
       "    <tr>\n",
       "      <th>17</th>\n",
       "      <td>17</td>\n",
       "      <td>Lawrence</td>\n",
       "      <td>Yes</td>\n",
       "      <td>67</td>\n",
       "      <td>0.97</td>\n",
       "      <td>71</td>\n",
       "      <td>0.93</td>\n",
       "      <td>Somewhat agree</td>\n",
       "      <td>Disagree</td>\n",
       "      <td>Agree</td>\n",
       "      <td>Agree</td>\n",
       "      <td>Disagree</td>\n",
       "      <td>5</td>\n",
       "      <td>14</td>\n",
       "      <td>4</td>\n",
       "      <td>-0.04</td>\n",
       "      <td>-9</td>\n",
       "    </tr>\n",
       "    <tr>\n",
       "      <th>18</th>\n",
       "      <td>18</td>\n",
       "      <td>Oliver</td>\n",
       "      <td>Yes</td>\n",
       "      <td>78</td>\n",
       "      <td>0.92</td>\n",
       "      <td>80</td>\n",
       "      <td>0.93</td>\n",
       "      <td>Strongly agree</td>\n",
       "      <td>Agree</td>\n",
       "      <td>Neither agree nor disagree</td>\n",
       "      <td>Somewhat agree</td>\n",
       "      <td>Strongly agree</td>\n",
       "      <td>16</td>\n",
       "      <td>6</td>\n",
       "      <td>2</td>\n",
       "      <td>0.01</td>\n",
       "      <td>10</td>\n",
       "    </tr>\n",
       "    <tr>\n",
       "      <th>19</th>\n",
       "      <td>19</td>\n",
       "      <td>Oliver</td>\n",
       "      <td>Yes</td>\n",
       "      <td>61</td>\n",
       "      <td>0.95</td>\n",
       "      <td>55</td>\n",
       "      <td>0.96</td>\n",
       "      <td>Agree</td>\n",
       "      <td>Agree</td>\n",
       "      <td>Agree</td>\n",
       "      <td>Agree</td>\n",
       "      <td>Somewhat agree</td>\n",
       "      <td>13</td>\n",
       "      <td>11</td>\n",
       "      <td>-6</td>\n",
       "      <td>0.01</td>\n",
       "      <td>2</td>\n",
       "    </tr>\n",
       "    <tr>\n",
       "      <th>20</th>\n",
       "      <td>20</td>\n",
       "      <td>Oliver</td>\n",
       "      <td>Yes</td>\n",
       "      <td>57</td>\n",
       "      <td>0.96</td>\n",
       "      <td>56</td>\n",
       "      <td>0.99</td>\n",
       "      <td>Agree</td>\n",
       "      <td>Neither agree nor disagree</td>\n",
       "      <td>Agree</td>\n",
       "      <td>Neither agree nor disagree</td>\n",
       "      <td>Somewhat disagree</td>\n",
       "      <td>9</td>\n",
       "      <td>11</td>\n",
       "      <td>-1</td>\n",
       "      <td>0.03</td>\n",
       "      <td>-2</td>\n",
       "    </tr>\n",
       "    <tr>\n",
       "      <th>21</th>\n",
       "      <td>21</td>\n",
       "      <td>Oliver</td>\n",
       "      <td>Yes</td>\n",
       "      <td>88</td>\n",
       "      <td>0.97</td>\n",
       "      <td>92</td>\n",
       "      <td>0.98</td>\n",
       "      <td>Strongly agree</td>\n",
       "      <td>Strongly agree</td>\n",
       "      <td>Somewhat disagree</td>\n",
       "      <td>Somewhat agree</td>\n",
       "      <td>Strongly agree</td>\n",
       "      <td>17</td>\n",
       "      <td>5</td>\n",
       "      <td>4</td>\n",
       "      <td>0.01</td>\n",
       "      <td>12</td>\n",
       "    </tr>\n",
       "    <tr>\n",
       "      <th>22</th>\n",
       "      <td>22</td>\n",
       "      <td>Lawrence</td>\n",
       "      <td>Yes</td>\n",
       "      <td>97</td>\n",
       "      <td>0.93</td>\n",
       "      <td>107</td>\n",
       "      <td>0.93</td>\n",
       "      <td>Agree</td>\n",
       "      <td>Agree</td>\n",
       "      <td>Agree</td>\n",
       "      <td>Disagree</td>\n",
       "      <td>Agree</td>\n",
       "      <td>14</td>\n",
       "      <td>6</td>\n",
       "      <td>10</td>\n",
       "      <td>0.00</td>\n",
       "      <td>8</td>\n",
       "    </tr>\n",
       "    <tr>\n",
       "      <th>23</th>\n",
       "      <td>23</td>\n",
       "      <td>Lawrence</td>\n",
       "      <td>Yes</td>\n",
       "      <td>45</td>\n",
       "      <td>0.93</td>\n",
       "      <td>48</td>\n",
       "      <td>0.96</td>\n",
       "      <td>Strongly agree</td>\n",
       "      <td>Strongly agree</td>\n",
       "      <td>Strongly agree</td>\n",
       "      <td>Strongly agree</td>\n",
       "      <td>Disagree</td>\n",
       "      <td>12</td>\n",
       "      <td>16</td>\n",
       "      <td>3</td>\n",
       "      <td>0.03</td>\n",
       "      <td>-4</td>\n",
       "    </tr>\n",
       "    <tr>\n",
       "      <th>24</th>\n",
       "      <td>24</td>\n",
       "      <td>Lawrence</td>\n",
       "      <td>Yes</td>\n",
       "      <td>72</td>\n",
       "      <td>0.85</td>\n",
       "      <td>70</td>\n",
       "      <td>0.86</td>\n",
       "      <td>Somewhat agree</td>\n",
       "      <td>Somewhat disagree</td>\n",
       "      <td>Agree</td>\n",
       "      <td>Strongly agree</td>\n",
       "      <td>Somewhat disagree</td>\n",
       "      <td>7</td>\n",
       "      <td>14</td>\n",
       "      <td>-2</td>\n",
       "      <td>0.01</td>\n",
       "      <td>-7</td>\n",
       "    </tr>\n",
       "    <tr>\n",
       "      <th>25</th>\n",
       "      <td>25</td>\n",
       "      <td>Lawrence</td>\n",
       "      <td>Yes</td>\n",
       "      <td>67</td>\n",
       "      <td>0.89</td>\n",
       "      <td>61</td>\n",
       "      <td>0.96</td>\n",
       "      <td>Strongly agree</td>\n",
       "      <td>Somewhat agree</td>\n",
       "      <td>Somewhat disagree</td>\n",
       "      <td>Agree</td>\n",
       "      <td>Agree</td>\n",
       "      <td>14</td>\n",
       "      <td>7</td>\n",
       "      <td>-6</td>\n",
       "      <td>0.07</td>\n",
       "      <td>7</td>\n",
       "    </tr>\n",
       "    <tr>\n",
       "      <th>26</th>\n",
       "      <td>26</td>\n",
       "      <td>Kevin</td>\n",
       "      <td>Yes</td>\n",
       "      <td>97</td>\n",
       "      <td>0.97</td>\n",
       "      <td>102</td>\n",
       "      <td>0.96</td>\n",
       "      <td>Neither agree nor disagree</td>\n",
       "      <td>Neither agree nor disagree</td>\n",
       "      <td>Strongly agree</td>\n",
       "      <td>Strongly agree</td>\n",
       "      <td>Strongly disagree</td>\n",
       "      <td>5</td>\n",
       "      <td>17</td>\n",
       "      <td>5</td>\n",
       "      <td>-0.01</td>\n",
       "      <td>-12</td>\n",
       "    </tr>\n",
       "    <tr>\n",
       "      <th>28</th>\n",
       "      <td>28</td>\n",
       "      <td>Kevin</td>\n",
       "      <td>Yes</td>\n",
       "      <td>80</td>\n",
       "      <td>0.98</td>\n",
       "      <td>72</td>\n",
       "      <td>0.96</td>\n",
       "      <td>Strongly agree</td>\n",
       "      <td>Strongly agree</td>\n",
       "      <td>Somewhat disagree</td>\n",
       "      <td>Somewhat disagree</td>\n",
       "      <td>Strongly agree</td>\n",
       "      <td>17</td>\n",
       "      <td>3</td>\n",
       "      <td>-8</td>\n",
       "      <td>-0.02</td>\n",
       "      <td>14</td>\n",
       "    </tr>\n",
       "    <tr>\n",
       "      <th>29</th>\n",
       "      <td>29</td>\n",
       "      <td>Kevin</td>\n",
       "      <td>Yes</td>\n",
       "      <td>65</td>\n",
       "      <td>0.96</td>\n",
       "      <td>69</td>\n",
       "      <td>0.95</td>\n",
       "      <td>Strongly agree</td>\n",
       "      <td>Strongly agree</td>\n",
       "      <td>Strongly agree</td>\n",
       "      <td>Strongly agree</td>\n",
       "      <td>Neither agree nor disagree</td>\n",
       "      <td>14</td>\n",
       "      <td>14</td>\n",
       "      <td>4</td>\n",
       "      <td>-0.01</td>\n",
       "      <td>0</td>\n",
       "    </tr>\n",
       "    <tr>\n",
       "      <th>30</th>\n",
       "      <td>30</td>\n",
       "      <td>Kevin</td>\n",
       "      <td>Yes</td>\n",
       "      <td>72</td>\n",
       "      <td>0.94</td>\n",
       "      <td>67</td>\n",
       "      <td>0.97</td>\n",
       "      <td>Strongly agree</td>\n",
       "      <td>Strongly agree</td>\n",
       "      <td>Strongly agree</td>\n",
       "      <td>Strongly agree</td>\n",
       "      <td>Strongly agree</td>\n",
       "      <td>17</td>\n",
       "      <td>11</td>\n",
       "      <td>-5</td>\n",
       "      <td>0.03</td>\n",
       "      <td>6</td>\n",
       "    </tr>\n",
       "  </tbody>\n",
       "</table>\n",
       "</div>"
      ],
      "text/plain": [
       "   ParticipantId Experimenter Informed Consent  LightModeTime  \\\n",
       "1              1         Team              Yes             76   \n",
       "2              2         Team              Yes             62   \n",
       "3              3         Team              Yes             77   \n",
       "4              4         Team              Yes             76   \n",
       "5              5         Team              Yes             72   \n",
       "6              6         Team              Yes             86   \n",
       "7              7         Team              Yes             56   \n",
       "8              8         Team              Yes             53   \n",
       "9              9         Team              Yes             68   \n",
       "10            10         Team              Yes             71   \n",
       "11            11         Team              Yes             57   \n",
       "12            12         Team              Yes             43   \n",
       "13            13         Team              Yes             46   \n",
       "14            14         Team              Yes             66   \n",
       "15            15         Team              Yes             44   \n",
       "16            16       Oliver              Yes             79   \n",
       "17            17     Lawrence              Yes             67   \n",
       "18            18       Oliver              Yes             78   \n",
       "19            19       Oliver              Yes             61   \n",
       "20            20       Oliver              Yes             57   \n",
       "21            21       Oliver              Yes             88   \n",
       "22            22     Lawrence              Yes             97   \n",
       "23            23     Lawrence              Yes             45   \n",
       "24            24     Lawrence              Yes             72   \n",
       "25            25     Lawrence              Yes             67   \n",
       "26            26        Kevin              Yes             97   \n",
       "28            28        Kevin              Yes             80   \n",
       "29            29        Kevin              Yes             65   \n",
       "30            30        Kevin              Yes             72   \n",
       "\n",
       "    LightModeAccuracy  DarkModeTime  DarkModeAccuracy  \\\n",
       "1                0.96            75              0.97   \n",
       "2                0.97            60              0.96   \n",
       "3                0.96            72              0.97   \n",
       "4                0.97            98              0.92   \n",
       "5                0.96            77              0.96   \n",
       "6                0.96            88              0.96   \n",
       "7                0.97            54              0.96   \n",
       "8                0.95            53              0.94   \n",
       "9                0.96            79              0.97   \n",
       "10               0.96            73              0.95   \n",
       "11               0.94            74              0.90   \n",
       "12               0.97            46              0.94   \n",
       "13               0.93            41              0.94   \n",
       "14               0.88            67              0.90   \n",
       "15               0.89            56              0.85   \n",
       "16               0.94            72              0.95   \n",
       "17               0.97            71              0.93   \n",
       "18               0.92            80              0.93   \n",
       "19               0.95            55              0.96   \n",
       "20               0.96            56              0.99   \n",
       "21               0.97            92              0.98   \n",
       "22               0.93           107              0.93   \n",
       "23               0.93            48              0.96   \n",
       "24               0.85            70              0.86   \n",
       "25               0.89            61              0.96   \n",
       "26               0.97           102              0.96   \n",
       "28               0.98            72              0.96   \n",
       "29               0.96            69              0.95   \n",
       "30               0.94            67              0.97   \n",
       "\n",
       "              Comfortability_1            Comfortability_2  \\\n",
       "1               Somewhat agree           Somewhat disagree   \n",
       "2                        Agree                       Agree   \n",
       "3               Strongly agree              Strongly agree   \n",
       "4            Somewhat disagree              Somewhat agree   \n",
       "5               Strongly agree              Strongly agree   \n",
       "6               Strongly agree              Somewhat agree   \n",
       "7            Somewhat disagree           Somewhat disagree   \n",
       "8               Strongly agree                       Agree   \n",
       "9   Neither agree nor disagree                    Disagree   \n",
       "10              Strongly agree              Strongly agree   \n",
       "11              Strongly agree              Strongly agree   \n",
       "12                       Agree              Somewhat agree   \n",
       "13              Strongly agree              Strongly agree   \n",
       "14                       Agree                       Agree   \n",
       "15              Somewhat agree                       Agree   \n",
       "16           Somewhat disagree  Neither agree nor disagree   \n",
       "17              Somewhat agree                    Disagree   \n",
       "18              Strongly agree                       Agree   \n",
       "19                       Agree                       Agree   \n",
       "20                       Agree  Neither agree nor disagree   \n",
       "21              Strongly agree              Strongly agree   \n",
       "22                       Agree                       Agree   \n",
       "23              Strongly agree              Strongly agree   \n",
       "24              Somewhat agree           Somewhat disagree   \n",
       "25              Strongly agree              Somewhat agree   \n",
       "26  Neither agree nor disagree  Neither agree nor disagree   \n",
       "28              Strongly agree              Strongly agree   \n",
       "29              Strongly agree              Strongly agree   \n",
       "30              Strongly agree              Strongly agree   \n",
       "\n",
       "              Comfortability_3            Comfortability_4  \\\n",
       "1                        Agree                       Agree   \n",
       "2                        Agree                       Agree   \n",
       "3               Strongly agree              Strongly agree   \n",
       "4                        Agree  Neither agree nor disagree   \n",
       "5                        Agree                       Agree   \n",
       "6               Strongly agree              Strongly agree   \n",
       "7               Strongly agree              Strongly agree   \n",
       "8               Strongly agree              Strongly agree   \n",
       "9            Somewhat disagree              Strongly agree   \n",
       "10              Somewhat agree              Somewhat agree   \n",
       "11              Strongly agree              Strongly agree   \n",
       "12              Somewhat agree              Somewhat agree   \n",
       "13                       Agree                       Agree   \n",
       "14                    Disagree                       Agree   \n",
       "15                       Agree                       Agree   \n",
       "16                       Agree                       Agree   \n",
       "17                       Agree                       Agree   \n",
       "18  Neither agree nor disagree              Somewhat agree   \n",
       "19                       Agree                       Agree   \n",
       "20                       Agree  Neither agree nor disagree   \n",
       "21           Somewhat disagree              Somewhat agree   \n",
       "22                       Agree                    Disagree   \n",
       "23              Strongly agree              Strongly agree   \n",
       "24                       Agree              Strongly agree   \n",
       "25           Somewhat disagree                       Agree   \n",
       "26              Strongly agree              Strongly agree   \n",
       "28           Somewhat disagree           Somewhat disagree   \n",
       "29              Strongly agree              Strongly agree   \n",
       "30              Strongly agree              Strongly agree   \n",
       "\n",
       "              Comfortability_5  OverallDarkComfortScore  \\\n",
       "1            Somewhat disagree                        7   \n",
       "2                        Agree                       14   \n",
       "3                        Agree                       16   \n",
       "4               Somewhat agree                        9   \n",
       "5                        Agree                       16   \n",
       "6   Neither agree nor disagree                       12   \n",
       "7            Somewhat disagree                        5   \n",
       "8                     Disagree                       11   \n",
       "9               Somewhat agree                        7   \n",
       "10              Strongly agree                       17   \n",
       "11              Somewhat agree                       15   \n",
       "12  Neither agree nor disagree                       11   \n",
       "13              Strongly agree                       17   \n",
       "14              Somewhat agree                       13   \n",
       "15  Neither agree nor disagree                       11   \n",
       "16           Somewhat disagree                        6   \n",
       "17                    Disagree                        5   \n",
       "18              Strongly agree                       16   \n",
       "19              Somewhat agree                       13   \n",
       "20           Somewhat disagree                        9   \n",
       "21              Strongly agree                       17   \n",
       "22                       Agree                       14   \n",
       "23                    Disagree                       12   \n",
       "24           Somewhat disagree                        7   \n",
       "25                       Agree                       14   \n",
       "26           Strongly disagree                        5   \n",
       "28              Strongly agree                       17   \n",
       "29  Neither agree nor disagree                       14   \n",
       "30              Strongly agree                       17   \n",
       "\n",
       "    OverallLightComfortScore  time_diff  accuracy_diff  comfort_diff  \n",
       "1                         13         -1           0.01            -6  \n",
       "2                         10         -2          -0.01             4  \n",
       "3                         12         -5           0.01             4  \n",
       "4                          9         22          -0.05             0  \n",
       "5                         10          5           0.00             6  \n",
       "6                         14          2           0.00            -2  \n",
       "7                         15         -2          -0.01           -10  \n",
       "8                         16          0          -0.01            -5  \n",
       "9                          9         11           0.01            -2  \n",
       "10                         7          2          -0.01            10  \n",
       "11                        13         17          -0.04             2  \n",
       "12                        10          3          -0.03             1  \n",
       "13                         9         -5           0.01             8  \n",
       "14                         7          1           0.02             6  \n",
       "15                        12         12          -0.04            -1  \n",
       "16                        13         -7           0.01            -7  \n",
       "17                        14          4          -0.04            -9  \n",
       "18                         6          2           0.01            10  \n",
       "19                        11         -6           0.01             2  \n",
       "20                        11         -1           0.03            -2  \n",
       "21                         5          4           0.01            12  \n",
       "22                         6         10           0.00             8  \n",
       "23                        16          3           0.03            -4  \n",
       "24                        14         -2           0.01            -7  \n",
       "25                         7         -6           0.07             7  \n",
       "26                        17          5          -0.01           -12  \n",
       "28                         3         -8          -0.02            14  \n",
       "29                        14          4          -0.01             0  \n",
       "30                        11         -5           0.03             6  "
      ]
     },
     "execution_count": 59,
     "metadata": {},
     "output_type": "execute_result"
    }
   ],
   "source": [
    "data"
   ]
  },
  {
   "cell_type": "markdown",
   "id": "f4f0176f",
   "metadata": {},
   "source": [
    "# Hypothesis 1: Using Dark Mode will result in lower task completion times"
   ]
  },
  {
   "cell_type": "markdown",
   "id": "6811f283",
   "metadata": {},
   "source": [
    "$H_0: \\mu_D = \\mu_L$\n",
    "\n",
    "$H_A: \\mu_D < \\mu_L$"
   ]
  },
  {
   "cell_type": "markdown",
   "id": "891c68b7",
   "metadata": {},
   "source": [
    "## Assumption Checks"
   ]
  },
  {
   "cell_type": "code",
   "execution_count": 23,
   "id": "cc3e076e",
   "metadata": {},
   "outputs": [
    {
     "data": {
      "text/plain": [
       "ShapiroResult(statistic=0.9228260517120361, pvalue=0.035977207124233246)"
      ]
     },
     "execution_count": 23,
     "metadata": {},
     "output_type": "execute_result"
    }
   ],
   "source": [
    "scipy.stats.shapiro(data.time_diff)"
   ]
  },
  {
   "cell_type": "markdown",
   "id": "71df11ba",
   "metadata": {},
   "source": [
    "Assumption was met because we got a p-value of 0.036 which is greater than our adjusted $\\alpha$ of 0.017."
   ]
  },
  {
   "cell_type": "code",
   "execution_count": 49,
   "id": "efc9d8e5",
   "metadata": {},
   "outputs": [
    {
     "data": {
      "text/html": [
       "\n",
       "<div id=\"altair-viz-65b5813c250b4978af1db8cf2468e372\"></div>\n",
       "<script type=\"text/javascript\">\n",
       "  var VEGA_DEBUG = (typeof VEGA_DEBUG == \"undefined\") ? {} : VEGA_DEBUG;\n",
       "  (function(spec, embedOpt){\n",
       "    let outputDiv = document.currentScript.previousElementSibling;\n",
       "    if (outputDiv.id !== \"altair-viz-65b5813c250b4978af1db8cf2468e372\") {\n",
       "      outputDiv = document.getElementById(\"altair-viz-65b5813c250b4978af1db8cf2468e372\");\n",
       "    }\n",
       "    const paths = {\n",
       "      \"vega\": \"https://cdn.jsdelivr.net/npm//vega@5?noext\",\n",
       "      \"vega-lib\": \"https://cdn.jsdelivr.net/npm//vega-lib?noext\",\n",
       "      \"vega-lite\": \"https://cdn.jsdelivr.net/npm//vega-lite@4.17.0?noext\",\n",
       "      \"vega-embed\": \"https://cdn.jsdelivr.net/npm//vega-embed@6?noext\",\n",
       "    };\n",
       "\n",
       "    function maybeLoadScript(lib, version) {\n",
       "      var key = `${lib.replace(\"-\", \"\")}_version`;\n",
       "      return (VEGA_DEBUG[key] == version) ?\n",
       "        Promise.resolve(paths[lib]) :\n",
       "        new Promise(function(resolve, reject) {\n",
       "          var s = document.createElement('script');\n",
       "          document.getElementsByTagName(\"head\")[0].appendChild(s);\n",
       "          s.async = true;\n",
       "          s.onload = () => {\n",
       "            VEGA_DEBUG[key] = version;\n",
       "            return resolve(paths[lib]);\n",
       "          };\n",
       "          s.onerror = () => reject(`Error loading script: ${paths[lib]}`);\n",
       "          s.src = paths[lib];\n",
       "        });\n",
       "    }\n",
       "\n",
       "    function showError(err) {\n",
       "      outputDiv.innerHTML = `<div class=\"error\" style=\"color:red;\">${err}</div>`;\n",
       "      throw err;\n",
       "    }\n",
       "\n",
       "    function displayChart(vegaEmbed) {\n",
       "      vegaEmbed(outputDiv, spec, embedOpt)\n",
       "        .catch(err => showError(`Javascript Error: ${err.message}<br>This usually means there's a typo in your chart specification. See the javascript console for the full traceback.`));\n",
       "    }\n",
       "\n",
       "    if(typeof define === \"function\" && define.amd) {\n",
       "      requirejs.config({paths});\n",
       "      require([\"vega-embed\"], displayChart, err => showError(`Error loading script: ${err.message}`));\n",
       "    } else {\n",
       "      maybeLoadScript(\"vega\", \"5\")\n",
       "        .then(() => maybeLoadScript(\"vega-lite\", \"4.17.0\"))\n",
       "        .then(() => maybeLoadScript(\"vega-embed\", \"6\"))\n",
       "        .catch(showError)\n",
       "        .then(() => displayChart(vegaEmbed));\n",
       "    }\n",
       "  })({\"config\": {\"view\": {\"continuousWidth\": 400, \"continuousHeight\": 300}}, \"data\": {\"name\": \"data-557ebe95bf2c251ed8896bae9a86386d\"}, \"mark\": \"bar\", \"encoding\": {\"x\": {\"bin\": true, \"field\": \"time_diff\", \"title\": \"Change in time completion\", \"type\": \"quantitative\"}, \"y\": {\"aggregate\": \"count\", \"type\": \"quantitative\"}}, \"title\": \"Histogram of change in time of completion\", \"$schema\": \"https://vega.github.io/schema/vega-lite/v4.17.0.json\", \"datasets\": {\"data-557ebe95bf2c251ed8896bae9a86386d\": [{\"ParticipantId\": \"1\", \"Experimenter\": \"Team\", \"Informed Consent\": \"Yes\", \"LightModeTime\": 76, \"LightModeAccuracy\": 0.96, \"DarkModeTime\": 75, \"DarkModeAccuracy\": 0.97, \"Comfortability_1\": \"Somewhat agree\", \"Comfortability_2\": \"Somewhat disagree\", \"Comfortability_3\": \"Agree\", \"Comfortability_4\": \"Agree\", \"Comfortability_5\": \"Somewhat disagree\", \"OverallDarkComfortScore\": 7, \"OverallLightComfortScore\": 13, \"time_diff\": -1, \"accuracy_diff\": 0.010000000000000009, \"comfort_diff\": -6}, {\"ParticipantId\": \"2\", \"Experimenter\": \"Team\", \"Informed Consent\": \"Yes\", \"LightModeTime\": 62, \"LightModeAccuracy\": 0.97, \"DarkModeTime\": 60, \"DarkModeAccuracy\": 0.96, \"Comfortability_1\": \"Agree\", \"Comfortability_2\": \"Agree\", \"Comfortability_3\": \"Agree\", \"Comfortability_4\": \"Agree\", \"Comfortability_5\": \"Agree\", \"OverallDarkComfortScore\": 14, \"OverallLightComfortScore\": 10, \"time_diff\": -2, \"accuracy_diff\": -0.010000000000000009, \"comfort_diff\": 4}, {\"ParticipantId\": \"3\", \"Experimenter\": \"Team\", \"Informed Consent\": \"Yes\", \"LightModeTime\": 77, \"LightModeAccuracy\": 0.96, \"DarkModeTime\": 72, \"DarkModeAccuracy\": 0.97, \"Comfortability_1\": \"Strongly agree\", \"Comfortability_2\": \"Strongly agree\", \"Comfortability_3\": \"Strongly agree\", \"Comfortability_4\": \"Strongly agree\", \"Comfortability_5\": \"Agree\", \"OverallDarkComfortScore\": 16, \"OverallLightComfortScore\": 12, \"time_diff\": -5, \"accuracy_diff\": 0.010000000000000009, \"comfort_diff\": 4}, {\"ParticipantId\": \"4\", \"Experimenter\": \"Team\", \"Informed Consent\": \"Yes\", \"LightModeTime\": 76, \"LightModeAccuracy\": 0.97, \"DarkModeTime\": 98, \"DarkModeAccuracy\": 0.92, \"Comfortability_1\": \"Somewhat disagree\", \"Comfortability_2\": \"Somewhat agree\", \"Comfortability_3\": \"Agree\", \"Comfortability_4\": \"Neither agree nor disagree\", \"Comfortability_5\": \"Somewhat agree\", \"OverallDarkComfortScore\": 9, \"OverallLightComfortScore\": 9, \"time_diff\": 22, \"accuracy_diff\": -0.04999999999999993, \"comfort_diff\": 0}, {\"ParticipantId\": \"5\", \"Experimenter\": \"Team\", \"Informed Consent\": \"Yes\", \"LightModeTime\": 72, \"LightModeAccuracy\": 0.96, \"DarkModeTime\": 77, \"DarkModeAccuracy\": 0.96, \"Comfortability_1\": \"Strongly agree\", \"Comfortability_2\": \"Strongly agree\", \"Comfortability_3\": \"Agree\", \"Comfortability_4\": \"Agree\", \"Comfortability_5\": \"Agree\", \"OverallDarkComfortScore\": 16, \"OverallLightComfortScore\": 10, \"time_diff\": 5, \"accuracy_diff\": 0.0, \"comfort_diff\": 6}, {\"ParticipantId\": \"6\", \"Experimenter\": \"Team\", \"Informed Consent\": \"Yes\", \"LightModeTime\": 86, \"LightModeAccuracy\": 0.96, \"DarkModeTime\": 88, \"DarkModeAccuracy\": 0.96, \"Comfortability_1\": \"Strongly agree\", \"Comfortability_2\": \"Somewhat agree\", \"Comfortability_3\": \"Strongly agree\", \"Comfortability_4\": \"Strongly agree\", \"Comfortability_5\": \"Neither agree nor disagree\", \"OverallDarkComfortScore\": 12, \"OverallLightComfortScore\": 14, \"time_diff\": 2, \"accuracy_diff\": 0.0, \"comfort_diff\": -2}, {\"ParticipantId\": \"7\", \"Experimenter\": \"Team\", \"Informed Consent\": \"Yes\", \"LightModeTime\": 56, \"LightModeAccuracy\": 0.97, \"DarkModeTime\": 54, \"DarkModeAccuracy\": 0.96, \"Comfortability_1\": \"Somewhat disagree\", \"Comfortability_2\": \"Somewhat disagree\", \"Comfortability_3\": \"Strongly agree\", \"Comfortability_4\": \"Strongly agree\", \"Comfortability_5\": \"Somewhat disagree\", \"OverallDarkComfortScore\": 5, \"OverallLightComfortScore\": 15, \"time_diff\": -2, \"accuracy_diff\": -0.010000000000000009, \"comfort_diff\": -10}, {\"ParticipantId\": \"8\", \"Experimenter\": \"Team\", \"Informed Consent\": \"Yes\", \"LightModeTime\": 53, \"LightModeAccuracy\": 0.95, \"DarkModeTime\": 53, \"DarkModeAccuracy\": 0.94, \"Comfortability_1\": \"Strongly agree\", \"Comfortability_2\": \"Agree\", \"Comfortability_3\": \"Strongly agree\", \"Comfortability_4\": \"Strongly agree\", \"Comfortability_5\": \"Disagree\", \"OverallDarkComfortScore\": 11, \"OverallLightComfortScore\": 16, \"time_diff\": 0, \"accuracy_diff\": -0.010000000000000009, \"comfort_diff\": -5}, {\"ParticipantId\": \"9\", \"Experimenter\": \"Team\", \"Informed Consent\": \"Yes\", \"LightModeTime\": 68, \"LightModeAccuracy\": 0.96, \"DarkModeTime\": 79, \"DarkModeAccuracy\": 0.97, \"Comfortability_1\": \"Neither agree nor disagree\", \"Comfortability_2\": \"Disagree\", \"Comfortability_3\": \"Somewhat disagree\", \"Comfortability_4\": \"Strongly agree\", \"Comfortability_5\": \"Somewhat agree\", \"OverallDarkComfortScore\": 7, \"OverallLightComfortScore\": 9, \"time_diff\": 11, \"accuracy_diff\": 0.010000000000000009, \"comfort_diff\": -2}, {\"ParticipantId\": \"10\", \"Experimenter\": \"Team\", \"Informed Consent\": \"Yes\", \"LightModeTime\": 71, \"LightModeAccuracy\": 0.96, \"DarkModeTime\": 73, \"DarkModeAccuracy\": 0.95, \"Comfortability_1\": \"Strongly agree\", \"Comfortability_2\": \"Strongly agree\", \"Comfortability_3\": \"Somewhat agree\", \"Comfortability_4\": \"Somewhat agree\", \"Comfortability_5\": \"Strongly agree\", \"OverallDarkComfortScore\": 17, \"OverallLightComfortScore\": 7, \"time_diff\": 2, \"accuracy_diff\": -0.010000000000000009, \"comfort_diff\": 10}, {\"ParticipantId\": \"11\", \"Experimenter\": \"Team\", \"Informed Consent\": \"Yes\", \"LightModeTime\": 57, \"LightModeAccuracy\": 0.94, \"DarkModeTime\": 74, \"DarkModeAccuracy\": 0.9, \"Comfortability_1\": \"Strongly agree\", \"Comfortability_2\": \"Strongly agree\", \"Comfortability_3\": \"Strongly agree\", \"Comfortability_4\": \"Strongly agree\", \"Comfortability_5\": \"Somewhat agree\", \"OverallDarkComfortScore\": 15, \"OverallLightComfortScore\": 13, \"time_diff\": 17, \"accuracy_diff\": -0.039999999999999925, \"comfort_diff\": 2}, {\"ParticipantId\": \"12\", \"Experimenter\": \"Team\", \"Informed Consent\": \"Yes\", \"LightModeTime\": 43, \"LightModeAccuracy\": 0.97, \"DarkModeTime\": 46, \"DarkModeAccuracy\": 0.94, \"Comfortability_1\": \"Agree\", \"Comfortability_2\": \"Somewhat agree\", \"Comfortability_3\": \"Somewhat agree\", \"Comfortability_4\": \"Somewhat agree\", \"Comfortability_5\": \"Neither agree nor disagree\", \"OverallDarkComfortScore\": 11, \"OverallLightComfortScore\": 10, \"time_diff\": 3, \"accuracy_diff\": -0.030000000000000027, \"comfort_diff\": 1}, {\"ParticipantId\": \"13\", \"Experimenter\": \"Team\", \"Informed Consent\": \"Yes\", \"LightModeTime\": 46, \"LightModeAccuracy\": 0.93, \"DarkModeTime\": 41, \"DarkModeAccuracy\": 0.94, \"Comfortability_1\": \"Strongly agree\", \"Comfortability_2\": \"Strongly agree\", \"Comfortability_3\": \"Agree\", \"Comfortability_4\": \"Agree\", \"Comfortability_5\": \"Strongly agree\", \"OverallDarkComfortScore\": 17, \"OverallLightComfortScore\": 9, \"time_diff\": -5, \"accuracy_diff\": 0.009999999999999898, \"comfort_diff\": 8}, {\"ParticipantId\": \"14\", \"Experimenter\": \"Team\", \"Informed Consent\": \"Yes\", \"LightModeTime\": 66, \"LightModeAccuracy\": 0.88, \"DarkModeTime\": 67, \"DarkModeAccuracy\": 0.9, \"Comfortability_1\": \"Agree\", \"Comfortability_2\": \"Agree\", \"Comfortability_3\": \"Disagree\", \"Comfortability_4\": \"Agree\", \"Comfortability_5\": \"Somewhat agree\", \"OverallDarkComfortScore\": 13, \"OverallLightComfortScore\": 7, \"time_diff\": 1, \"accuracy_diff\": 0.020000000000000018, \"comfort_diff\": 6}, {\"ParticipantId\": \"15\", \"Experimenter\": \"Team\", \"Informed Consent\": \"Yes\", \"LightModeTime\": 44, \"LightModeAccuracy\": 0.89, \"DarkModeTime\": 56, \"DarkModeAccuracy\": 0.85, \"Comfortability_1\": \"Somewhat agree\", \"Comfortability_2\": \"Agree\", \"Comfortability_3\": \"Agree\", \"Comfortability_4\": \"Agree\", \"Comfortability_5\": \"Neither agree nor disagree\", \"OverallDarkComfortScore\": 11, \"OverallLightComfortScore\": 12, \"time_diff\": 12, \"accuracy_diff\": -0.040000000000000036, \"comfort_diff\": -1}, {\"ParticipantId\": \"16\", \"Experimenter\": \"Oliver\", \"Informed Consent\": \"Yes\", \"LightModeTime\": 79, \"LightModeAccuracy\": 0.94, \"DarkModeTime\": 72, \"DarkModeAccuracy\": 0.95, \"Comfortability_1\": \"Somewhat disagree\", \"Comfortability_2\": \"Neither agree nor disagree\", \"Comfortability_3\": \"Agree\", \"Comfortability_4\": \"Agree\", \"Comfortability_5\": \"Somewhat disagree\", \"OverallDarkComfortScore\": 6, \"OverallLightComfortScore\": 13, \"time_diff\": -7, \"accuracy_diff\": 0.010000000000000009, \"comfort_diff\": -7}, {\"ParticipantId\": \"17\", \"Experimenter\": \"Lawrence\", \"Informed Consent\": \"Yes\", \"LightModeTime\": 67, \"LightModeAccuracy\": 0.97, \"DarkModeTime\": 71, \"DarkModeAccuracy\": 0.93, \"Comfortability_1\": \"Somewhat agree\", \"Comfortability_2\": \"Disagree\", \"Comfortability_3\": \"Agree\", \"Comfortability_4\": \"Agree\", \"Comfortability_5\": \"Disagree\", \"OverallDarkComfortScore\": 5, \"OverallLightComfortScore\": 14, \"time_diff\": 4, \"accuracy_diff\": -0.039999999999999925, \"comfort_diff\": -9}, {\"ParticipantId\": \"18\", \"Experimenter\": \"Oliver\", \"Informed Consent\": \"Yes\", \"LightModeTime\": 78, \"LightModeAccuracy\": 0.92, \"DarkModeTime\": 80, \"DarkModeAccuracy\": 0.93, \"Comfortability_1\": \"Strongly agree\", \"Comfortability_2\": \"Agree\", \"Comfortability_3\": \"Neither agree nor disagree\", \"Comfortability_4\": \"Somewhat agree\", \"Comfortability_5\": \"Strongly agree\", \"OverallDarkComfortScore\": 16, \"OverallLightComfortScore\": 6, \"time_diff\": 2, \"accuracy_diff\": 0.010000000000000009, \"comfort_diff\": 10}, {\"ParticipantId\": \"19\", \"Experimenter\": \"Oliver\", \"Informed Consent\": \"Yes\", \"LightModeTime\": 61, \"LightModeAccuracy\": 0.95, \"DarkModeTime\": 55, \"DarkModeAccuracy\": 0.96, \"Comfortability_1\": \"Agree\", \"Comfortability_2\": \"Agree\", \"Comfortability_3\": \"Agree\", \"Comfortability_4\": \"Agree\", \"Comfortability_5\": \"Somewhat agree\", \"OverallDarkComfortScore\": 13, \"OverallLightComfortScore\": 11, \"time_diff\": -6, \"accuracy_diff\": 0.010000000000000009, \"comfort_diff\": 2}, {\"ParticipantId\": \"20\", \"Experimenter\": \"Oliver\", \"Informed Consent\": \"Yes\", \"LightModeTime\": 57, \"LightModeAccuracy\": 0.96, \"DarkModeTime\": 56, \"DarkModeAccuracy\": 0.99, \"Comfortability_1\": \"Agree\", \"Comfortability_2\": \"Neither agree nor disagree\", \"Comfortability_3\": \"Agree\", \"Comfortability_4\": \"Neither agree nor disagree\", \"Comfortability_5\": \"Somewhat disagree\", \"OverallDarkComfortScore\": 9, \"OverallLightComfortScore\": 11, \"time_diff\": -1, \"accuracy_diff\": 0.030000000000000027, \"comfort_diff\": -2}, {\"ParticipantId\": \"21\", \"Experimenter\": \"Oliver\", \"Informed Consent\": \"Yes\", \"LightModeTime\": 88, \"LightModeAccuracy\": 0.97, \"DarkModeTime\": 92, \"DarkModeAccuracy\": 0.98, \"Comfortability_1\": \"Strongly agree\", \"Comfortability_2\": \"Strongly agree\", \"Comfortability_3\": \"Somewhat disagree\", \"Comfortability_4\": \"Somewhat agree\", \"Comfortability_5\": \"Strongly agree\", \"OverallDarkComfortScore\": 17, \"OverallLightComfortScore\": 5, \"time_diff\": 4, \"accuracy_diff\": 0.010000000000000009, \"comfort_diff\": 12}, {\"ParticipantId\": \"22\", \"Experimenter\": \"Lawrence\", \"Informed Consent\": \"Yes\", \"LightModeTime\": 97, \"LightModeAccuracy\": 0.93, \"DarkModeTime\": 107, \"DarkModeAccuracy\": 0.93, \"Comfortability_1\": \"Agree\", \"Comfortability_2\": \"Agree\", \"Comfortability_3\": \"Agree\", \"Comfortability_4\": \"Disagree\", \"Comfortability_5\": \"Agree\", \"OverallDarkComfortScore\": 14, \"OverallLightComfortScore\": 6, \"time_diff\": 10, \"accuracy_diff\": 0.0, \"comfort_diff\": 8}, {\"ParticipantId\": \"23\", \"Experimenter\": \"Lawrence\", \"Informed Consent\": \"Yes\", \"LightModeTime\": 45, \"LightModeAccuracy\": 0.93, \"DarkModeTime\": 48, \"DarkModeAccuracy\": 0.96, \"Comfortability_1\": \"Strongly agree\", \"Comfortability_2\": \"Strongly agree\", \"Comfortability_3\": \"Strongly agree\", \"Comfortability_4\": \"Strongly agree\", \"Comfortability_5\": \"Disagree\", \"OverallDarkComfortScore\": 12, \"OverallLightComfortScore\": 16, \"time_diff\": 3, \"accuracy_diff\": 0.029999999999999916, \"comfort_diff\": -4}, {\"ParticipantId\": \"24\", \"Experimenter\": \"Lawrence\", \"Informed Consent\": \"Yes\", \"LightModeTime\": 72, \"LightModeAccuracy\": 0.85, \"DarkModeTime\": 70, \"DarkModeAccuracy\": 0.86, \"Comfortability_1\": \"Somewhat agree\", \"Comfortability_2\": \"Somewhat disagree\", \"Comfortability_3\": \"Agree\", \"Comfortability_4\": \"Strongly agree\", \"Comfortability_5\": \"Somewhat disagree\", \"OverallDarkComfortScore\": 7, \"OverallLightComfortScore\": 14, \"time_diff\": -2, \"accuracy_diff\": 0.010000000000000009, \"comfort_diff\": -7}, {\"ParticipantId\": \"25\", \"Experimenter\": \"Lawrence\", \"Informed Consent\": \"Yes\", \"LightModeTime\": 67, \"LightModeAccuracy\": 0.89, \"DarkModeTime\": 61, \"DarkModeAccuracy\": 0.96, \"Comfortability_1\": \"Strongly agree\", \"Comfortability_2\": \"Somewhat agree\", \"Comfortability_3\": \"Somewhat disagree\", \"Comfortability_4\": \"Agree\", \"Comfortability_5\": \"Agree\", \"OverallDarkComfortScore\": 14, \"OverallLightComfortScore\": 7, \"time_diff\": -6, \"accuracy_diff\": 0.06999999999999995, \"comfort_diff\": 7}, {\"ParticipantId\": \"26\", \"Experimenter\": \"Kevin\", \"Informed Consent\": \"Yes\", \"LightModeTime\": 97, \"LightModeAccuracy\": 0.97, \"DarkModeTime\": 102, \"DarkModeAccuracy\": 0.96, \"Comfortability_1\": \"Neither agree nor disagree\", \"Comfortability_2\": \"Neither agree nor disagree\", \"Comfortability_3\": \"Strongly agree\", \"Comfortability_4\": \"Strongly agree\", \"Comfortability_5\": \"Strongly disagree\", \"OverallDarkComfortScore\": 5, \"OverallLightComfortScore\": 17, \"time_diff\": 5, \"accuracy_diff\": -0.010000000000000009, \"comfort_diff\": -12}, {\"ParticipantId\": \"28\", \"Experimenter\": \"Kevin\", \"Informed Consent\": \"Yes\", \"LightModeTime\": 80, \"LightModeAccuracy\": 0.98, \"DarkModeTime\": 72, \"DarkModeAccuracy\": 0.96, \"Comfortability_1\": \"Strongly agree\", \"Comfortability_2\": \"Strongly agree\", \"Comfortability_3\": \"Somewhat disagree\", \"Comfortability_4\": \"Somewhat disagree\", \"Comfortability_5\": \"Strongly agree\", \"OverallDarkComfortScore\": 17, \"OverallLightComfortScore\": 3, \"time_diff\": -8, \"accuracy_diff\": -0.020000000000000018, \"comfort_diff\": 14}, {\"ParticipantId\": \"29\", \"Experimenter\": \"Kevin\", \"Informed Consent\": \"Yes\", \"LightModeTime\": 65, \"LightModeAccuracy\": 0.96, \"DarkModeTime\": 69, \"DarkModeAccuracy\": 0.95, \"Comfortability_1\": \"Strongly agree\", \"Comfortability_2\": \"Strongly agree\", \"Comfortability_3\": \"Strongly agree\", \"Comfortability_4\": \"Strongly agree\", \"Comfortability_5\": \"Neither agree nor disagree\", \"OverallDarkComfortScore\": 14, \"OverallLightComfortScore\": 14, \"time_diff\": 4, \"accuracy_diff\": -0.010000000000000009, \"comfort_diff\": 0}, {\"ParticipantId\": \"30\", \"Experimenter\": \"Kevin\", \"Informed Consent\": \"Yes\", \"LightModeTime\": 72, \"LightModeAccuracy\": 0.94, \"DarkModeTime\": 67, \"DarkModeAccuracy\": 0.97, \"Comfortability_1\": \"Strongly agree\", \"Comfortability_2\": \"Strongly agree\", \"Comfortability_3\": \"Strongly agree\", \"Comfortability_4\": \"Strongly agree\", \"Comfortability_5\": \"Strongly agree\", \"OverallDarkComfortScore\": 17, \"OverallLightComfortScore\": 11, \"time_diff\": -5, \"accuracy_diff\": 0.030000000000000027, \"comfort_diff\": 6}]}}, {\"mode\": \"vega-lite\"});\n",
       "</script>"
      ],
      "text/plain": [
       "alt.Chart(...)"
      ]
     },
     "execution_count": 49,
     "metadata": {},
     "output_type": "execute_result"
    }
   ],
   "source": [
    "alt.Chart(data, title=\"Histogram of change in time of completion\").mark_bar().encode(\n",
    "    x=alt.X(\"time_diff\", bin=True, title=\"Change in time completion\"),\n",
    "    y=\"count()\"\n",
    ")"
   ]
  },
  {
   "cell_type": "markdown",
   "id": "1df66267",
   "metadata": {},
   "source": [
    "# Descriptive Statistics"
   ]
  },
  {
   "cell_type": "code",
   "execution_count": 25,
   "id": "ce77d596",
   "metadata": {},
   "outputs": [
    {
     "name": "stdout",
     "output_type": "stream",
     "text": [
      "Dark: mean = 70.17, SD = 16.41\n",
      "Light: mean = 68.21, SD = 14.59\n"
     ]
    }
   ],
   "source": [
    "darkModeTimeSTD = data.DarkModeTime.std()\n",
    "darkModeTimeMean = data.DarkModeTime.mean()\n",
    "\n",
    "lightModeTimeSTD = data.LightModeTime.std()\n",
    "lightModeTimeMean = data.LightModeTime.mean()\n",
    "\n",
    "print(\"Dark: mean = %.2f, SD = %.2f\" % (darkModeTimeMean, darkModeTimeSTD))\n",
    "print(\"Light: mean = %.2f, SD = %.2f\" % (lightModeTimeMean, lightModeTimeSTD))"
   ]
  },
  {
   "cell_type": "markdown",
   "id": "f3196c18",
   "metadata": {},
   "source": [
    "# One-Tailed Paired Samples T-test"
   ]
  },
  {
   "cell_type": "code",
   "execution_count": 58,
   "id": "498ca2e3",
   "metadata": {},
   "outputs": [
    {
     "data": {
      "text/plain": [
       "Ttest_relResult(statistic=1.4816444479936035, pvalue=0.9251988711048994)"
      ]
     },
     "execution_count": 58,
     "metadata": {},
     "output_type": "execute_result"
    }
   ],
   "source": [
    "scipy.stats.ttest_rel(data.DarkModeTime, data.LightModeTime, alternative='less')"
   ]
  },
  {
   "cell_type": "markdown",
   "id": "2cfe7fe1",
   "metadata": {},
   "source": [
    "Since we have an overall $\\alpha$ of 0.05 and we are running 3 total tests, we need to correct for multiple comparisons by doing Bonferroni's correction to find an adjusted $\\alpha$ of $0.05 / 3$. The p-value of 0.925 is above our corrected $\\alpha$ of 0.017, so we do not have statistically significant results."
   ]
  },
  {
   "cell_type": "markdown",
   "id": "911c2f4e",
   "metadata": {},
   "source": [
    "# Effect Size"
   ]
  },
  {
   "cell_type": "code",
   "execution_count": 27,
   "id": "06afa96d",
   "metadata": {},
   "outputs": [
    {
     "data": {
      "text/plain": [
       "0.27513446682832354"
      ]
     },
     "execution_count": 27,
     "metadata": {},
     "output_type": "execute_result"
    }
   ],
   "source": [
    "cohen_d_time = data.time_diff.mean() / data.time_diff.std()\n",
    "cohen_d_time"
   ]
  },
  {
   "cell_type": "markdown",
   "id": "510846b1",
   "metadata": {},
   "source": [
    "This means that there is only a small effect because the value of 0.275 is in the range between 0.2 and 0.5 and this is classified as the small range"
   ]
  },
  {
   "cell_type": "markdown",
   "id": "d625f8da",
   "metadata": {},
   "source": [
    "# Confidence Intervals"
   ]
  },
  {
   "cell_type": "code",
   "execution_count": 37,
   "id": "c0c15487",
   "metadata": {},
   "outputs": [
    {
     "data": {
      "text/plain": [
       "(-0.6345282751497667, 4.5655627579083875)"
      ]
     },
     "execution_count": 37,
     "metadata": {},
     "output_type": "execute_result"
    }
   ],
   "source": [
    "bounds_time = scipy.stats.norm.interval(alpha=0.95, loc=data.time_diff.mean(), scale=scipy.stats.sem(data.time_diff))\n",
    "bounds_time"
   ]
  },
  {
   "cell_type": "markdown",
   "id": "b674c8f4",
   "metadata": {},
   "source": [
    "This tells us that 95% of the time, the true mean difference between the times for typing 100 words in light and dark mode falls between -0.63 and 4.57 units. This lines up with the fact that we didn't reject the null hypothesis (since we didn't get a statistically significant result) because 0 is within this range, meaning there could be no difference in dark and light mode typing times. If there's no difference, then the mean time for dark mode isn't less than the mean time for light mode."
   ]
  },
  {
   "cell_type": "markdown",
   "id": "d6a0bdb8",
   "metadata": {},
   "source": [
    "# Data Visualization"
   ]
  },
  {
   "cell_type": "code",
   "execution_count": 52,
   "id": "99d542c8",
   "metadata": {},
   "outputs": [
    {
     "data": {
      "text/html": [
       "\n",
       "<div id=\"altair-viz-9bb2f80cebb74116b4c02bb43de462a0\"></div>\n",
       "<script type=\"text/javascript\">\n",
       "  var VEGA_DEBUG = (typeof VEGA_DEBUG == \"undefined\") ? {} : VEGA_DEBUG;\n",
       "  (function(spec, embedOpt){\n",
       "    let outputDiv = document.currentScript.previousElementSibling;\n",
       "    if (outputDiv.id !== \"altair-viz-9bb2f80cebb74116b4c02bb43de462a0\") {\n",
       "      outputDiv = document.getElementById(\"altair-viz-9bb2f80cebb74116b4c02bb43de462a0\");\n",
       "    }\n",
       "    const paths = {\n",
       "      \"vega\": \"https://cdn.jsdelivr.net/npm//vega@5?noext\",\n",
       "      \"vega-lib\": \"https://cdn.jsdelivr.net/npm//vega-lib?noext\",\n",
       "      \"vega-lite\": \"https://cdn.jsdelivr.net/npm//vega-lite@4.17.0?noext\",\n",
       "      \"vega-embed\": \"https://cdn.jsdelivr.net/npm//vega-embed@6?noext\",\n",
       "    };\n",
       "\n",
       "    function maybeLoadScript(lib, version) {\n",
       "      var key = `${lib.replace(\"-\", \"\")}_version`;\n",
       "      return (VEGA_DEBUG[key] == version) ?\n",
       "        Promise.resolve(paths[lib]) :\n",
       "        new Promise(function(resolve, reject) {\n",
       "          var s = document.createElement('script');\n",
       "          document.getElementsByTagName(\"head\")[0].appendChild(s);\n",
       "          s.async = true;\n",
       "          s.onload = () => {\n",
       "            VEGA_DEBUG[key] = version;\n",
       "            return resolve(paths[lib]);\n",
       "          };\n",
       "          s.onerror = () => reject(`Error loading script: ${paths[lib]}`);\n",
       "          s.src = paths[lib];\n",
       "        });\n",
       "    }\n",
       "\n",
       "    function showError(err) {\n",
       "      outputDiv.innerHTML = `<div class=\"error\" style=\"color:red;\">${err}</div>`;\n",
       "      throw err;\n",
       "    }\n",
       "\n",
       "    function displayChart(vegaEmbed) {\n",
       "      vegaEmbed(outputDiv, spec, embedOpt)\n",
       "        .catch(err => showError(`Javascript Error: ${err.message}<br>This usually means there's a typo in your chart specification. See the javascript console for the full traceback.`));\n",
       "    }\n",
       "\n",
       "    if(typeof define === \"function\" && define.amd) {\n",
       "      requirejs.config({paths});\n",
       "      require([\"vega-embed\"], displayChart, err => showError(`Error loading script: ${err.message}`));\n",
       "    } else {\n",
       "      maybeLoadScript(\"vega\", \"5\")\n",
       "        .then(() => maybeLoadScript(\"vega-lite\", \"4.17.0\"))\n",
       "        .then(() => maybeLoadScript(\"vega-embed\", \"6\"))\n",
       "        .catch(showError)\n",
       "        .then(() => displayChart(vegaEmbed));\n",
       "    }\n",
       "  })({\"config\": {\"view\": {\"continuousWidth\": 400, \"continuousHeight\": 300}}, \"data\": {\"name\": \"data-557ebe95bf2c251ed8896bae9a86386d\"}, \"mark\": \"bar\", \"encoding\": {\"x\": {\"field\": \"ParticipantId\", \"type\": \"nominal\"}, \"y\": {\"field\": \"LightModeTime\", \"type\": \"quantitative\"}}, \"$schema\": \"https://vega.github.io/schema/vega-lite/v4.17.0.json\", \"datasets\": {\"data-557ebe95bf2c251ed8896bae9a86386d\": [{\"ParticipantId\": \"1\", \"Experimenter\": \"Team\", \"Informed Consent\": \"Yes\", \"LightModeTime\": 76, \"LightModeAccuracy\": 0.96, \"DarkModeTime\": 75, \"DarkModeAccuracy\": 0.97, \"Comfortability_1\": \"Somewhat agree\", \"Comfortability_2\": \"Somewhat disagree\", \"Comfortability_3\": \"Agree\", \"Comfortability_4\": \"Agree\", \"Comfortability_5\": \"Somewhat disagree\", \"OverallDarkComfortScore\": 7, \"OverallLightComfortScore\": 13, \"time_diff\": -1, \"accuracy_diff\": 0.010000000000000009, \"comfort_diff\": -6}, {\"ParticipantId\": \"2\", \"Experimenter\": \"Team\", \"Informed Consent\": \"Yes\", \"LightModeTime\": 62, \"LightModeAccuracy\": 0.97, \"DarkModeTime\": 60, \"DarkModeAccuracy\": 0.96, \"Comfortability_1\": \"Agree\", \"Comfortability_2\": \"Agree\", \"Comfortability_3\": \"Agree\", \"Comfortability_4\": \"Agree\", \"Comfortability_5\": \"Agree\", \"OverallDarkComfortScore\": 14, \"OverallLightComfortScore\": 10, \"time_diff\": -2, \"accuracy_diff\": -0.010000000000000009, \"comfort_diff\": 4}, {\"ParticipantId\": \"3\", \"Experimenter\": \"Team\", \"Informed Consent\": \"Yes\", \"LightModeTime\": 77, \"LightModeAccuracy\": 0.96, \"DarkModeTime\": 72, \"DarkModeAccuracy\": 0.97, \"Comfortability_1\": \"Strongly agree\", \"Comfortability_2\": \"Strongly agree\", \"Comfortability_3\": \"Strongly agree\", \"Comfortability_4\": \"Strongly agree\", \"Comfortability_5\": \"Agree\", \"OverallDarkComfortScore\": 16, \"OverallLightComfortScore\": 12, \"time_diff\": -5, \"accuracy_diff\": 0.010000000000000009, \"comfort_diff\": 4}, {\"ParticipantId\": \"4\", \"Experimenter\": \"Team\", \"Informed Consent\": \"Yes\", \"LightModeTime\": 76, \"LightModeAccuracy\": 0.97, \"DarkModeTime\": 98, \"DarkModeAccuracy\": 0.92, \"Comfortability_1\": \"Somewhat disagree\", \"Comfortability_2\": \"Somewhat agree\", \"Comfortability_3\": \"Agree\", \"Comfortability_4\": \"Neither agree nor disagree\", \"Comfortability_5\": \"Somewhat agree\", \"OverallDarkComfortScore\": 9, \"OverallLightComfortScore\": 9, \"time_diff\": 22, \"accuracy_diff\": -0.04999999999999993, \"comfort_diff\": 0}, {\"ParticipantId\": \"5\", \"Experimenter\": \"Team\", \"Informed Consent\": \"Yes\", \"LightModeTime\": 72, \"LightModeAccuracy\": 0.96, \"DarkModeTime\": 77, \"DarkModeAccuracy\": 0.96, \"Comfortability_1\": \"Strongly agree\", \"Comfortability_2\": \"Strongly agree\", \"Comfortability_3\": \"Agree\", \"Comfortability_4\": \"Agree\", \"Comfortability_5\": \"Agree\", \"OverallDarkComfortScore\": 16, \"OverallLightComfortScore\": 10, \"time_diff\": 5, \"accuracy_diff\": 0.0, \"comfort_diff\": 6}, {\"ParticipantId\": \"6\", \"Experimenter\": \"Team\", \"Informed Consent\": \"Yes\", \"LightModeTime\": 86, \"LightModeAccuracy\": 0.96, \"DarkModeTime\": 88, \"DarkModeAccuracy\": 0.96, \"Comfortability_1\": \"Strongly agree\", \"Comfortability_2\": \"Somewhat agree\", \"Comfortability_3\": \"Strongly agree\", \"Comfortability_4\": \"Strongly agree\", \"Comfortability_5\": \"Neither agree nor disagree\", \"OverallDarkComfortScore\": 12, \"OverallLightComfortScore\": 14, \"time_diff\": 2, \"accuracy_diff\": 0.0, \"comfort_diff\": -2}, {\"ParticipantId\": \"7\", \"Experimenter\": \"Team\", \"Informed Consent\": \"Yes\", \"LightModeTime\": 56, \"LightModeAccuracy\": 0.97, \"DarkModeTime\": 54, \"DarkModeAccuracy\": 0.96, \"Comfortability_1\": \"Somewhat disagree\", \"Comfortability_2\": \"Somewhat disagree\", \"Comfortability_3\": \"Strongly agree\", \"Comfortability_4\": \"Strongly agree\", \"Comfortability_5\": \"Somewhat disagree\", \"OverallDarkComfortScore\": 5, \"OverallLightComfortScore\": 15, \"time_diff\": -2, \"accuracy_diff\": -0.010000000000000009, \"comfort_diff\": -10}, {\"ParticipantId\": \"8\", \"Experimenter\": \"Team\", \"Informed Consent\": \"Yes\", \"LightModeTime\": 53, \"LightModeAccuracy\": 0.95, \"DarkModeTime\": 53, \"DarkModeAccuracy\": 0.94, \"Comfortability_1\": \"Strongly agree\", \"Comfortability_2\": \"Agree\", \"Comfortability_3\": \"Strongly agree\", \"Comfortability_4\": \"Strongly agree\", \"Comfortability_5\": \"Disagree\", \"OverallDarkComfortScore\": 11, \"OverallLightComfortScore\": 16, \"time_diff\": 0, \"accuracy_diff\": -0.010000000000000009, \"comfort_diff\": -5}, {\"ParticipantId\": \"9\", \"Experimenter\": \"Team\", \"Informed Consent\": \"Yes\", \"LightModeTime\": 68, \"LightModeAccuracy\": 0.96, \"DarkModeTime\": 79, \"DarkModeAccuracy\": 0.97, \"Comfortability_1\": \"Neither agree nor disagree\", \"Comfortability_2\": \"Disagree\", \"Comfortability_3\": \"Somewhat disagree\", \"Comfortability_4\": \"Strongly agree\", \"Comfortability_5\": \"Somewhat agree\", \"OverallDarkComfortScore\": 7, \"OverallLightComfortScore\": 9, \"time_diff\": 11, \"accuracy_diff\": 0.010000000000000009, \"comfort_diff\": -2}, {\"ParticipantId\": \"10\", \"Experimenter\": \"Team\", \"Informed Consent\": \"Yes\", \"LightModeTime\": 71, \"LightModeAccuracy\": 0.96, \"DarkModeTime\": 73, \"DarkModeAccuracy\": 0.95, \"Comfortability_1\": \"Strongly agree\", \"Comfortability_2\": \"Strongly agree\", \"Comfortability_3\": \"Somewhat agree\", \"Comfortability_4\": \"Somewhat agree\", \"Comfortability_5\": \"Strongly agree\", \"OverallDarkComfortScore\": 17, \"OverallLightComfortScore\": 7, \"time_diff\": 2, \"accuracy_diff\": -0.010000000000000009, \"comfort_diff\": 10}, {\"ParticipantId\": \"11\", \"Experimenter\": \"Team\", \"Informed Consent\": \"Yes\", \"LightModeTime\": 57, \"LightModeAccuracy\": 0.94, \"DarkModeTime\": 74, \"DarkModeAccuracy\": 0.9, \"Comfortability_1\": \"Strongly agree\", \"Comfortability_2\": \"Strongly agree\", \"Comfortability_3\": \"Strongly agree\", \"Comfortability_4\": \"Strongly agree\", \"Comfortability_5\": \"Somewhat agree\", \"OverallDarkComfortScore\": 15, \"OverallLightComfortScore\": 13, \"time_diff\": 17, \"accuracy_diff\": -0.039999999999999925, \"comfort_diff\": 2}, {\"ParticipantId\": \"12\", \"Experimenter\": \"Team\", \"Informed Consent\": \"Yes\", \"LightModeTime\": 43, \"LightModeAccuracy\": 0.97, \"DarkModeTime\": 46, \"DarkModeAccuracy\": 0.94, \"Comfortability_1\": \"Agree\", \"Comfortability_2\": \"Somewhat agree\", \"Comfortability_3\": \"Somewhat agree\", \"Comfortability_4\": \"Somewhat agree\", \"Comfortability_5\": \"Neither agree nor disagree\", \"OverallDarkComfortScore\": 11, \"OverallLightComfortScore\": 10, \"time_diff\": 3, \"accuracy_diff\": -0.030000000000000027, \"comfort_diff\": 1}, {\"ParticipantId\": \"13\", \"Experimenter\": \"Team\", \"Informed Consent\": \"Yes\", \"LightModeTime\": 46, \"LightModeAccuracy\": 0.93, \"DarkModeTime\": 41, \"DarkModeAccuracy\": 0.94, \"Comfortability_1\": \"Strongly agree\", \"Comfortability_2\": \"Strongly agree\", \"Comfortability_3\": \"Agree\", \"Comfortability_4\": \"Agree\", \"Comfortability_5\": \"Strongly agree\", \"OverallDarkComfortScore\": 17, \"OverallLightComfortScore\": 9, \"time_diff\": -5, \"accuracy_diff\": 0.009999999999999898, \"comfort_diff\": 8}, {\"ParticipantId\": \"14\", \"Experimenter\": \"Team\", \"Informed Consent\": \"Yes\", \"LightModeTime\": 66, \"LightModeAccuracy\": 0.88, \"DarkModeTime\": 67, \"DarkModeAccuracy\": 0.9, \"Comfortability_1\": \"Agree\", \"Comfortability_2\": \"Agree\", \"Comfortability_3\": \"Disagree\", \"Comfortability_4\": \"Agree\", \"Comfortability_5\": \"Somewhat agree\", \"OverallDarkComfortScore\": 13, \"OverallLightComfortScore\": 7, \"time_diff\": 1, \"accuracy_diff\": 0.020000000000000018, \"comfort_diff\": 6}, {\"ParticipantId\": \"15\", \"Experimenter\": \"Team\", \"Informed Consent\": \"Yes\", \"LightModeTime\": 44, \"LightModeAccuracy\": 0.89, \"DarkModeTime\": 56, \"DarkModeAccuracy\": 0.85, \"Comfortability_1\": \"Somewhat agree\", \"Comfortability_2\": \"Agree\", \"Comfortability_3\": \"Agree\", \"Comfortability_4\": \"Agree\", \"Comfortability_5\": \"Neither agree nor disagree\", \"OverallDarkComfortScore\": 11, \"OverallLightComfortScore\": 12, \"time_diff\": 12, \"accuracy_diff\": -0.040000000000000036, \"comfort_diff\": -1}, {\"ParticipantId\": \"16\", \"Experimenter\": \"Oliver\", \"Informed Consent\": \"Yes\", \"LightModeTime\": 79, \"LightModeAccuracy\": 0.94, \"DarkModeTime\": 72, \"DarkModeAccuracy\": 0.95, \"Comfortability_1\": \"Somewhat disagree\", \"Comfortability_2\": \"Neither agree nor disagree\", \"Comfortability_3\": \"Agree\", \"Comfortability_4\": \"Agree\", \"Comfortability_5\": \"Somewhat disagree\", \"OverallDarkComfortScore\": 6, \"OverallLightComfortScore\": 13, \"time_diff\": -7, \"accuracy_diff\": 0.010000000000000009, \"comfort_diff\": -7}, {\"ParticipantId\": \"17\", \"Experimenter\": \"Lawrence\", \"Informed Consent\": \"Yes\", \"LightModeTime\": 67, \"LightModeAccuracy\": 0.97, \"DarkModeTime\": 71, \"DarkModeAccuracy\": 0.93, \"Comfortability_1\": \"Somewhat agree\", \"Comfortability_2\": \"Disagree\", \"Comfortability_3\": \"Agree\", \"Comfortability_4\": \"Agree\", \"Comfortability_5\": \"Disagree\", \"OverallDarkComfortScore\": 5, \"OverallLightComfortScore\": 14, \"time_diff\": 4, \"accuracy_diff\": -0.039999999999999925, \"comfort_diff\": -9}, {\"ParticipantId\": \"18\", \"Experimenter\": \"Oliver\", \"Informed Consent\": \"Yes\", \"LightModeTime\": 78, \"LightModeAccuracy\": 0.92, \"DarkModeTime\": 80, \"DarkModeAccuracy\": 0.93, \"Comfortability_1\": \"Strongly agree\", \"Comfortability_2\": \"Agree\", \"Comfortability_3\": \"Neither agree nor disagree\", \"Comfortability_4\": \"Somewhat agree\", \"Comfortability_5\": \"Strongly agree\", \"OverallDarkComfortScore\": 16, \"OverallLightComfortScore\": 6, \"time_diff\": 2, \"accuracy_diff\": 0.010000000000000009, \"comfort_diff\": 10}, {\"ParticipantId\": \"19\", \"Experimenter\": \"Oliver\", \"Informed Consent\": \"Yes\", \"LightModeTime\": 61, \"LightModeAccuracy\": 0.95, \"DarkModeTime\": 55, \"DarkModeAccuracy\": 0.96, \"Comfortability_1\": \"Agree\", \"Comfortability_2\": \"Agree\", \"Comfortability_3\": \"Agree\", \"Comfortability_4\": \"Agree\", \"Comfortability_5\": \"Somewhat agree\", \"OverallDarkComfortScore\": 13, \"OverallLightComfortScore\": 11, \"time_diff\": -6, \"accuracy_diff\": 0.010000000000000009, \"comfort_diff\": 2}, {\"ParticipantId\": \"20\", \"Experimenter\": \"Oliver\", \"Informed Consent\": \"Yes\", \"LightModeTime\": 57, \"LightModeAccuracy\": 0.96, \"DarkModeTime\": 56, \"DarkModeAccuracy\": 0.99, \"Comfortability_1\": \"Agree\", \"Comfortability_2\": \"Neither agree nor disagree\", \"Comfortability_3\": \"Agree\", \"Comfortability_4\": \"Neither agree nor disagree\", \"Comfortability_5\": \"Somewhat disagree\", \"OverallDarkComfortScore\": 9, \"OverallLightComfortScore\": 11, \"time_diff\": -1, \"accuracy_diff\": 0.030000000000000027, \"comfort_diff\": -2}, {\"ParticipantId\": \"21\", \"Experimenter\": \"Oliver\", \"Informed Consent\": \"Yes\", \"LightModeTime\": 88, \"LightModeAccuracy\": 0.97, \"DarkModeTime\": 92, \"DarkModeAccuracy\": 0.98, \"Comfortability_1\": \"Strongly agree\", \"Comfortability_2\": \"Strongly agree\", \"Comfortability_3\": \"Somewhat disagree\", \"Comfortability_4\": \"Somewhat agree\", \"Comfortability_5\": \"Strongly agree\", \"OverallDarkComfortScore\": 17, \"OverallLightComfortScore\": 5, \"time_diff\": 4, \"accuracy_diff\": 0.010000000000000009, \"comfort_diff\": 12}, {\"ParticipantId\": \"22\", \"Experimenter\": \"Lawrence\", \"Informed Consent\": \"Yes\", \"LightModeTime\": 97, \"LightModeAccuracy\": 0.93, \"DarkModeTime\": 107, \"DarkModeAccuracy\": 0.93, \"Comfortability_1\": \"Agree\", \"Comfortability_2\": \"Agree\", \"Comfortability_3\": \"Agree\", \"Comfortability_4\": \"Disagree\", \"Comfortability_5\": \"Agree\", \"OverallDarkComfortScore\": 14, \"OverallLightComfortScore\": 6, \"time_diff\": 10, \"accuracy_diff\": 0.0, \"comfort_diff\": 8}, {\"ParticipantId\": \"23\", \"Experimenter\": \"Lawrence\", \"Informed Consent\": \"Yes\", \"LightModeTime\": 45, \"LightModeAccuracy\": 0.93, \"DarkModeTime\": 48, \"DarkModeAccuracy\": 0.96, \"Comfortability_1\": \"Strongly agree\", \"Comfortability_2\": \"Strongly agree\", \"Comfortability_3\": \"Strongly agree\", \"Comfortability_4\": \"Strongly agree\", \"Comfortability_5\": \"Disagree\", \"OverallDarkComfortScore\": 12, \"OverallLightComfortScore\": 16, \"time_diff\": 3, \"accuracy_diff\": 0.029999999999999916, \"comfort_diff\": -4}, {\"ParticipantId\": \"24\", \"Experimenter\": \"Lawrence\", \"Informed Consent\": \"Yes\", \"LightModeTime\": 72, \"LightModeAccuracy\": 0.85, \"DarkModeTime\": 70, \"DarkModeAccuracy\": 0.86, \"Comfortability_1\": \"Somewhat agree\", \"Comfortability_2\": \"Somewhat disagree\", \"Comfortability_3\": \"Agree\", \"Comfortability_4\": \"Strongly agree\", \"Comfortability_5\": \"Somewhat disagree\", \"OverallDarkComfortScore\": 7, \"OverallLightComfortScore\": 14, \"time_diff\": -2, \"accuracy_diff\": 0.010000000000000009, \"comfort_diff\": -7}, {\"ParticipantId\": \"25\", \"Experimenter\": \"Lawrence\", \"Informed Consent\": \"Yes\", \"LightModeTime\": 67, \"LightModeAccuracy\": 0.89, \"DarkModeTime\": 61, \"DarkModeAccuracy\": 0.96, \"Comfortability_1\": \"Strongly agree\", \"Comfortability_2\": \"Somewhat agree\", \"Comfortability_3\": \"Somewhat disagree\", \"Comfortability_4\": \"Agree\", \"Comfortability_5\": \"Agree\", \"OverallDarkComfortScore\": 14, \"OverallLightComfortScore\": 7, \"time_diff\": -6, \"accuracy_diff\": 0.06999999999999995, \"comfort_diff\": 7}, {\"ParticipantId\": \"26\", \"Experimenter\": \"Kevin\", \"Informed Consent\": \"Yes\", \"LightModeTime\": 97, \"LightModeAccuracy\": 0.97, \"DarkModeTime\": 102, \"DarkModeAccuracy\": 0.96, \"Comfortability_1\": \"Neither agree nor disagree\", \"Comfortability_2\": \"Neither agree nor disagree\", \"Comfortability_3\": \"Strongly agree\", \"Comfortability_4\": \"Strongly agree\", \"Comfortability_5\": \"Strongly disagree\", \"OverallDarkComfortScore\": 5, \"OverallLightComfortScore\": 17, \"time_diff\": 5, \"accuracy_diff\": -0.010000000000000009, \"comfort_diff\": -12}, {\"ParticipantId\": \"28\", \"Experimenter\": \"Kevin\", \"Informed Consent\": \"Yes\", \"LightModeTime\": 80, \"LightModeAccuracy\": 0.98, \"DarkModeTime\": 72, \"DarkModeAccuracy\": 0.96, \"Comfortability_1\": \"Strongly agree\", \"Comfortability_2\": \"Strongly agree\", \"Comfortability_3\": \"Somewhat disagree\", \"Comfortability_4\": \"Somewhat disagree\", \"Comfortability_5\": \"Strongly agree\", \"OverallDarkComfortScore\": 17, \"OverallLightComfortScore\": 3, \"time_diff\": -8, \"accuracy_diff\": -0.020000000000000018, \"comfort_diff\": 14}, {\"ParticipantId\": \"29\", \"Experimenter\": \"Kevin\", \"Informed Consent\": \"Yes\", \"LightModeTime\": 65, \"LightModeAccuracy\": 0.96, \"DarkModeTime\": 69, \"DarkModeAccuracy\": 0.95, \"Comfortability_1\": \"Strongly agree\", \"Comfortability_2\": \"Strongly agree\", \"Comfortability_3\": \"Strongly agree\", \"Comfortability_4\": \"Strongly agree\", \"Comfortability_5\": \"Neither agree nor disagree\", \"OverallDarkComfortScore\": 14, \"OverallLightComfortScore\": 14, \"time_diff\": 4, \"accuracy_diff\": -0.010000000000000009, \"comfort_diff\": 0}, {\"ParticipantId\": \"30\", \"Experimenter\": \"Kevin\", \"Informed Consent\": \"Yes\", \"LightModeTime\": 72, \"LightModeAccuracy\": 0.94, \"DarkModeTime\": 67, \"DarkModeAccuracy\": 0.97, \"Comfortability_1\": \"Strongly agree\", \"Comfortability_2\": \"Strongly agree\", \"Comfortability_3\": \"Strongly agree\", \"Comfortability_4\": \"Strongly agree\", \"Comfortability_5\": \"Strongly agree\", \"OverallDarkComfortScore\": 17, \"OverallLightComfortScore\": 11, \"time_diff\": -5, \"accuracy_diff\": 0.030000000000000027, \"comfort_diff\": 6}]}}, {\"mode\": \"vega-lite\"});\n",
       "</script>"
      ],
      "text/plain": [
       "alt.Chart(...)"
      ]
     },
     "execution_count": 52,
     "metadata": {},
     "output_type": "execute_result"
    }
   ],
   "source": [
    "alt.Chart(data).mark_bar().encode(\n",
    "    x='ParticipantId',\n",
    "    y='LightModeTime'\n",
    ")"
   ]
  },
  {
   "cell_type": "code",
   "execution_count": 53,
   "id": "367f36f3",
   "metadata": {},
   "outputs": [
    {
     "data": {
      "text/html": [
       "\n",
       "<div id=\"altair-viz-0c7d73e0d9284acb977c052fb6765d2e\"></div>\n",
       "<script type=\"text/javascript\">\n",
       "  var VEGA_DEBUG = (typeof VEGA_DEBUG == \"undefined\") ? {} : VEGA_DEBUG;\n",
       "  (function(spec, embedOpt){\n",
       "    let outputDiv = document.currentScript.previousElementSibling;\n",
       "    if (outputDiv.id !== \"altair-viz-0c7d73e0d9284acb977c052fb6765d2e\") {\n",
       "      outputDiv = document.getElementById(\"altair-viz-0c7d73e0d9284acb977c052fb6765d2e\");\n",
       "    }\n",
       "    const paths = {\n",
       "      \"vega\": \"https://cdn.jsdelivr.net/npm//vega@5?noext\",\n",
       "      \"vega-lib\": \"https://cdn.jsdelivr.net/npm//vega-lib?noext\",\n",
       "      \"vega-lite\": \"https://cdn.jsdelivr.net/npm//vega-lite@4.17.0?noext\",\n",
       "      \"vega-embed\": \"https://cdn.jsdelivr.net/npm//vega-embed@6?noext\",\n",
       "    };\n",
       "\n",
       "    function maybeLoadScript(lib, version) {\n",
       "      var key = `${lib.replace(\"-\", \"\")}_version`;\n",
       "      return (VEGA_DEBUG[key] == version) ?\n",
       "        Promise.resolve(paths[lib]) :\n",
       "        new Promise(function(resolve, reject) {\n",
       "          var s = document.createElement('script');\n",
       "          document.getElementsByTagName(\"head\")[0].appendChild(s);\n",
       "          s.async = true;\n",
       "          s.onload = () => {\n",
       "            VEGA_DEBUG[key] = version;\n",
       "            return resolve(paths[lib]);\n",
       "          };\n",
       "          s.onerror = () => reject(`Error loading script: ${paths[lib]}`);\n",
       "          s.src = paths[lib];\n",
       "        });\n",
       "    }\n",
       "\n",
       "    function showError(err) {\n",
       "      outputDiv.innerHTML = `<div class=\"error\" style=\"color:red;\">${err}</div>`;\n",
       "      throw err;\n",
       "    }\n",
       "\n",
       "    function displayChart(vegaEmbed) {\n",
       "      vegaEmbed(outputDiv, spec, embedOpt)\n",
       "        .catch(err => showError(`Javascript Error: ${err.message}<br>This usually means there's a typo in your chart specification. See the javascript console for the full traceback.`));\n",
       "    }\n",
       "\n",
       "    if(typeof define === \"function\" && define.amd) {\n",
       "      requirejs.config({paths});\n",
       "      require([\"vega-embed\"], displayChart, err => showError(`Error loading script: ${err.message}`));\n",
       "    } else {\n",
       "      maybeLoadScript(\"vega\", \"5\")\n",
       "        .then(() => maybeLoadScript(\"vega-lite\", \"4.17.0\"))\n",
       "        .then(() => maybeLoadScript(\"vega-embed\", \"6\"))\n",
       "        .catch(showError)\n",
       "        .then(() => displayChart(vegaEmbed));\n",
       "    }\n",
       "  })({\"config\": {\"view\": {\"continuousWidth\": 400, \"continuousHeight\": 300}}, \"data\": {\"name\": \"data-557ebe95bf2c251ed8896bae9a86386d\"}, \"mark\": \"bar\", \"encoding\": {\"x\": {\"field\": \"ParticipantId\", \"type\": \"nominal\"}, \"y\": {\"field\": \"DarkModeTime\", \"type\": \"quantitative\"}}, \"$schema\": \"https://vega.github.io/schema/vega-lite/v4.17.0.json\", \"datasets\": {\"data-557ebe95bf2c251ed8896bae9a86386d\": [{\"ParticipantId\": \"1\", \"Experimenter\": \"Team\", \"Informed Consent\": \"Yes\", \"LightModeTime\": 76, \"LightModeAccuracy\": 0.96, \"DarkModeTime\": 75, \"DarkModeAccuracy\": 0.97, \"Comfortability_1\": \"Somewhat agree\", \"Comfortability_2\": \"Somewhat disagree\", \"Comfortability_3\": \"Agree\", \"Comfortability_4\": \"Agree\", \"Comfortability_5\": \"Somewhat disagree\", \"OverallDarkComfortScore\": 7, \"OverallLightComfortScore\": 13, \"time_diff\": -1, \"accuracy_diff\": 0.010000000000000009, \"comfort_diff\": -6}, {\"ParticipantId\": \"2\", \"Experimenter\": \"Team\", \"Informed Consent\": \"Yes\", \"LightModeTime\": 62, \"LightModeAccuracy\": 0.97, \"DarkModeTime\": 60, \"DarkModeAccuracy\": 0.96, \"Comfortability_1\": \"Agree\", \"Comfortability_2\": \"Agree\", \"Comfortability_3\": \"Agree\", \"Comfortability_4\": \"Agree\", \"Comfortability_5\": \"Agree\", \"OverallDarkComfortScore\": 14, \"OverallLightComfortScore\": 10, \"time_diff\": -2, \"accuracy_diff\": -0.010000000000000009, \"comfort_diff\": 4}, {\"ParticipantId\": \"3\", \"Experimenter\": \"Team\", \"Informed Consent\": \"Yes\", \"LightModeTime\": 77, \"LightModeAccuracy\": 0.96, \"DarkModeTime\": 72, \"DarkModeAccuracy\": 0.97, \"Comfortability_1\": \"Strongly agree\", \"Comfortability_2\": \"Strongly agree\", \"Comfortability_3\": \"Strongly agree\", \"Comfortability_4\": \"Strongly agree\", \"Comfortability_5\": \"Agree\", \"OverallDarkComfortScore\": 16, \"OverallLightComfortScore\": 12, \"time_diff\": -5, \"accuracy_diff\": 0.010000000000000009, \"comfort_diff\": 4}, {\"ParticipantId\": \"4\", \"Experimenter\": \"Team\", \"Informed Consent\": \"Yes\", \"LightModeTime\": 76, \"LightModeAccuracy\": 0.97, \"DarkModeTime\": 98, \"DarkModeAccuracy\": 0.92, \"Comfortability_1\": \"Somewhat disagree\", \"Comfortability_2\": \"Somewhat agree\", \"Comfortability_3\": \"Agree\", \"Comfortability_4\": \"Neither agree nor disagree\", \"Comfortability_5\": \"Somewhat agree\", \"OverallDarkComfortScore\": 9, \"OverallLightComfortScore\": 9, \"time_diff\": 22, \"accuracy_diff\": -0.04999999999999993, \"comfort_diff\": 0}, {\"ParticipantId\": \"5\", \"Experimenter\": \"Team\", \"Informed Consent\": \"Yes\", \"LightModeTime\": 72, \"LightModeAccuracy\": 0.96, \"DarkModeTime\": 77, \"DarkModeAccuracy\": 0.96, \"Comfortability_1\": \"Strongly agree\", \"Comfortability_2\": \"Strongly agree\", \"Comfortability_3\": \"Agree\", \"Comfortability_4\": \"Agree\", \"Comfortability_5\": \"Agree\", \"OverallDarkComfortScore\": 16, \"OverallLightComfortScore\": 10, \"time_diff\": 5, \"accuracy_diff\": 0.0, \"comfort_diff\": 6}, {\"ParticipantId\": \"6\", \"Experimenter\": \"Team\", \"Informed Consent\": \"Yes\", \"LightModeTime\": 86, \"LightModeAccuracy\": 0.96, \"DarkModeTime\": 88, \"DarkModeAccuracy\": 0.96, \"Comfortability_1\": \"Strongly agree\", \"Comfortability_2\": \"Somewhat agree\", \"Comfortability_3\": \"Strongly agree\", \"Comfortability_4\": \"Strongly agree\", \"Comfortability_5\": \"Neither agree nor disagree\", \"OverallDarkComfortScore\": 12, \"OverallLightComfortScore\": 14, \"time_diff\": 2, \"accuracy_diff\": 0.0, \"comfort_diff\": -2}, {\"ParticipantId\": \"7\", \"Experimenter\": \"Team\", \"Informed Consent\": \"Yes\", \"LightModeTime\": 56, \"LightModeAccuracy\": 0.97, \"DarkModeTime\": 54, \"DarkModeAccuracy\": 0.96, \"Comfortability_1\": \"Somewhat disagree\", \"Comfortability_2\": \"Somewhat disagree\", \"Comfortability_3\": \"Strongly agree\", \"Comfortability_4\": \"Strongly agree\", \"Comfortability_5\": \"Somewhat disagree\", \"OverallDarkComfortScore\": 5, \"OverallLightComfortScore\": 15, \"time_diff\": -2, \"accuracy_diff\": -0.010000000000000009, \"comfort_diff\": -10}, {\"ParticipantId\": \"8\", \"Experimenter\": \"Team\", \"Informed Consent\": \"Yes\", \"LightModeTime\": 53, \"LightModeAccuracy\": 0.95, \"DarkModeTime\": 53, \"DarkModeAccuracy\": 0.94, \"Comfortability_1\": \"Strongly agree\", \"Comfortability_2\": \"Agree\", \"Comfortability_3\": \"Strongly agree\", \"Comfortability_4\": \"Strongly agree\", \"Comfortability_5\": \"Disagree\", \"OverallDarkComfortScore\": 11, \"OverallLightComfortScore\": 16, \"time_diff\": 0, \"accuracy_diff\": -0.010000000000000009, \"comfort_diff\": -5}, {\"ParticipantId\": \"9\", \"Experimenter\": \"Team\", \"Informed Consent\": \"Yes\", \"LightModeTime\": 68, \"LightModeAccuracy\": 0.96, \"DarkModeTime\": 79, \"DarkModeAccuracy\": 0.97, \"Comfortability_1\": \"Neither agree nor disagree\", \"Comfortability_2\": \"Disagree\", \"Comfortability_3\": \"Somewhat disagree\", \"Comfortability_4\": \"Strongly agree\", \"Comfortability_5\": \"Somewhat agree\", \"OverallDarkComfortScore\": 7, \"OverallLightComfortScore\": 9, \"time_diff\": 11, \"accuracy_diff\": 0.010000000000000009, \"comfort_diff\": -2}, {\"ParticipantId\": \"10\", \"Experimenter\": \"Team\", \"Informed Consent\": \"Yes\", \"LightModeTime\": 71, \"LightModeAccuracy\": 0.96, \"DarkModeTime\": 73, \"DarkModeAccuracy\": 0.95, \"Comfortability_1\": \"Strongly agree\", \"Comfortability_2\": \"Strongly agree\", \"Comfortability_3\": \"Somewhat agree\", \"Comfortability_4\": \"Somewhat agree\", \"Comfortability_5\": \"Strongly agree\", \"OverallDarkComfortScore\": 17, \"OverallLightComfortScore\": 7, \"time_diff\": 2, \"accuracy_diff\": -0.010000000000000009, \"comfort_diff\": 10}, {\"ParticipantId\": \"11\", \"Experimenter\": \"Team\", \"Informed Consent\": \"Yes\", \"LightModeTime\": 57, \"LightModeAccuracy\": 0.94, \"DarkModeTime\": 74, \"DarkModeAccuracy\": 0.9, \"Comfortability_1\": \"Strongly agree\", \"Comfortability_2\": \"Strongly agree\", \"Comfortability_3\": \"Strongly agree\", \"Comfortability_4\": \"Strongly agree\", \"Comfortability_5\": \"Somewhat agree\", \"OverallDarkComfortScore\": 15, \"OverallLightComfortScore\": 13, \"time_diff\": 17, \"accuracy_diff\": -0.039999999999999925, \"comfort_diff\": 2}, {\"ParticipantId\": \"12\", \"Experimenter\": \"Team\", \"Informed Consent\": \"Yes\", \"LightModeTime\": 43, \"LightModeAccuracy\": 0.97, \"DarkModeTime\": 46, \"DarkModeAccuracy\": 0.94, \"Comfortability_1\": \"Agree\", \"Comfortability_2\": \"Somewhat agree\", \"Comfortability_3\": \"Somewhat agree\", \"Comfortability_4\": \"Somewhat agree\", \"Comfortability_5\": \"Neither agree nor disagree\", \"OverallDarkComfortScore\": 11, \"OverallLightComfortScore\": 10, \"time_diff\": 3, \"accuracy_diff\": -0.030000000000000027, \"comfort_diff\": 1}, {\"ParticipantId\": \"13\", \"Experimenter\": \"Team\", \"Informed Consent\": \"Yes\", \"LightModeTime\": 46, \"LightModeAccuracy\": 0.93, \"DarkModeTime\": 41, \"DarkModeAccuracy\": 0.94, \"Comfortability_1\": \"Strongly agree\", \"Comfortability_2\": \"Strongly agree\", \"Comfortability_3\": \"Agree\", \"Comfortability_4\": \"Agree\", \"Comfortability_5\": \"Strongly agree\", \"OverallDarkComfortScore\": 17, \"OverallLightComfortScore\": 9, \"time_diff\": -5, \"accuracy_diff\": 0.009999999999999898, \"comfort_diff\": 8}, {\"ParticipantId\": \"14\", \"Experimenter\": \"Team\", \"Informed Consent\": \"Yes\", \"LightModeTime\": 66, \"LightModeAccuracy\": 0.88, \"DarkModeTime\": 67, \"DarkModeAccuracy\": 0.9, \"Comfortability_1\": \"Agree\", \"Comfortability_2\": \"Agree\", \"Comfortability_3\": \"Disagree\", \"Comfortability_4\": \"Agree\", \"Comfortability_5\": \"Somewhat agree\", \"OverallDarkComfortScore\": 13, \"OverallLightComfortScore\": 7, \"time_diff\": 1, \"accuracy_diff\": 0.020000000000000018, \"comfort_diff\": 6}, {\"ParticipantId\": \"15\", \"Experimenter\": \"Team\", \"Informed Consent\": \"Yes\", \"LightModeTime\": 44, \"LightModeAccuracy\": 0.89, \"DarkModeTime\": 56, \"DarkModeAccuracy\": 0.85, \"Comfortability_1\": \"Somewhat agree\", \"Comfortability_2\": \"Agree\", \"Comfortability_3\": \"Agree\", \"Comfortability_4\": \"Agree\", \"Comfortability_5\": \"Neither agree nor disagree\", \"OverallDarkComfortScore\": 11, \"OverallLightComfortScore\": 12, \"time_diff\": 12, \"accuracy_diff\": -0.040000000000000036, \"comfort_diff\": -1}, {\"ParticipantId\": \"16\", \"Experimenter\": \"Oliver\", \"Informed Consent\": \"Yes\", \"LightModeTime\": 79, \"LightModeAccuracy\": 0.94, \"DarkModeTime\": 72, \"DarkModeAccuracy\": 0.95, \"Comfortability_1\": \"Somewhat disagree\", \"Comfortability_2\": \"Neither agree nor disagree\", \"Comfortability_3\": \"Agree\", \"Comfortability_4\": \"Agree\", \"Comfortability_5\": \"Somewhat disagree\", \"OverallDarkComfortScore\": 6, \"OverallLightComfortScore\": 13, \"time_diff\": -7, \"accuracy_diff\": 0.010000000000000009, \"comfort_diff\": -7}, {\"ParticipantId\": \"17\", \"Experimenter\": \"Lawrence\", \"Informed Consent\": \"Yes\", \"LightModeTime\": 67, \"LightModeAccuracy\": 0.97, \"DarkModeTime\": 71, \"DarkModeAccuracy\": 0.93, \"Comfortability_1\": \"Somewhat agree\", \"Comfortability_2\": \"Disagree\", \"Comfortability_3\": \"Agree\", \"Comfortability_4\": \"Agree\", \"Comfortability_5\": \"Disagree\", \"OverallDarkComfortScore\": 5, \"OverallLightComfortScore\": 14, \"time_diff\": 4, \"accuracy_diff\": -0.039999999999999925, \"comfort_diff\": -9}, {\"ParticipantId\": \"18\", \"Experimenter\": \"Oliver\", \"Informed Consent\": \"Yes\", \"LightModeTime\": 78, \"LightModeAccuracy\": 0.92, \"DarkModeTime\": 80, \"DarkModeAccuracy\": 0.93, \"Comfortability_1\": \"Strongly agree\", \"Comfortability_2\": \"Agree\", \"Comfortability_3\": \"Neither agree nor disagree\", \"Comfortability_4\": \"Somewhat agree\", \"Comfortability_5\": \"Strongly agree\", \"OverallDarkComfortScore\": 16, \"OverallLightComfortScore\": 6, \"time_diff\": 2, \"accuracy_diff\": 0.010000000000000009, \"comfort_diff\": 10}, {\"ParticipantId\": \"19\", \"Experimenter\": \"Oliver\", \"Informed Consent\": \"Yes\", \"LightModeTime\": 61, \"LightModeAccuracy\": 0.95, \"DarkModeTime\": 55, \"DarkModeAccuracy\": 0.96, \"Comfortability_1\": \"Agree\", \"Comfortability_2\": \"Agree\", \"Comfortability_3\": \"Agree\", \"Comfortability_4\": \"Agree\", \"Comfortability_5\": \"Somewhat agree\", \"OverallDarkComfortScore\": 13, \"OverallLightComfortScore\": 11, \"time_diff\": -6, \"accuracy_diff\": 0.010000000000000009, \"comfort_diff\": 2}, {\"ParticipantId\": \"20\", \"Experimenter\": \"Oliver\", \"Informed Consent\": \"Yes\", \"LightModeTime\": 57, \"LightModeAccuracy\": 0.96, \"DarkModeTime\": 56, \"DarkModeAccuracy\": 0.99, \"Comfortability_1\": \"Agree\", \"Comfortability_2\": \"Neither agree nor disagree\", \"Comfortability_3\": \"Agree\", \"Comfortability_4\": \"Neither agree nor disagree\", \"Comfortability_5\": \"Somewhat disagree\", \"OverallDarkComfortScore\": 9, \"OverallLightComfortScore\": 11, \"time_diff\": -1, \"accuracy_diff\": 0.030000000000000027, \"comfort_diff\": -2}, {\"ParticipantId\": \"21\", \"Experimenter\": \"Oliver\", \"Informed Consent\": \"Yes\", \"LightModeTime\": 88, \"LightModeAccuracy\": 0.97, \"DarkModeTime\": 92, \"DarkModeAccuracy\": 0.98, \"Comfortability_1\": \"Strongly agree\", \"Comfortability_2\": \"Strongly agree\", \"Comfortability_3\": \"Somewhat disagree\", \"Comfortability_4\": \"Somewhat agree\", \"Comfortability_5\": \"Strongly agree\", \"OverallDarkComfortScore\": 17, \"OverallLightComfortScore\": 5, \"time_diff\": 4, \"accuracy_diff\": 0.010000000000000009, \"comfort_diff\": 12}, {\"ParticipantId\": \"22\", \"Experimenter\": \"Lawrence\", \"Informed Consent\": \"Yes\", \"LightModeTime\": 97, \"LightModeAccuracy\": 0.93, \"DarkModeTime\": 107, \"DarkModeAccuracy\": 0.93, \"Comfortability_1\": \"Agree\", \"Comfortability_2\": \"Agree\", \"Comfortability_3\": \"Agree\", \"Comfortability_4\": \"Disagree\", \"Comfortability_5\": \"Agree\", \"OverallDarkComfortScore\": 14, \"OverallLightComfortScore\": 6, \"time_diff\": 10, \"accuracy_diff\": 0.0, \"comfort_diff\": 8}, {\"ParticipantId\": \"23\", \"Experimenter\": \"Lawrence\", \"Informed Consent\": \"Yes\", \"LightModeTime\": 45, \"LightModeAccuracy\": 0.93, \"DarkModeTime\": 48, \"DarkModeAccuracy\": 0.96, \"Comfortability_1\": \"Strongly agree\", \"Comfortability_2\": \"Strongly agree\", \"Comfortability_3\": \"Strongly agree\", \"Comfortability_4\": \"Strongly agree\", \"Comfortability_5\": \"Disagree\", \"OverallDarkComfortScore\": 12, \"OverallLightComfortScore\": 16, \"time_diff\": 3, \"accuracy_diff\": 0.029999999999999916, \"comfort_diff\": -4}, {\"ParticipantId\": \"24\", \"Experimenter\": \"Lawrence\", \"Informed Consent\": \"Yes\", \"LightModeTime\": 72, \"LightModeAccuracy\": 0.85, \"DarkModeTime\": 70, \"DarkModeAccuracy\": 0.86, \"Comfortability_1\": \"Somewhat agree\", \"Comfortability_2\": \"Somewhat disagree\", \"Comfortability_3\": \"Agree\", \"Comfortability_4\": \"Strongly agree\", \"Comfortability_5\": \"Somewhat disagree\", \"OverallDarkComfortScore\": 7, \"OverallLightComfortScore\": 14, \"time_diff\": -2, \"accuracy_diff\": 0.010000000000000009, \"comfort_diff\": -7}, {\"ParticipantId\": \"25\", \"Experimenter\": \"Lawrence\", \"Informed Consent\": \"Yes\", \"LightModeTime\": 67, \"LightModeAccuracy\": 0.89, \"DarkModeTime\": 61, \"DarkModeAccuracy\": 0.96, \"Comfortability_1\": \"Strongly agree\", \"Comfortability_2\": \"Somewhat agree\", \"Comfortability_3\": \"Somewhat disagree\", \"Comfortability_4\": \"Agree\", \"Comfortability_5\": \"Agree\", \"OverallDarkComfortScore\": 14, \"OverallLightComfortScore\": 7, \"time_diff\": -6, \"accuracy_diff\": 0.06999999999999995, \"comfort_diff\": 7}, {\"ParticipantId\": \"26\", \"Experimenter\": \"Kevin\", \"Informed Consent\": \"Yes\", \"LightModeTime\": 97, \"LightModeAccuracy\": 0.97, \"DarkModeTime\": 102, \"DarkModeAccuracy\": 0.96, \"Comfortability_1\": \"Neither agree nor disagree\", \"Comfortability_2\": \"Neither agree nor disagree\", \"Comfortability_3\": \"Strongly agree\", \"Comfortability_4\": \"Strongly agree\", \"Comfortability_5\": \"Strongly disagree\", \"OverallDarkComfortScore\": 5, \"OverallLightComfortScore\": 17, \"time_diff\": 5, \"accuracy_diff\": -0.010000000000000009, \"comfort_diff\": -12}, {\"ParticipantId\": \"28\", \"Experimenter\": \"Kevin\", \"Informed Consent\": \"Yes\", \"LightModeTime\": 80, \"LightModeAccuracy\": 0.98, \"DarkModeTime\": 72, \"DarkModeAccuracy\": 0.96, \"Comfortability_1\": \"Strongly agree\", \"Comfortability_2\": \"Strongly agree\", \"Comfortability_3\": \"Somewhat disagree\", \"Comfortability_4\": \"Somewhat disagree\", \"Comfortability_5\": \"Strongly agree\", \"OverallDarkComfortScore\": 17, \"OverallLightComfortScore\": 3, \"time_diff\": -8, \"accuracy_diff\": -0.020000000000000018, \"comfort_diff\": 14}, {\"ParticipantId\": \"29\", \"Experimenter\": \"Kevin\", \"Informed Consent\": \"Yes\", \"LightModeTime\": 65, \"LightModeAccuracy\": 0.96, \"DarkModeTime\": 69, \"DarkModeAccuracy\": 0.95, \"Comfortability_1\": \"Strongly agree\", \"Comfortability_2\": \"Strongly agree\", \"Comfortability_3\": \"Strongly agree\", \"Comfortability_4\": \"Strongly agree\", \"Comfortability_5\": \"Neither agree nor disagree\", \"OverallDarkComfortScore\": 14, \"OverallLightComfortScore\": 14, \"time_diff\": 4, \"accuracy_diff\": -0.010000000000000009, \"comfort_diff\": 0}, {\"ParticipantId\": \"30\", \"Experimenter\": \"Kevin\", \"Informed Consent\": \"Yes\", \"LightModeTime\": 72, \"LightModeAccuracy\": 0.94, \"DarkModeTime\": 67, \"DarkModeAccuracy\": 0.97, \"Comfortability_1\": \"Strongly agree\", \"Comfortability_2\": \"Strongly agree\", \"Comfortability_3\": \"Strongly agree\", \"Comfortability_4\": \"Strongly agree\", \"Comfortability_5\": \"Strongly agree\", \"OverallDarkComfortScore\": 17, \"OverallLightComfortScore\": 11, \"time_diff\": -5, \"accuracy_diff\": 0.030000000000000027, \"comfort_diff\": 6}]}}, {\"mode\": \"vega-lite\"});\n",
       "</script>"
      ],
      "text/plain": [
       "alt.Chart(...)"
      ]
     },
     "execution_count": 53,
     "metadata": {},
     "output_type": "execute_result"
    }
   ],
   "source": [
    "alt.Chart(data).mark_bar().encode(\n",
    "    x='ParticipantId',\n",
    "    y='DarkModeTime'\n",
    ")"
   ]
  },
  {
   "cell_type": "markdown",
   "id": "95d27ca7",
   "metadata": {},
   "source": [
    "# Hypothesis 2: Using Dark Mode will result in higher accuracy scores"
   ]
  },
  {
   "cell_type": "markdown",
   "id": "50ccc881",
   "metadata": {},
   "source": [
    "$H_0: \\mu_{AD} = \\mu_{AL}$\n",
    "\n",
    "$H_A: \\mu_{AD} > \\mu_{AL}$"
   ]
  },
  {
   "cell_type": "markdown",
   "id": "708eb765",
   "metadata": {},
   "source": [
    "# Assumption Checks"
   ]
  },
  {
   "cell_type": "code",
   "execution_count": 31,
   "id": "edd159ee",
   "metadata": {},
   "outputs": [
    {
     "data": {
      "text/plain": [
       "ShapiroResult(statistic=0.9397556185722351, pvalue=0.09880173206329346)"
      ]
     },
     "execution_count": 31,
     "metadata": {},
     "output_type": "execute_result"
    }
   ],
   "source": [
    "scipy.stats.shapiro(data.accuracy_diff)"
   ]
  },
  {
   "cell_type": "markdown",
   "id": "cba22329",
   "metadata": {},
   "source": [
    "Assumption was met because we got a p-value of 0.099 which is greater than our adjusted $\\alpha$ of 0.017"
   ]
  },
  {
   "cell_type": "code",
   "execution_count": 32,
   "id": "8be70473",
   "metadata": {},
   "outputs": [
    {
     "data": {
      "text/html": [
       "\n",
       "<div id=\"altair-viz-4ca9bb15aaeb4dbfaa6cd3fe12bc32d6\"></div>\n",
       "<script type=\"text/javascript\">\n",
       "  var VEGA_DEBUG = (typeof VEGA_DEBUG == \"undefined\") ? {} : VEGA_DEBUG;\n",
       "  (function(spec, embedOpt){\n",
       "    let outputDiv = document.currentScript.previousElementSibling;\n",
       "    if (outputDiv.id !== \"altair-viz-4ca9bb15aaeb4dbfaa6cd3fe12bc32d6\") {\n",
       "      outputDiv = document.getElementById(\"altair-viz-4ca9bb15aaeb4dbfaa6cd3fe12bc32d6\");\n",
       "    }\n",
       "    const paths = {\n",
       "      \"vega\": \"https://cdn.jsdelivr.net/npm//vega@5?noext\",\n",
       "      \"vega-lib\": \"https://cdn.jsdelivr.net/npm//vega-lib?noext\",\n",
       "      \"vega-lite\": \"https://cdn.jsdelivr.net/npm//vega-lite@4.17.0?noext\",\n",
       "      \"vega-embed\": \"https://cdn.jsdelivr.net/npm//vega-embed@6?noext\",\n",
       "    };\n",
       "\n",
       "    function maybeLoadScript(lib, version) {\n",
       "      var key = `${lib.replace(\"-\", \"\")}_version`;\n",
       "      return (VEGA_DEBUG[key] == version) ?\n",
       "        Promise.resolve(paths[lib]) :\n",
       "        new Promise(function(resolve, reject) {\n",
       "          var s = document.createElement('script');\n",
       "          document.getElementsByTagName(\"head\")[0].appendChild(s);\n",
       "          s.async = true;\n",
       "          s.onload = () => {\n",
       "            VEGA_DEBUG[key] = version;\n",
       "            return resolve(paths[lib]);\n",
       "          };\n",
       "          s.onerror = () => reject(`Error loading script: ${paths[lib]}`);\n",
       "          s.src = paths[lib];\n",
       "        });\n",
       "    }\n",
       "\n",
       "    function showError(err) {\n",
       "      outputDiv.innerHTML = `<div class=\"error\" style=\"color:red;\">${err}</div>`;\n",
       "      throw err;\n",
       "    }\n",
       "\n",
       "    function displayChart(vegaEmbed) {\n",
       "      vegaEmbed(outputDiv, spec, embedOpt)\n",
       "        .catch(err => showError(`Javascript Error: ${err.message}<br>This usually means there's a typo in your chart specification. See the javascript console for the full traceback.`));\n",
       "    }\n",
       "\n",
       "    if(typeof define === \"function\" && define.amd) {\n",
       "      requirejs.config({paths});\n",
       "      require([\"vega-embed\"], displayChart, err => showError(`Error loading script: ${err.message}`));\n",
       "    } else {\n",
       "      maybeLoadScript(\"vega\", \"5\")\n",
       "        .then(() => maybeLoadScript(\"vega-lite\", \"4.17.0\"))\n",
       "        .then(() => maybeLoadScript(\"vega-embed\", \"6\"))\n",
       "        .catch(showError)\n",
       "        .then(() => displayChart(vegaEmbed));\n",
       "    }\n",
       "  })({\"config\": {\"view\": {\"continuousWidth\": 400, \"continuousHeight\": 300}}, \"data\": {\"name\": \"data-557ebe95bf2c251ed8896bae9a86386d\"}, \"mark\": \"bar\", \"encoding\": {\"x\": {\"bin\": true, \"field\": \"accuracy_diff\", \"title\": \"Change in typing accuracy\", \"type\": \"quantitative\"}, \"y\": {\"aggregate\": \"count\", \"type\": \"quantitative\"}}, \"title\": \"Histogram of change in typing accuracy\", \"$schema\": \"https://vega.github.io/schema/vega-lite/v4.17.0.json\", \"datasets\": {\"data-557ebe95bf2c251ed8896bae9a86386d\": [{\"ParticipantId\": \"1\", \"Experimenter\": \"Team\", \"Informed Consent\": \"Yes\", \"LightModeTime\": 76, \"LightModeAccuracy\": 0.96, \"DarkModeTime\": 75, \"DarkModeAccuracy\": 0.97, \"Comfortability_1\": \"Somewhat agree\", \"Comfortability_2\": \"Somewhat disagree\", \"Comfortability_3\": \"Agree\", \"Comfortability_4\": \"Agree\", \"Comfortability_5\": \"Somewhat disagree\", \"OverallDarkComfortScore\": 7, \"OverallLightComfortScore\": 13, \"time_diff\": -1, \"accuracy_diff\": 0.010000000000000009, \"comfort_diff\": -6}, {\"ParticipantId\": \"2\", \"Experimenter\": \"Team\", \"Informed Consent\": \"Yes\", \"LightModeTime\": 62, \"LightModeAccuracy\": 0.97, \"DarkModeTime\": 60, \"DarkModeAccuracy\": 0.96, \"Comfortability_1\": \"Agree\", \"Comfortability_2\": \"Agree\", \"Comfortability_3\": \"Agree\", \"Comfortability_4\": \"Agree\", \"Comfortability_5\": \"Agree\", \"OverallDarkComfortScore\": 14, \"OverallLightComfortScore\": 10, \"time_diff\": -2, \"accuracy_diff\": -0.010000000000000009, \"comfort_diff\": 4}, {\"ParticipantId\": \"3\", \"Experimenter\": \"Team\", \"Informed Consent\": \"Yes\", \"LightModeTime\": 77, \"LightModeAccuracy\": 0.96, \"DarkModeTime\": 72, \"DarkModeAccuracy\": 0.97, \"Comfortability_1\": \"Strongly agree\", \"Comfortability_2\": \"Strongly agree\", \"Comfortability_3\": \"Strongly agree\", \"Comfortability_4\": \"Strongly agree\", \"Comfortability_5\": \"Agree\", \"OverallDarkComfortScore\": 16, \"OverallLightComfortScore\": 12, \"time_diff\": -5, \"accuracy_diff\": 0.010000000000000009, \"comfort_diff\": 4}, {\"ParticipantId\": \"4\", \"Experimenter\": \"Team\", \"Informed Consent\": \"Yes\", \"LightModeTime\": 76, \"LightModeAccuracy\": 0.97, \"DarkModeTime\": 98, \"DarkModeAccuracy\": 0.92, \"Comfortability_1\": \"Somewhat disagree\", \"Comfortability_2\": \"Somewhat agree\", \"Comfortability_3\": \"Agree\", \"Comfortability_4\": \"Neither agree nor disagree\", \"Comfortability_5\": \"Somewhat agree\", \"OverallDarkComfortScore\": 9, \"OverallLightComfortScore\": 9, \"time_diff\": 22, \"accuracy_diff\": -0.04999999999999993, \"comfort_diff\": 0}, {\"ParticipantId\": \"5\", \"Experimenter\": \"Team\", \"Informed Consent\": \"Yes\", \"LightModeTime\": 72, \"LightModeAccuracy\": 0.96, \"DarkModeTime\": 77, \"DarkModeAccuracy\": 0.96, \"Comfortability_1\": \"Strongly agree\", \"Comfortability_2\": \"Strongly agree\", \"Comfortability_3\": \"Agree\", \"Comfortability_4\": \"Agree\", \"Comfortability_5\": \"Agree\", \"OverallDarkComfortScore\": 16, \"OverallLightComfortScore\": 10, \"time_diff\": 5, \"accuracy_diff\": 0.0, \"comfort_diff\": 6}, {\"ParticipantId\": \"6\", \"Experimenter\": \"Team\", \"Informed Consent\": \"Yes\", \"LightModeTime\": 86, \"LightModeAccuracy\": 0.96, \"DarkModeTime\": 88, \"DarkModeAccuracy\": 0.96, \"Comfortability_1\": \"Strongly agree\", \"Comfortability_2\": \"Somewhat agree\", \"Comfortability_3\": \"Strongly agree\", \"Comfortability_4\": \"Strongly agree\", \"Comfortability_5\": \"Neither agree nor disagree\", \"OverallDarkComfortScore\": 12, \"OverallLightComfortScore\": 14, \"time_diff\": 2, \"accuracy_diff\": 0.0, \"comfort_diff\": -2}, {\"ParticipantId\": \"7\", \"Experimenter\": \"Team\", \"Informed Consent\": \"Yes\", \"LightModeTime\": 56, \"LightModeAccuracy\": 0.97, \"DarkModeTime\": 54, \"DarkModeAccuracy\": 0.96, \"Comfortability_1\": \"Somewhat disagree\", \"Comfortability_2\": \"Somewhat disagree\", \"Comfortability_3\": \"Strongly agree\", \"Comfortability_4\": \"Strongly agree\", \"Comfortability_5\": \"Somewhat disagree\", \"OverallDarkComfortScore\": 5, \"OverallLightComfortScore\": 15, \"time_diff\": -2, \"accuracy_diff\": -0.010000000000000009, \"comfort_diff\": -10}, {\"ParticipantId\": \"8\", \"Experimenter\": \"Team\", \"Informed Consent\": \"Yes\", \"LightModeTime\": 53, \"LightModeAccuracy\": 0.95, \"DarkModeTime\": 53, \"DarkModeAccuracy\": 0.94, \"Comfortability_1\": \"Strongly agree\", \"Comfortability_2\": \"Agree\", \"Comfortability_3\": \"Strongly agree\", \"Comfortability_4\": \"Strongly agree\", \"Comfortability_5\": \"Disagree\", \"OverallDarkComfortScore\": 11, \"OverallLightComfortScore\": 16, \"time_diff\": 0, \"accuracy_diff\": -0.010000000000000009, \"comfort_diff\": -5}, {\"ParticipantId\": \"9\", \"Experimenter\": \"Team\", \"Informed Consent\": \"Yes\", \"LightModeTime\": 68, \"LightModeAccuracy\": 0.96, \"DarkModeTime\": 79, \"DarkModeAccuracy\": 0.97, \"Comfortability_1\": \"Neither agree nor disagree\", \"Comfortability_2\": \"Disagree\", \"Comfortability_3\": \"Somewhat disagree\", \"Comfortability_4\": \"Strongly agree\", \"Comfortability_5\": \"Somewhat agree\", \"OverallDarkComfortScore\": 7, \"OverallLightComfortScore\": 9, \"time_diff\": 11, \"accuracy_diff\": 0.010000000000000009, \"comfort_diff\": -2}, {\"ParticipantId\": \"10\", \"Experimenter\": \"Team\", \"Informed Consent\": \"Yes\", \"LightModeTime\": 71, \"LightModeAccuracy\": 0.96, \"DarkModeTime\": 73, \"DarkModeAccuracy\": 0.95, \"Comfortability_1\": \"Strongly agree\", \"Comfortability_2\": \"Strongly agree\", \"Comfortability_3\": \"Somewhat agree\", \"Comfortability_4\": \"Somewhat agree\", \"Comfortability_5\": \"Strongly agree\", \"OverallDarkComfortScore\": 17, \"OverallLightComfortScore\": 7, \"time_diff\": 2, \"accuracy_diff\": -0.010000000000000009, \"comfort_diff\": 10}, {\"ParticipantId\": \"11\", \"Experimenter\": \"Team\", \"Informed Consent\": \"Yes\", \"LightModeTime\": 57, \"LightModeAccuracy\": 0.94, \"DarkModeTime\": 74, \"DarkModeAccuracy\": 0.9, \"Comfortability_1\": \"Strongly agree\", \"Comfortability_2\": \"Strongly agree\", \"Comfortability_3\": \"Strongly agree\", \"Comfortability_4\": \"Strongly agree\", \"Comfortability_5\": \"Somewhat agree\", \"OverallDarkComfortScore\": 15, \"OverallLightComfortScore\": 13, \"time_diff\": 17, \"accuracy_diff\": -0.039999999999999925, \"comfort_diff\": 2}, {\"ParticipantId\": \"12\", \"Experimenter\": \"Team\", \"Informed Consent\": \"Yes\", \"LightModeTime\": 43, \"LightModeAccuracy\": 0.97, \"DarkModeTime\": 46, \"DarkModeAccuracy\": 0.94, \"Comfortability_1\": \"Agree\", \"Comfortability_2\": \"Somewhat agree\", \"Comfortability_3\": \"Somewhat agree\", \"Comfortability_4\": \"Somewhat agree\", \"Comfortability_5\": \"Neither agree nor disagree\", \"OverallDarkComfortScore\": 11, \"OverallLightComfortScore\": 10, \"time_diff\": 3, \"accuracy_diff\": -0.030000000000000027, \"comfort_diff\": 1}, {\"ParticipantId\": \"13\", \"Experimenter\": \"Team\", \"Informed Consent\": \"Yes\", \"LightModeTime\": 46, \"LightModeAccuracy\": 0.93, \"DarkModeTime\": 41, \"DarkModeAccuracy\": 0.94, \"Comfortability_1\": \"Strongly agree\", \"Comfortability_2\": \"Strongly agree\", \"Comfortability_3\": \"Agree\", \"Comfortability_4\": \"Agree\", \"Comfortability_5\": \"Strongly agree\", \"OverallDarkComfortScore\": 17, \"OverallLightComfortScore\": 9, \"time_diff\": -5, \"accuracy_diff\": 0.009999999999999898, \"comfort_diff\": 8}, {\"ParticipantId\": \"14\", \"Experimenter\": \"Team\", \"Informed Consent\": \"Yes\", \"LightModeTime\": 66, \"LightModeAccuracy\": 0.88, \"DarkModeTime\": 67, \"DarkModeAccuracy\": 0.9, \"Comfortability_1\": \"Agree\", \"Comfortability_2\": \"Agree\", \"Comfortability_3\": \"Disagree\", \"Comfortability_4\": \"Agree\", \"Comfortability_5\": \"Somewhat agree\", \"OverallDarkComfortScore\": 13, \"OverallLightComfortScore\": 7, \"time_diff\": 1, \"accuracy_diff\": 0.020000000000000018, \"comfort_diff\": 6}, {\"ParticipantId\": \"15\", \"Experimenter\": \"Team\", \"Informed Consent\": \"Yes\", \"LightModeTime\": 44, \"LightModeAccuracy\": 0.89, \"DarkModeTime\": 56, \"DarkModeAccuracy\": 0.85, \"Comfortability_1\": \"Somewhat agree\", \"Comfortability_2\": \"Agree\", \"Comfortability_3\": \"Agree\", \"Comfortability_4\": \"Agree\", \"Comfortability_5\": \"Neither agree nor disagree\", \"OverallDarkComfortScore\": 11, \"OverallLightComfortScore\": 12, \"time_diff\": 12, \"accuracy_diff\": -0.040000000000000036, \"comfort_diff\": -1}, {\"ParticipantId\": \"16\", \"Experimenter\": \"Oliver\", \"Informed Consent\": \"Yes\", \"LightModeTime\": 79, \"LightModeAccuracy\": 0.94, \"DarkModeTime\": 72, \"DarkModeAccuracy\": 0.95, \"Comfortability_1\": \"Somewhat disagree\", \"Comfortability_2\": \"Neither agree nor disagree\", \"Comfortability_3\": \"Agree\", \"Comfortability_4\": \"Agree\", \"Comfortability_5\": \"Somewhat disagree\", \"OverallDarkComfortScore\": 6, \"OverallLightComfortScore\": 13, \"time_diff\": -7, \"accuracy_diff\": 0.010000000000000009, \"comfort_diff\": -7}, {\"ParticipantId\": \"17\", \"Experimenter\": \"Lawrence\", \"Informed Consent\": \"Yes\", \"LightModeTime\": 67, \"LightModeAccuracy\": 0.97, \"DarkModeTime\": 71, \"DarkModeAccuracy\": 0.93, \"Comfortability_1\": \"Somewhat agree\", \"Comfortability_2\": \"Disagree\", \"Comfortability_3\": \"Agree\", \"Comfortability_4\": \"Agree\", \"Comfortability_5\": \"Disagree\", \"OverallDarkComfortScore\": 5, \"OverallLightComfortScore\": 14, \"time_diff\": 4, \"accuracy_diff\": -0.039999999999999925, \"comfort_diff\": -9}, {\"ParticipantId\": \"18\", \"Experimenter\": \"Oliver\", \"Informed Consent\": \"Yes\", \"LightModeTime\": 78, \"LightModeAccuracy\": 0.92, \"DarkModeTime\": 80, \"DarkModeAccuracy\": 0.93, \"Comfortability_1\": \"Strongly agree\", \"Comfortability_2\": \"Agree\", \"Comfortability_3\": \"Neither agree nor disagree\", \"Comfortability_4\": \"Somewhat agree\", \"Comfortability_5\": \"Strongly agree\", \"OverallDarkComfortScore\": 16, \"OverallLightComfortScore\": 6, \"time_diff\": 2, \"accuracy_diff\": 0.010000000000000009, \"comfort_diff\": 10}, {\"ParticipantId\": \"19\", \"Experimenter\": \"Oliver\", \"Informed Consent\": \"Yes\", \"LightModeTime\": 61, \"LightModeAccuracy\": 0.95, \"DarkModeTime\": 55, \"DarkModeAccuracy\": 0.96, \"Comfortability_1\": \"Agree\", \"Comfortability_2\": \"Agree\", \"Comfortability_3\": \"Agree\", \"Comfortability_4\": \"Agree\", \"Comfortability_5\": \"Somewhat agree\", \"OverallDarkComfortScore\": 13, \"OverallLightComfortScore\": 11, \"time_diff\": -6, \"accuracy_diff\": 0.010000000000000009, \"comfort_diff\": 2}, {\"ParticipantId\": \"20\", \"Experimenter\": \"Oliver\", \"Informed Consent\": \"Yes\", \"LightModeTime\": 57, \"LightModeAccuracy\": 0.96, \"DarkModeTime\": 56, \"DarkModeAccuracy\": 0.99, \"Comfortability_1\": \"Agree\", \"Comfortability_2\": \"Neither agree nor disagree\", \"Comfortability_3\": \"Agree\", \"Comfortability_4\": \"Neither agree nor disagree\", \"Comfortability_5\": \"Somewhat disagree\", \"OverallDarkComfortScore\": 9, \"OverallLightComfortScore\": 11, \"time_diff\": -1, \"accuracy_diff\": 0.030000000000000027, \"comfort_diff\": -2}, {\"ParticipantId\": \"21\", \"Experimenter\": \"Oliver\", \"Informed Consent\": \"Yes\", \"LightModeTime\": 88, \"LightModeAccuracy\": 0.97, \"DarkModeTime\": 92, \"DarkModeAccuracy\": 0.98, \"Comfortability_1\": \"Strongly agree\", \"Comfortability_2\": \"Strongly agree\", \"Comfortability_3\": \"Somewhat disagree\", \"Comfortability_4\": \"Somewhat agree\", \"Comfortability_5\": \"Strongly agree\", \"OverallDarkComfortScore\": 17, \"OverallLightComfortScore\": 5, \"time_diff\": 4, \"accuracy_diff\": 0.010000000000000009, \"comfort_diff\": 12}, {\"ParticipantId\": \"22\", \"Experimenter\": \"Lawrence\", \"Informed Consent\": \"Yes\", \"LightModeTime\": 97, \"LightModeAccuracy\": 0.93, \"DarkModeTime\": 107, \"DarkModeAccuracy\": 0.93, \"Comfortability_1\": \"Agree\", \"Comfortability_2\": \"Agree\", \"Comfortability_3\": \"Agree\", \"Comfortability_4\": \"Disagree\", \"Comfortability_5\": \"Agree\", \"OverallDarkComfortScore\": 14, \"OverallLightComfortScore\": 6, \"time_diff\": 10, \"accuracy_diff\": 0.0, \"comfort_diff\": 8}, {\"ParticipantId\": \"23\", \"Experimenter\": \"Lawrence\", \"Informed Consent\": \"Yes\", \"LightModeTime\": 45, \"LightModeAccuracy\": 0.93, \"DarkModeTime\": 48, \"DarkModeAccuracy\": 0.96, \"Comfortability_1\": \"Strongly agree\", \"Comfortability_2\": \"Strongly agree\", \"Comfortability_3\": \"Strongly agree\", \"Comfortability_4\": \"Strongly agree\", \"Comfortability_5\": \"Disagree\", \"OverallDarkComfortScore\": 12, \"OverallLightComfortScore\": 16, \"time_diff\": 3, \"accuracy_diff\": 0.029999999999999916, \"comfort_diff\": -4}, {\"ParticipantId\": \"24\", \"Experimenter\": \"Lawrence\", \"Informed Consent\": \"Yes\", \"LightModeTime\": 72, \"LightModeAccuracy\": 0.85, \"DarkModeTime\": 70, \"DarkModeAccuracy\": 0.86, \"Comfortability_1\": \"Somewhat agree\", \"Comfortability_2\": \"Somewhat disagree\", \"Comfortability_3\": \"Agree\", \"Comfortability_4\": \"Strongly agree\", \"Comfortability_5\": \"Somewhat disagree\", \"OverallDarkComfortScore\": 7, \"OverallLightComfortScore\": 14, \"time_diff\": -2, \"accuracy_diff\": 0.010000000000000009, \"comfort_diff\": -7}, {\"ParticipantId\": \"25\", \"Experimenter\": \"Lawrence\", \"Informed Consent\": \"Yes\", \"LightModeTime\": 67, \"LightModeAccuracy\": 0.89, \"DarkModeTime\": 61, \"DarkModeAccuracy\": 0.96, \"Comfortability_1\": \"Strongly agree\", \"Comfortability_2\": \"Somewhat agree\", \"Comfortability_3\": \"Somewhat disagree\", \"Comfortability_4\": \"Agree\", \"Comfortability_5\": \"Agree\", \"OverallDarkComfortScore\": 14, \"OverallLightComfortScore\": 7, \"time_diff\": -6, \"accuracy_diff\": 0.06999999999999995, \"comfort_diff\": 7}, {\"ParticipantId\": \"26\", \"Experimenter\": \"Kevin\", \"Informed Consent\": \"Yes\", \"LightModeTime\": 97, \"LightModeAccuracy\": 0.97, \"DarkModeTime\": 102, \"DarkModeAccuracy\": 0.96, \"Comfortability_1\": \"Neither agree nor disagree\", \"Comfortability_2\": \"Neither agree nor disagree\", \"Comfortability_3\": \"Strongly agree\", \"Comfortability_4\": \"Strongly agree\", \"Comfortability_5\": \"Strongly disagree\", \"OverallDarkComfortScore\": 5, \"OverallLightComfortScore\": 17, \"time_diff\": 5, \"accuracy_diff\": -0.010000000000000009, \"comfort_diff\": -12}, {\"ParticipantId\": \"28\", \"Experimenter\": \"Kevin\", \"Informed Consent\": \"Yes\", \"LightModeTime\": 80, \"LightModeAccuracy\": 0.98, \"DarkModeTime\": 72, \"DarkModeAccuracy\": 0.96, \"Comfortability_1\": \"Strongly agree\", \"Comfortability_2\": \"Strongly agree\", \"Comfortability_3\": \"Somewhat disagree\", \"Comfortability_4\": \"Somewhat disagree\", \"Comfortability_5\": \"Strongly agree\", \"OverallDarkComfortScore\": 17, \"OverallLightComfortScore\": 3, \"time_diff\": -8, \"accuracy_diff\": -0.020000000000000018, \"comfort_diff\": 14}, {\"ParticipantId\": \"29\", \"Experimenter\": \"Kevin\", \"Informed Consent\": \"Yes\", \"LightModeTime\": 65, \"LightModeAccuracy\": 0.96, \"DarkModeTime\": 69, \"DarkModeAccuracy\": 0.95, \"Comfortability_1\": \"Strongly agree\", \"Comfortability_2\": \"Strongly agree\", \"Comfortability_3\": \"Strongly agree\", \"Comfortability_4\": \"Strongly agree\", \"Comfortability_5\": \"Neither agree nor disagree\", \"OverallDarkComfortScore\": 14, \"OverallLightComfortScore\": 14, \"time_diff\": 4, \"accuracy_diff\": -0.010000000000000009, \"comfort_diff\": 0}, {\"ParticipantId\": \"30\", \"Experimenter\": \"Kevin\", \"Informed Consent\": \"Yes\", \"LightModeTime\": 72, \"LightModeAccuracy\": 0.94, \"DarkModeTime\": 67, \"DarkModeAccuracy\": 0.97, \"Comfortability_1\": \"Strongly agree\", \"Comfortability_2\": \"Strongly agree\", \"Comfortability_3\": \"Strongly agree\", \"Comfortability_4\": \"Strongly agree\", \"Comfortability_5\": \"Strongly agree\", \"OverallDarkComfortScore\": 17, \"OverallLightComfortScore\": 11, \"time_diff\": -5, \"accuracy_diff\": 0.030000000000000027, \"comfort_diff\": 6}]}}, {\"mode\": \"vega-lite\"});\n",
       "</script>"
      ],
      "text/plain": [
       "alt.Chart(...)"
      ]
     },
     "execution_count": 32,
     "metadata": {},
     "output_type": "execute_result"
    }
   ],
   "source": [
    "alt.Chart(data, title=\"Histogram of change in typing accuracy\").mark_bar().encode(\n",
    "    x=alt.X(\"accuracy_diff\", bin=True, title=\"Change in typing accuracy\"),\n",
    "    y=\"count()\"\n",
    ")"
   ]
  },
  {
   "cell_type": "markdown",
   "id": "e4d2c061",
   "metadata": {},
   "source": [
    "# Descriptive Statistics"
   ]
  },
  {
   "cell_type": "code",
   "execution_count": 33,
   "id": "c7b3ca7d",
   "metadata": {},
   "outputs": [
    {
     "name": "stdout",
     "output_type": "stream",
     "text": [
      "Dark: mean = 0.94, SD = 0.03\n",
      "Light: mean = 0.94, SD = 0.03\n"
     ]
    }
   ],
   "source": [
    "darkModeAccuracySTD = data.DarkModeAccuracy.std()\n",
    "darkModeAccuracyMean = data.DarkModeAccuracy.mean()\n",
    "\n",
    "lightModeAccuracySTD = data.LightModeAccuracy.std()\n",
    "lightModeAccuracyMean = data.LightModeAccuracy.mean()\n",
    "\n",
    "print(\"Dark: mean = %.2f, SD = %.2f\" % (darkModeAccuracyMean, darkModeAccuracySTD))\n",
    "print(\"Light: mean = %.2f, SD = %.2f\" % (lightModeAccuracyMean, lightModeAccuracySTD))"
   ]
  },
  {
   "cell_type": "markdown",
   "id": "8e9b99de",
   "metadata": {},
   "source": [
    "# One-Tailed Paired Sample T-Test"
   ]
  },
  {
   "cell_type": "code",
   "execution_count": 35,
   "id": "8ffa9a98",
   "metadata": {},
   "outputs": [
    {
     "data": {
      "text/plain": [
       "Ttest_relResult(statistic=-0.07304358872384731, pvalue=0.5288546328856495)"
      ]
     },
     "execution_count": 35,
     "metadata": {},
     "output_type": "execute_result"
    }
   ],
   "source": [
    "scipy.stats.ttest_rel(data.DarkModeAccuracy, data.LightModeAccuracy, alternative='greater')"
   ]
  },
  {
   "cell_type": "markdown",
   "id": "63bcd2e2",
   "metadata": {},
   "source": [
    "The p-value of 0.529 is greater than our adjusted $\\alpha$ of 0.017, so we do not have statistically significant results and we fail to reject the null hypothesis that there is no difference in the mean accuracy scores between light and dark mode."
   ]
  },
  {
   "cell_type": "markdown",
   "id": "f8b2d901",
   "metadata": {},
   "source": [
    "# Effect Size"
   ]
  },
  {
   "cell_type": "code",
   "execution_count": 36,
   "id": "3b82d15b",
   "metadata": {},
   "outputs": [
    {
     "data": {
      "text/plain": [
       "-0.013563853909740315"
      ]
     },
     "execution_count": 36,
     "metadata": {},
     "output_type": "execute_result"
    }
   ],
   "source": [
    "cohen_d_accuracy = data.accuracy_diff.mean() / data.accuracy_diff.std()\n",
    "cohen_d_accuracy"
   ]
  },
  {
   "cell_type": "markdown",
   "id": "8579f232",
   "metadata": {},
   "source": [
    "This means there is only a small effect on accuracy because the magnitude of Cohen's d for the accuracy is 0.014 which is in the small range."
   ]
  },
  {
   "cell_type": "markdown",
   "id": "7c2d0353",
   "metadata": {},
   "source": [
    "# Confidence Intervals"
   ]
  },
  {
   "cell_type": "code",
   "execution_count": 39,
   "id": "732bab95",
   "metadata": {},
   "outputs": [
    {
     "data": {
      "text/plain": [
       "(-0.009597517132945267, 0.008907861960531475)"
      ]
     },
     "execution_count": 39,
     "metadata": {},
     "output_type": "execute_result"
    }
   ],
   "source": [
    "bounds_accuracy = scipy.stats.norm.interval(alpha=0.95, loc=data.accuracy_diff.mean(), scale=scipy.stats.sem(data.accuracy_diff))\n",
    "bounds_accuracy"
   ]
  },
  {
   "cell_type": "markdown",
   "id": "ce544bb7",
   "metadata": {},
   "source": [
    "This tells us that 95% of the time, the true mean difference in accuracy scores for both light and dark mode will fall between -0.0096 and 0.0089 units. This lines up with the fact that we didn't reject the null hypothesis (since we didn't get a statistically significant result) because 0 is within this range, meaning there could be no difference in dark and light mode accuracy scores. If there's no difference, then the mean accuracy for dark mode isn't greater than the mean accuracy for light mode."
   ]
  },
  {
   "cell_type": "markdown",
   "id": "243fdb4a",
   "metadata": {},
   "source": [
    "# Data Visualization"
   ]
  },
  {
   "cell_type": "code",
   "execution_count": 54,
   "id": "b12e2dba",
   "metadata": {},
   "outputs": [
    {
     "data": {
      "text/html": [
       "\n",
       "<div id=\"altair-viz-3cfcc719f61a46169ae033fff116b438\"></div>\n",
       "<script type=\"text/javascript\">\n",
       "  var VEGA_DEBUG = (typeof VEGA_DEBUG == \"undefined\") ? {} : VEGA_DEBUG;\n",
       "  (function(spec, embedOpt){\n",
       "    let outputDiv = document.currentScript.previousElementSibling;\n",
       "    if (outputDiv.id !== \"altair-viz-3cfcc719f61a46169ae033fff116b438\") {\n",
       "      outputDiv = document.getElementById(\"altair-viz-3cfcc719f61a46169ae033fff116b438\");\n",
       "    }\n",
       "    const paths = {\n",
       "      \"vega\": \"https://cdn.jsdelivr.net/npm//vega@5?noext\",\n",
       "      \"vega-lib\": \"https://cdn.jsdelivr.net/npm//vega-lib?noext\",\n",
       "      \"vega-lite\": \"https://cdn.jsdelivr.net/npm//vega-lite@4.17.0?noext\",\n",
       "      \"vega-embed\": \"https://cdn.jsdelivr.net/npm//vega-embed@6?noext\",\n",
       "    };\n",
       "\n",
       "    function maybeLoadScript(lib, version) {\n",
       "      var key = `${lib.replace(\"-\", \"\")}_version`;\n",
       "      return (VEGA_DEBUG[key] == version) ?\n",
       "        Promise.resolve(paths[lib]) :\n",
       "        new Promise(function(resolve, reject) {\n",
       "          var s = document.createElement('script');\n",
       "          document.getElementsByTagName(\"head\")[0].appendChild(s);\n",
       "          s.async = true;\n",
       "          s.onload = () => {\n",
       "            VEGA_DEBUG[key] = version;\n",
       "            return resolve(paths[lib]);\n",
       "          };\n",
       "          s.onerror = () => reject(`Error loading script: ${paths[lib]}`);\n",
       "          s.src = paths[lib];\n",
       "        });\n",
       "    }\n",
       "\n",
       "    function showError(err) {\n",
       "      outputDiv.innerHTML = `<div class=\"error\" style=\"color:red;\">${err}</div>`;\n",
       "      throw err;\n",
       "    }\n",
       "\n",
       "    function displayChart(vegaEmbed) {\n",
       "      vegaEmbed(outputDiv, spec, embedOpt)\n",
       "        .catch(err => showError(`Javascript Error: ${err.message}<br>This usually means there's a typo in your chart specification. See the javascript console for the full traceback.`));\n",
       "    }\n",
       "\n",
       "    if(typeof define === \"function\" && define.amd) {\n",
       "      requirejs.config({paths});\n",
       "      require([\"vega-embed\"], displayChart, err => showError(`Error loading script: ${err.message}`));\n",
       "    } else {\n",
       "      maybeLoadScript(\"vega\", \"5\")\n",
       "        .then(() => maybeLoadScript(\"vega-lite\", \"4.17.0\"))\n",
       "        .then(() => maybeLoadScript(\"vega-embed\", \"6\"))\n",
       "        .catch(showError)\n",
       "        .then(() => displayChart(vegaEmbed));\n",
       "    }\n",
       "  })({\"config\": {\"view\": {\"continuousWidth\": 400, \"continuousHeight\": 300}}, \"data\": {\"name\": \"data-557ebe95bf2c251ed8896bae9a86386d\"}, \"mark\": \"bar\", \"encoding\": {\"x\": {\"field\": \"ParticipantId\", \"type\": \"nominal\"}, \"y\": {\"field\": \"LightModeAccuracy\", \"type\": \"quantitative\"}}, \"$schema\": \"https://vega.github.io/schema/vega-lite/v4.17.0.json\", \"datasets\": {\"data-557ebe95bf2c251ed8896bae9a86386d\": [{\"ParticipantId\": \"1\", \"Experimenter\": \"Team\", \"Informed Consent\": \"Yes\", \"LightModeTime\": 76, \"LightModeAccuracy\": 0.96, \"DarkModeTime\": 75, \"DarkModeAccuracy\": 0.97, \"Comfortability_1\": \"Somewhat agree\", \"Comfortability_2\": \"Somewhat disagree\", \"Comfortability_3\": \"Agree\", \"Comfortability_4\": \"Agree\", \"Comfortability_5\": \"Somewhat disagree\", \"OverallDarkComfortScore\": 7, \"OverallLightComfortScore\": 13, \"time_diff\": -1, \"accuracy_diff\": 0.010000000000000009, \"comfort_diff\": -6}, {\"ParticipantId\": \"2\", \"Experimenter\": \"Team\", \"Informed Consent\": \"Yes\", \"LightModeTime\": 62, \"LightModeAccuracy\": 0.97, \"DarkModeTime\": 60, \"DarkModeAccuracy\": 0.96, \"Comfortability_1\": \"Agree\", \"Comfortability_2\": \"Agree\", \"Comfortability_3\": \"Agree\", \"Comfortability_4\": \"Agree\", \"Comfortability_5\": \"Agree\", \"OverallDarkComfortScore\": 14, \"OverallLightComfortScore\": 10, \"time_diff\": -2, \"accuracy_diff\": -0.010000000000000009, \"comfort_diff\": 4}, {\"ParticipantId\": \"3\", \"Experimenter\": \"Team\", \"Informed Consent\": \"Yes\", \"LightModeTime\": 77, \"LightModeAccuracy\": 0.96, \"DarkModeTime\": 72, \"DarkModeAccuracy\": 0.97, \"Comfortability_1\": \"Strongly agree\", \"Comfortability_2\": \"Strongly agree\", \"Comfortability_3\": \"Strongly agree\", \"Comfortability_4\": \"Strongly agree\", \"Comfortability_5\": \"Agree\", \"OverallDarkComfortScore\": 16, \"OverallLightComfortScore\": 12, \"time_diff\": -5, \"accuracy_diff\": 0.010000000000000009, \"comfort_diff\": 4}, {\"ParticipantId\": \"4\", \"Experimenter\": \"Team\", \"Informed Consent\": \"Yes\", \"LightModeTime\": 76, \"LightModeAccuracy\": 0.97, \"DarkModeTime\": 98, \"DarkModeAccuracy\": 0.92, \"Comfortability_1\": \"Somewhat disagree\", \"Comfortability_2\": \"Somewhat agree\", \"Comfortability_3\": \"Agree\", \"Comfortability_4\": \"Neither agree nor disagree\", \"Comfortability_5\": \"Somewhat agree\", \"OverallDarkComfortScore\": 9, \"OverallLightComfortScore\": 9, \"time_diff\": 22, \"accuracy_diff\": -0.04999999999999993, \"comfort_diff\": 0}, {\"ParticipantId\": \"5\", \"Experimenter\": \"Team\", \"Informed Consent\": \"Yes\", \"LightModeTime\": 72, \"LightModeAccuracy\": 0.96, \"DarkModeTime\": 77, \"DarkModeAccuracy\": 0.96, \"Comfortability_1\": \"Strongly agree\", \"Comfortability_2\": \"Strongly agree\", \"Comfortability_3\": \"Agree\", \"Comfortability_4\": \"Agree\", \"Comfortability_5\": \"Agree\", \"OverallDarkComfortScore\": 16, \"OverallLightComfortScore\": 10, \"time_diff\": 5, \"accuracy_diff\": 0.0, \"comfort_diff\": 6}, {\"ParticipantId\": \"6\", \"Experimenter\": \"Team\", \"Informed Consent\": \"Yes\", \"LightModeTime\": 86, \"LightModeAccuracy\": 0.96, \"DarkModeTime\": 88, \"DarkModeAccuracy\": 0.96, \"Comfortability_1\": \"Strongly agree\", \"Comfortability_2\": \"Somewhat agree\", \"Comfortability_3\": \"Strongly agree\", \"Comfortability_4\": \"Strongly agree\", \"Comfortability_5\": \"Neither agree nor disagree\", \"OverallDarkComfortScore\": 12, \"OverallLightComfortScore\": 14, \"time_diff\": 2, \"accuracy_diff\": 0.0, \"comfort_diff\": -2}, {\"ParticipantId\": \"7\", \"Experimenter\": \"Team\", \"Informed Consent\": \"Yes\", \"LightModeTime\": 56, \"LightModeAccuracy\": 0.97, \"DarkModeTime\": 54, \"DarkModeAccuracy\": 0.96, \"Comfortability_1\": \"Somewhat disagree\", \"Comfortability_2\": \"Somewhat disagree\", \"Comfortability_3\": \"Strongly agree\", \"Comfortability_4\": \"Strongly agree\", \"Comfortability_5\": \"Somewhat disagree\", \"OverallDarkComfortScore\": 5, \"OverallLightComfortScore\": 15, \"time_diff\": -2, \"accuracy_diff\": -0.010000000000000009, \"comfort_diff\": -10}, {\"ParticipantId\": \"8\", \"Experimenter\": \"Team\", \"Informed Consent\": \"Yes\", \"LightModeTime\": 53, \"LightModeAccuracy\": 0.95, \"DarkModeTime\": 53, \"DarkModeAccuracy\": 0.94, \"Comfortability_1\": \"Strongly agree\", \"Comfortability_2\": \"Agree\", \"Comfortability_3\": \"Strongly agree\", \"Comfortability_4\": \"Strongly agree\", \"Comfortability_5\": \"Disagree\", \"OverallDarkComfortScore\": 11, \"OverallLightComfortScore\": 16, \"time_diff\": 0, \"accuracy_diff\": -0.010000000000000009, \"comfort_diff\": -5}, {\"ParticipantId\": \"9\", \"Experimenter\": \"Team\", \"Informed Consent\": \"Yes\", \"LightModeTime\": 68, \"LightModeAccuracy\": 0.96, \"DarkModeTime\": 79, \"DarkModeAccuracy\": 0.97, \"Comfortability_1\": \"Neither agree nor disagree\", \"Comfortability_2\": \"Disagree\", \"Comfortability_3\": \"Somewhat disagree\", \"Comfortability_4\": \"Strongly agree\", \"Comfortability_5\": \"Somewhat agree\", \"OverallDarkComfortScore\": 7, \"OverallLightComfortScore\": 9, \"time_diff\": 11, \"accuracy_diff\": 0.010000000000000009, \"comfort_diff\": -2}, {\"ParticipantId\": \"10\", \"Experimenter\": \"Team\", \"Informed Consent\": \"Yes\", \"LightModeTime\": 71, \"LightModeAccuracy\": 0.96, \"DarkModeTime\": 73, \"DarkModeAccuracy\": 0.95, \"Comfortability_1\": \"Strongly agree\", \"Comfortability_2\": \"Strongly agree\", \"Comfortability_3\": \"Somewhat agree\", \"Comfortability_4\": \"Somewhat agree\", \"Comfortability_5\": \"Strongly agree\", \"OverallDarkComfortScore\": 17, \"OverallLightComfortScore\": 7, \"time_diff\": 2, \"accuracy_diff\": -0.010000000000000009, \"comfort_diff\": 10}, {\"ParticipantId\": \"11\", \"Experimenter\": \"Team\", \"Informed Consent\": \"Yes\", \"LightModeTime\": 57, \"LightModeAccuracy\": 0.94, \"DarkModeTime\": 74, \"DarkModeAccuracy\": 0.9, \"Comfortability_1\": \"Strongly agree\", \"Comfortability_2\": \"Strongly agree\", \"Comfortability_3\": \"Strongly agree\", \"Comfortability_4\": \"Strongly agree\", \"Comfortability_5\": \"Somewhat agree\", \"OverallDarkComfortScore\": 15, \"OverallLightComfortScore\": 13, \"time_diff\": 17, \"accuracy_diff\": -0.039999999999999925, \"comfort_diff\": 2}, {\"ParticipantId\": \"12\", \"Experimenter\": \"Team\", \"Informed Consent\": \"Yes\", \"LightModeTime\": 43, \"LightModeAccuracy\": 0.97, \"DarkModeTime\": 46, \"DarkModeAccuracy\": 0.94, \"Comfortability_1\": \"Agree\", \"Comfortability_2\": \"Somewhat agree\", \"Comfortability_3\": \"Somewhat agree\", \"Comfortability_4\": \"Somewhat agree\", \"Comfortability_5\": \"Neither agree nor disagree\", \"OverallDarkComfortScore\": 11, \"OverallLightComfortScore\": 10, \"time_diff\": 3, \"accuracy_diff\": -0.030000000000000027, \"comfort_diff\": 1}, {\"ParticipantId\": \"13\", \"Experimenter\": \"Team\", \"Informed Consent\": \"Yes\", \"LightModeTime\": 46, \"LightModeAccuracy\": 0.93, \"DarkModeTime\": 41, \"DarkModeAccuracy\": 0.94, \"Comfortability_1\": \"Strongly agree\", \"Comfortability_2\": \"Strongly agree\", \"Comfortability_3\": \"Agree\", \"Comfortability_4\": \"Agree\", \"Comfortability_5\": \"Strongly agree\", \"OverallDarkComfortScore\": 17, \"OverallLightComfortScore\": 9, \"time_diff\": -5, \"accuracy_diff\": 0.009999999999999898, \"comfort_diff\": 8}, {\"ParticipantId\": \"14\", \"Experimenter\": \"Team\", \"Informed Consent\": \"Yes\", \"LightModeTime\": 66, \"LightModeAccuracy\": 0.88, \"DarkModeTime\": 67, \"DarkModeAccuracy\": 0.9, \"Comfortability_1\": \"Agree\", \"Comfortability_2\": \"Agree\", \"Comfortability_3\": \"Disagree\", \"Comfortability_4\": \"Agree\", \"Comfortability_5\": \"Somewhat agree\", \"OverallDarkComfortScore\": 13, \"OverallLightComfortScore\": 7, \"time_diff\": 1, \"accuracy_diff\": 0.020000000000000018, \"comfort_diff\": 6}, {\"ParticipantId\": \"15\", \"Experimenter\": \"Team\", \"Informed Consent\": \"Yes\", \"LightModeTime\": 44, \"LightModeAccuracy\": 0.89, \"DarkModeTime\": 56, \"DarkModeAccuracy\": 0.85, \"Comfortability_1\": \"Somewhat agree\", \"Comfortability_2\": \"Agree\", \"Comfortability_3\": \"Agree\", \"Comfortability_4\": \"Agree\", \"Comfortability_5\": \"Neither agree nor disagree\", \"OverallDarkComfortScore\": 11, \"OverallLightComfortScore\": 12, \"time_diff\": 12, \"accuracy_diff\": -0.040000000000000036, \"comfort_diff\": -1}, {\"ParticipantId\": \"16\", \"Experimenter\": \"Oliver\", \"Informed Consent\": \"Yes\", \"LightModeTime\": 79, \"LightModeAccuracy\": 0.94, \"DarkModeTime\": 72, \"DarkModeAccuracy\": 0.95, \"Comfortability_1\": \"Somewhat disagree\", \"Comfortability_2\": \"Neither agree nor disagree\", \"Comfortability_3\": \"Agree\", \"Comfortability_4\": \"Agree\", \"Comfortability_5\": \"Somewhat disagree\", \"OverallDarkComfortScore\": 6, \"OverallLightComfortScore\": 13, \"time_diff\": -7, \"accuracy_diff\": 0.010000000000000009, \"comfort_diff\": -7}, {\"ParticipantId\": \"17\", \"Experimenter\": \"Lawrence\", \"Informed Consent\": \"Yes\", \"LightModeTime\": 67, \"LightModeAccuracy\": 0.97, \"DarkModeTime\": 71, \"DarkModeAccuracy\": 0.93, \"Comfortability_1\": \"Somewhat agree\", \"Comfortability_2\": \"Disagree\", \"Comfortability_3\": \"Agree\", \"Comfortability_4\": \"Agree\", \"Comfortability_5\": \"Disagree\", \"OverallDarkComfortScore\": 5, \"OverallLightComfortScore\": 14, \"time_diff\": 4, \"accuracy_diff\": -0.039999999999999925, \"comfort_diff\": -9}, {\"ParticipantId\": \"18\", \"Experimenter\": \"Oliver\", \"Informed Consent\": \"Yes\", \"LightModeTime\": 78, \"LightModeAccuracy\": 0.92, \"DarkModeTime\": 80, \"DarkModeAccuracy\": 0.93, \"Comfortability_1\": \"Strongly agree\", \"Comfortability_2\": \"Agree\", \"Comfortability_3\": \"Neither agree nor disagree\", \"Comfortability_4\": \"Somewhat agree\", \"Comfortability_5\": \"Strongly agree\", \"OverallDarkComfortScore\": 16, \"OverallLightComfortScore\": 6, \"time_diff\": 2, \"accuracy_diff\": 0.010000000000000009, \"comfort_diff\": 10}, {\"ParticipantId\": \"19\", \"Experimenter\": \"Oliver\", \"Informed Consent\": \"Yes\", \"LightModeTime\": 61, \"LightModeAccuracy\": 0.95, \"DarkModeTime\": 55, \"DarkModeAccuracy\": 0.96, \"Comfortability_1\": \"Agree\", \"Comfortability_2\": \"Agree\", \"Comfortability_3\": \"Agree\", \"Comfortability_4\": \"Agree\", \"Comfortability_5\": \"Somewhat agree\", \"OverallDarkComfortScore\": 13, \"OverallLightComfortScore\": 11, \"time_diff\": -6, \"accuracy_diff\": 0.010000000000000009, \"comfort_diff\": 2}, {\"ParticipantId\": \"20\", \"Experimenter\": \"Oliver\", \"Informed Consent\": \"Yes\", \"LightModeTime\": 57, \"LightModeAccuracy\": 0.96, \"DarkModeTime\": 56, \"DarkModeAccuracy\": 0.99, \"Comfortability_1\": \"Agree\", \"Comfortability_2\": \"Neither agree nor disagree\", \"Comfortability_3\": \"Agree\", \"Comfortability_4\": \"Neither agree nor disagree\", \"Comfortability_5\": \"Somewhat disagree\", \"OverallDarkComfortScore\": 9, \"OverallLightComfortScore\": 11, \"time_diff\": -1, \"accuracy_diff\": 0.030000000000000027, \"comfort_diff\": -2}, {\"ParticipantId\": \"21\", \"Experimenter\": \"Oliver\", \"Informed Consent\": \"Yes\", \"LightModeTime\": 88, \"LightModeAccuracy\": 0.97, \"DarkModeTime\": 92, \"DarkModeAccuracy\": 0.98, \"Comfortability_1\": \"Strongly agree\", \"Comfortability_2\": \"Strongly agree\", \"Comfortability_3\": \"Somewhat disagree\", \"Comfortability_4\": \"Somewhat agree\", \"Comfortability_5\": \"Strongly agree\", \"OverallDarkComfortScore\": 17, \"OverallLightComfortScore\": 5, \"time_diff\": 4, \"accuracy_diff\": 0.010000000000000009, \"comfort_diff\": 12}, {\"ParticipantId\": \"22\", \"Experimenter\": \"Lawrence\", \"Informed Consent\": \"Yes\", \"LightModeTime\": 97, \"LightModeAccuracy\": 0.93, \"DarkModeTime\": 107, \"DarkModeAccuracy\": 0.93, \"Comfortability_1\": \"Agree\", \"Comfortability_2\": \"Agree\", \"Comfortability_3\": \"Agree\", \"Comfortability_4\": \"Disagree\", \"Comfortability_5\": \"Agree\", \"OverallDarkComfortScore\": 14, \"OverallLightComfortScore\": 6, \"time_diff\": 10, \"accuracy_diff\": 0.0, \"comfort_diff\": 8}, {\"ParticipantId\": \"23\", \"Experimenter\": \"Lawrence\", \"Informed Consent\": \"Yes\", \"LightModeTime\": 45, \"LightModeAccuracy\": 0.93, \"DarkModeTime\": 48, \"DarkModeAccuracy\": 0.96, \"Comfortability_1\": \"Strongly agree\", \"Comfortability_2\": \"Strongly agree\", \"Comfortability_3\": \"Strongly agree\", \"Comfortability_4\": \"Strongly agree\", \"Comfortability_5\": \"Disagree\", \"OverallDarkComfortScore\": 12, \"OverallLightComfortScore\": 16, \"time_diff\": 3, \"accuracy_diff\": 0.029999999999999916, \"comfort_diff\": -4}, {\"ParticipantId\": \"24\", \"Experimenter\": \"Lawrence\", \"Informed Consent\": \"Yes\", \"LightModeTime\": 72, \"LightModeAccuracy\": 0.85, \"DarkModeTime\": 70, \"DarkModeAccuracy\": 0.86, \"Comfortability_1\": \"Somewhat agree\", \"Comfortability_2\": \"Somewhat disagree\", \"Comfortability_3\": \"Agree\", \"Comfortability_4\": \"Strongly agree\", \"Comfortability_5\": \"Somewhat disagree\", \"OverallDarkComfortScore\": 7, \"OverallLightComfortScore\": 14, \"time_diff\": -2, \"accuracy_diff\": 0.010000000000000009, \"comfort_diff\": -7}, {\"ParticipantId\": \"25\", \"Experimenter\": \"Lawrence\", \"Informed Consent\": \"Yes\", \"LightModeTime\": 67, \"LightModeAccuracy\": 0.89, \"DarkModeTime\": 61, \"DarkModeAccuracy\": 0.96, \"Comfortability_1\": \"Strongly agree\", \"Comfortability_2\": \"Somewhat agree\", \"Comfortability_3\": \"Somewhat disagree\", \"Comfortability_4\": \"Agree\", \"Comfortability_5\": \"Agree\", \"OverallDarkComfortScore\": 14, \"OverallLightComfortScore\": 7, \"time_diff\": -6, \"accuracy_diff\": 0.06999999999999995, \"comfort_diff\": 7}, {\"ParticipantId\": \"26\", \"Experimenter\": \"Kevin\", \"Informed Consent\": \"Yes\", \"LightModeTime\": 97, \"LightModeAccuracy\": 0.97, \"DarkModeTime\": 102, \"DarkModeAccuracy\": 0.96, \"Comfortability_1\": \"Neither agree nor disagree\", \"Comfortability_2\": \"Neither agree nor disagree\", \"Comfortability_3\": \"Strongly agree\", \"Comfortability_4\": \"Strongly agree\", \"Comfortability_5\": \"Strongly disagree\", \"OverallDarkComfortScore\": 5, \"OverallLightComfortScore\": 17, \"time_diff\": 5, \"accuracy_diff\": -0.010000000000000009, \"comfort_diff\": -12}, {\"ParticipantId\": \"28\", \"Experimenter\": \"Kevin\", \"Informed Consent\": \"Yes\", \"LightModeTime\": 80, \"LightModeAccuracy\": 0.98, \"DarkModeTime\": 72, \"DarkModeAccuracy\": 0.96, \"Comfortability_1\": \"Strongly agree\", \"Comfortability_2\": \"Strongly agree\", \"Comfortability_3\": \"Somewhat disagree\", \"Comfortability_4\": \"Somewhat disagree\", \"Comfortability_5\": \"Strongly agree\", \"OverallDarkComfortScore\": 17, \"OverallLightComfortScore\": 3, \"time_diff\": -8, \"accuracy_diff\": -0.020000000000000018, \"comfort_diff\": 14}, {\"ParticipantId\": \"29\", \"Experimenter\": \"Kevin\", \"Informed Consent\": \"Yes\", \"LightModeTime\": 65, \"LightModeAccuracy\": 0.96, \"DarkModeTime\": 69, \"DarkModeAccuracy\": 0.95, \"Comfortability_1\": \"Strongly agree\", \"Comfortability_2\": \"Strongly agree\", \"Comfortability_3\": \"Strongly agree\", \"Comfortability_4\": \"Strongly agree\", \"Comfortability_5\": \"Neither agree nor disagree\", \"OverallDarkComfortScore\": 14, \"OverallLightComfortScore\": 14, \"time_diff\": 4, \"accuracy_diff\": -0.010000000000000009, \"comfort_diff\": 0}, {\"ParticipantId\": \"30\", \"Experimenter\": \"Kevin\", \"Informed Consent\": \"Yes\", \"LightModeTime\": 72, \"LightModeAccuracy\": 0.94, \"DarkModeTime\": 67, \"DarkModeAccuracy\": 0.97, \"Comfortability_1\": \"Strongly agree\", \"Comfortability_2\": \"Strongly agree\", \"Comfortability_3\": \"Strongly agree\", \"Comfortability_4\": \"Strongly agree\", \"Comfortability_5\": \"Strongly agree\", \"OverallDarkComfortScore\": 17, \"OverallLightComfortScore\": 11, \"time_diff\": -5, \"accuracy_diff\": 0.030000000000000027, \"comfort_diff\": 6}]}}, {\"mode\": \"vega-lite\"});\n",
       "</script>"
      ],
      "text/plain": [
       "alt.Chart(...)"
      ]
     },
     "execution_count": 54,
     "metadata": {},
     "output_type": "execute_result"
    }
   ],
   "source": [
    "alt.Chart(data).mark_bar().encode(\n",
    "    x='ParticipantId',\n",
    "    y='LightModeAccuracy'\n",
    ")"
   ]
  },
  {
   "cell_type": "code",
   "execution_count": 55,
   "id": "070dddcd",
   "metadata": {},
   "outputs": [
    {
     "data": {
      "text/html": [
       "\n",
       "<div id=\"altair-viz-480c8447893d41bea370f44ac0194faa\"></div>\n",
       "<script type=\"text/javascript\">\n",
       "  var VEGA_DEBUG = (typeof VEGA_DEBUG == \"undefined\") ? {} : VEGA_DEBUG;\n",
       "  (function(spec, embedOpt){\n",
       "    let outputDiv = document.currentScript.previousElementSibling;\n",
       "    if (outputDiv.id !== \"altair-viz-480c8447893d41bea370f44ac0194faa\") {\n",
       "      outputDiv = document.getElementById(\"altair-viz-480c8447893d41bea370f44ac0194faa\");\n",
       "    }\n",
       "    const paths = {\n",
       "      \"vega\": \"https://cdn.jsdelivr.net/npm//vega@5?noext\",\n",
       "      \"vega-lib\": \"https://cdn.jsdelivr.net/npm//vega-lib?noext\",\n",
       "      \"vega-lite\": \"https://cdn.jsdelivr.net/npm//vega-lite@4.17.0?noext\",\n",
       "      \"vega-embed\": \"https://cdn.jsdelivr.net/npm//vega-embed@6?noext\",\n",
       "    };\n",
       "\n",
       "    function maybeLoadScript(lib, version) {\n",
       "      var key = `${lib.replace(\"-\", \"\")}_version`;\n",
       "      return (VEGA_DEBUG[key] == version) ?\n",
       "        Promise.resolve(paths[lib]) :\n",
       "        new Promise(function(resolve, reject) {\n",
       "          var s = document.createElement('script');\n",
       "          document.getElementsByTagName(\"head\")[0].appendChild(s);\n",
       "          s.async = true;\n",
       "          s.onload = () => {\n",
       "            VEGA_DEBUG[key] = version;\n",
       "            return resolve(paths[lib]);\n",
       "          };\n",
       "          s.onerror = () => reject(`Error loading script: ${paths[lib]}`);\n",
       "          s.src = paths[lib];\n",
       "        });\n",
       "    }\n",
       "\n",
       "    function showError(err) {\n",
       "      outputDiv.innerHTML = `<div class=\"error\" style=\"color:red;\">${err}</div>`;\n",
       "      throw err;\n",
       "    }\n",
       "\n",
       "    function displayChart(vegaEmbed) {\n",
       "      vegaEmbed(outputDiv, spec, embedOpt)\n",
       "        .catch(err => showError(`Javascript Error: ${err.message}<br>This usually means there's a typo in your chart specification. See the javascript console for the full traceback.`));\n",
       "    }\n",
       "\n",
       "    if(typeof define === \"function\" && define.amd) {\n",
       "      requirejs.config({paths});\n",
       "      require([\"vega-embed\"], displayChart, err => showError(`Error loading script: ${err.message}`));\n",
       "    } else {\n",
       "      maybeLoadScript(\"vega\", \"5\")\n",
       "        .then(() => maybeLoadScript(\"vega-lite\", \"4.17.0\"))\n",
       "        .then(() => maybeLoadScript(\"vega-embed\", \"6\"))\n",
       "        .catch(showError)\n",
       "        .then(() => displayChart(vegaEmbed));\n",
       "    }\n",
       "  })({\"config\": {\"view\": {\"continuousWidth\": 400, \"continuousHeight\": 300}}, \"data\": {\"name\": \"data-557ebe95bf2c251ed8896bae9a86386d\"}, \"mark\": \"bar\", \"encoding\": {\"x\": {\"field\": \"ParticipantId\", \"type\": \"nominal\"}, \"y\": {\"field\": \"DarkModeAccuracy\", \"type\": \"quantitative\"}}, \"$schema\": \"https://vega.github.io/schema/vega-lite/v4.17.0.json\", \"datasets\": {\"data-557ebe95bf2c251ed8896bae9a86386d\": [{\"ParticipantId\": \"1\", \"Experimenter\": \"Team\", \"Informed Consent\": \"Yes\", \"LightModeTime\": 76, \"LightModeAccuracy\": 0.96, \"DarkModeTime\": 75, \"DarkModeAccuracy\": 0.97, \"Comfortability_1\": \"Somewhat agree\", \"Comfortability_2\": \"Somewhat disagree\", \"Comfortability_3\": \"Agree\", \"Comfortability_4\": \"Agree\", \"Comfortability_5\": \"Somewhat disagree\", \"OverallDarkComfortScore\": 7, \"OverallLightComfortScore\": 13, \"time_diff\": -1, \"accuracy_diff\": 0.010000000000000009, \"comfort_diff\": -6}, {\"ParticipantId\": \"2\", \"Experimenter\": \"Team\", \"Informed Consent\": \"Yes\", \"LightModeTime\": 62, \"LightModeAccuracy\": 0.97, \"DarkModeTime\": 60, \"DarkModeAccuracy\": 0.96, \"Comfortability_1\": \"Agree\", \"Comfortability_2\": \"Agree\", \"Comfortability_3\": \"Agree\", \"Comfortability_4\": \"Agree\", \"Comfortability_5\": \"Agree\", \"OverallDarkComfortScore\": 14, \"OverallLightComfortScore\": 10, \"time_diff\": -2, \"accuracy_diff\": -0.010000000000000009, \"comfort_diff\": 4}, {\"ParticipantId\": \"3\", \"Experimenter\": \"Team\", \"Informed Consent\": \"Yes\", \"LightModeTime\": 77, \"LightModeAccuracy\": 0.96, \"DarkModeTime\": 72, \"DarkModeAccuracy\": 0.97, \"Comfortability_1\": \"Strongly agree\", \"Comfortability_2\": \"Strongly agree\", \"Comfortability_3\": \"Strongly agree\", \"Comfortability_4\": \"Strongly agree\", \"Comfortability_5\": \"Agree\", \"OverallDarkComfortScore\": 16, \"OverallLightComfortScore\": 12, \"time_diff\": -5, \"accuracy_diff\": 0.010000000000000009, \"comfort_diff\": 4}, {\"ParticipantId\": \"4\", \"Experimenter\": \"Team\", \"Informed Consent\": \"Yes\", \"LightModeTime\": 76, \"LightModeAccuracy\": 0.97, \"DarkModeTime\": 98, \"DarkModeAccuracy\": 0.92, \"Comfortability_1\": \"Somewhat disagree\", \"Comfortability_2\": \"Somewhat agree\", \"Comfortability_3\": \"Agree\", \"Comfortability_4\": \"Neither agree nor disagree\", \"Comfortability_5\": \"Somewhat agree\", \"OverallDarkComfortScore\": 9, \"OverallLightComfortScore\": 9, \"time_diff\": 22, \"accuracy_diff\": -0.04999999999999993, \"comfort_diff\": 0}, {\"ParticipantId\": \"5\", \"Experimenter\": \"Team\", \"Informed Consent\": \"Yes\", \"LightModeTime\": 72, \"LightModeAccuracy\": 0.96, \"DarkModeTime\": 77, \"DarkModeAccuracy\": 0.96, \"Comfortability_1\": \"Strongly agree\", \"Comfortability_2\": \"Strongly agree\", \"Comfortability_3\": \"Agree\", \"Comfortability_4\": \"Agree\", \"Comfortability_5\": \"Agree\", \"OverallDarkComfortScore\": 16, \"OverallLightComfortScore\": 10, \"time_diff\": 5, \"accuracy_diff\": 0.0, \"comfort_diff\": 6}, {\"ParticipantId\": \"6\", \"Experimenter\": \"Team\", \"Informed Consent\": \"Yes\", \"LightModeTime\": 86, \"LightModeAccuracy\": 0.96, \"DarkModeTime\": 88, \"DarkModeAccuracy\": 0.96, \"Comfortability_1\": \"Strongly agree\", \"Comfortability_2\": \"Somewhat agree\", \"Comfortability_3\": \"Strongly agree\", \"Comfortability_4\": \"Strongly agree\", \"Comfortability_5\": \"Neither agree nor disagree\", \"OverallDarkComfortScore\": 12, \"OverallLightComfortScore\": 14, \"time_diff\": 2, \"accuracy_diff\": 0.0, \"comfort_diff\": -2}, {\"ParticipantId\": \"7\", \"Experimenter\": \"Team\", \"Informed Consent\": \"Yes\", \"LightModeTime\": 56, \"LightModeAccuracy\": 0.97, \"DarkModeTime\": 54, \"DarkModeAccuracy\": 0.96, \"Comfortability_1\": \"Somewhat disagree\", \"Comfortability_2\": \"Somewhat disagree\", \"Comfortability_3\": \"Strongly agree\", \"Comfortability_4\": \"Strongly agree\", \"Comfortability_5\": \"Somewhat disagree\", \"OverallDarkComfortScore\": 5, \"OverallLightComfortScore\": 15, \"time_diff\": -2, \"accuracy_diff\": -0.010000000000000009, \"comfort_diff\": -10}, {\"ParticipantId\": \"8\", \"Experimenter\": \"Team\", \"Informed Consent\": \"Yes\", \"LightModeTime\": 53, \"LightModeAccuracy\": 0.95, \"DarkModeTime\": 53, \"DarkModeAccuracy\": 0.94, \"Comfortability_1\": \"Strongly agree\", \"Comfortability_2\": \"Agree\", \"Comfortability_3\": \"Strongly agree\", \"Comfortability_4\": \"Strongly agree\", \"Comfortability_5\": \"Disagree\", \"OverallDarkComfortScore\": 11, \"OverallLightComfortScore\": 16, \"time_diff\": 0, \"accuracy_diff\": -0.010000000000000009, \"comfort_diff\": -5}, {\"ParticipantId\": \"9\", \"Experimenter\": \"Team\", \"Informed Consent\": \"Yes\", \"LightModeTime\": 68, \"LightModeAccuracy\": 0.96, \"DarkModeTime\": 79, \"DarkModeAccuracy\": 0.97, \"Comfortability_1\": \"Neither agree nor disagree\", \"Comfortability_2\": \"Disagree\", \"Comfortability_3\": \"Somewhat disagree\", \"Comfortability_4\": \"Strongly agree\", \"Comfortability_5\": \"Somewhat agree\", \"OverallDarkComfortScore\": 7, \"OverallLightComfortScore\": 9, \"time_diff\": 11, \"accuracy_diff\": 0.010000000000000009, \"comfort_diff\": -2}, {\"ParticipantId\": \"10\", \"Experimenter\": \"Team\", \"Informed Consent\": \"Yes\", \"LightModeTime\": 71, \"LightModeAccuracy\": 0.96, \"DarkModeTime\": 73, \"DarkModeAccuracy\": 0.95, \"Comfortability_1\": \"Strongly agree\", \"Comfortability_2\": \"Strongly agree\", \"Comfortability_3\": \"Somewhat agree\", \"Comfortability_4\": \"Somewhat agree\", \"Comfortability_5\": \"Strongly agree\", \"OverallDarkComfortScore\": 17, \"OverallLightComfortScore\": 7, \"time_diff\": 2, \"accuracy_diff\": -0.010000000000000009, \"comfort_diff\": 10}, {\"ParticipantId\": \"11\", \"Experimenter\": \"Team\", \"Informed Consent\": \"Yes\", \"LightModeTime\": 57, \"LightModeAccuracy\": 0.94, \"DarkModeTime\": 74, \"DarkModeAccuracy\": 0.9, \"Comfortability_1\": \"Strongly agree\", \"Comfortability_2\": \"Strongly agree\", \"Comfortability_3\": \"Strongly agree\", \"Comfortability_4\": \"Strongly agree\", \"Comfortability_5\": \"Somewhat agree\", \"OverallDarkComfortScore\": 15, \"OverallLightComfortScore\": 13, \"time_diff\": 17, \"accuracy_diff\": -0.039999999999999925, \"comfort_diff\": 2}, {\"ParticipantId\": \"12\", \"Experimenter\": \"Team\", \"Informed Consent\": \"Yes\", \"LightModeTime\": 43, \"LightModeAccuracy\": 0.97, \"DarkModeTime\": 46, \"DarkModeAccuracy\": 0.94, \"Comfortability_1\": \"Agree\", \"Comfortability_2\": \"Somewhat agree\", \"Comfortability_3\": \"Somewhat agree\", \"Comfortability_4\": \"Somewhat agree\", \"Comfortability_5\": \"Neither agree nor disagree\", \"OverallDarkComfortScore\": 11, \"OverallLightComfortScore\": 10, \"time_diff\": 3, \"accuracy_diff\": -0.030000000000000027, \"comfort_diff\": 1}, {\"ParticipantId\": \"13\", \"Experimenter\": \"Team\", \"Informed Consent\": \"Yes\", \"LightModeTime\": 46, \"LightModeAccuracy\": 0.93, \"DarkModeTime\": 41, \"DarkModeAccuracy\": 0.94, \"Comfortability_1\": \"Strongly agree\", \"Comfortability_2\": \"Strongly agree\", \"Comfortability_3\": \"Agree\", \"Comfortability_4\": \"Agree\", \"Comfortability_5\": \"Strongly agree\", \"OverallDarkComfortScore\": 17, \"OverallLightComfortScore\": 9, \"time_diff\": -5, \"accuracy_diff\": 0.009999999999999898, \"comfort_diff\": 8}, {\"ParticipantId\": \"14\", \"Experimenter\": \"Team\", \"Informed Consent\": \"Yes\", \"LightModeTime\": 66, \"LightModeAccuracy\": 0.88, \"DarkModeTime\": 67, \"DarkModeAccuracy\": 0.9, \"Comfortability_1\": \"Agree\", \"Comfortability_2\": \"Agree\", \"Comfortability_3\": \"Disagree\", \"Comfortability_4\": \"Agree\", \"Comfortability_5\": \"Somewhat agree\", \"OverallDarkComfortScore\": 13, \"OverallLightComfortScore\": 7, \"time_diff\": 1, \"accuracy_diff\": 0.020000000000000018, \"comfort_diff\": 6}, {\"ParticipantId\": \"15\", \"Experimenter\": \"Team\", \"Informed Consent\": \"Yes\", \"LightModeTime\": 44, \"LightModeAccuracy\": 0.89, \"DarkModeTime\": 56, \"DarkModeAccuracy\": 0.85, \"Comfortability_1\": \"Somewhat agree\", \"Comfortability_2\": \"Agree\", \"Comfortability_3\": \"Agree\", \"Comfortability_4\": \"Agree\", \"Comfortability_5\": \"Neither agree nor disagree\", \"OverallDarkComfortScore\": 11, \"OverallLightComfortScore\": 12, \"time_diff\": 12, \"accuracy_diff\": -0.040000000000000036, \"comfort_diff\": -1}, {\"ParticipantId\": \"16\", \"Experimenter\": \"Oliver\", \"Informed Consent\": \"Yes\", \"LightModeTime\": 79, \"LightModeAccuracy\": 0.94, \"DarkModeTime\": 72, \"DarkModeAccuracy\": 0.95, \"Comfortability_1\": \"Somewhat disagree\", \"Comfortability_2\": \"Neither agree nor disagree\", \"Comfortability_3\": \"Agree\", \"Comfortability_4\": \"Agree\", \"Comfortability_5\": \"Somewhat disagree\", \"OverallDarkComfortScore\": 6, \"OverallLightComfortScore\": 13, \"time_diff\": -7, \"accuracy_diff\": 0.010000000000000009, \"comfort_diff\": -7}, {\"ParticipantId\": \"17\", \"Experimenter\": \"Lawrence\", \"Informed Consent\": \"Yes\", \"LightModeTime\": 67, \"LightModeAccuracy\": 0.97, \"DarkModeTime\": 71, \"DarkModeAccuracy\": 0.93, \"Comfortability_1\": \"Somewhat agree\", \"Comfortability_2\": \"Disagree\", \"Comfortability_3\": \"Agree\", \"Comfortability_4\": \"Agree\", \"Comfortability_5\": \"Disagree\", \"OverallDarkComfortScore\": 5, \"OverallLightComfortScore\": 14, \"time_diff\": 4, \"accuracy_diff\": -0.039999999999999925, \"comfort_diff\": -9}, {\"ParticipantId\": \"18\", \"Experimenter\": \"Oliver\", \"Informed Consent\": \"Yes\", \"LightModeTime\": 78, \"LightModeAccuracy\": 0.92, \"DarkModeTime\": 80, \"DarkModeAccuracy\": 0.93, \"Comfortability_1\": \"Strongly agree\", \"Comfortability_2\": \"Agree\", \"Comfortability_3\": \"Neither agree nor disagree\", \"Comfortability_4\": \"Somewhat agree\", \"Comfortability_5\": \"Strongly agree\", \"OverallDarkComfortScore\": 16, \"OverallLightComfortScore\": 6, \"time_diff\": 2, \"accuracy_diff\": 0.010000000000000009, \"comfort_diff\": 10}, {\"ParticipantId\": \"19\", \"Experimenter\": \"Oliver\", \"Informed Consent\": \"Yes\", \"LightModeTime\": 61, \"LightModeAccuracy\": 0.95, \"DarkModeTime\": 55, \"DarkModeAccuracy\": 0.96, \"Comfortability_1\": \"Agree\", \"Comfortability_2\": \"Agree\", \"Comfortability_3\": \"Agree\", \"Comfortability_4\": \"Agree\", \"Comfortability_5\": \"Somewhat agree\", \"OverallDarkComfortScore\": 13, \"OverallLightComfortScore\": 11, \"time_diff\": -6, \"accuracy_diff\": 0.010000000000000009, \"comfort_diff\": 2}, {\"ParticipantId\": \"20\", \"Experimenter\": \"Oliver\", \"Informed Consent\": \"Yes\", \"LightModeTime\": 57, \"LightModeAccuracy\": 0.96, \"DarkModeTime\": 56, \"DarkModeAccuracy\": 0.99, \"Comfortability_1\": \"Agree\", \"Comfortability_2\": \"Neither agree nor disagree\", \"Comfortability_3\": \"Agree\", \"Comfortability_4\": \"Neither agree nor disagree\", \"Comfortability_5\": \"Somewhat disagree\", \"OverallDarkComfortScore\": 9, \"OverallLightComfortScore\": 11, \"time_diff\": -1, \"accuracy_diff\": 0.030000000000000027, \"comfort_diff\": -2}, {\"ParticipantId\": \"21\", \"Experimenter\": \"Oliver\", \"Informed Consent\": \"Yes\", \"LightModeTime\": 88, \"LightModeAccuracy\": 0.97, \"DarkModeTime\": 92, \"DarkModeAccuracy\": 0.98, \"Comfortability_1\": \"Strongly agree\", \"Comfortability_2\": \"Strongly agree\", \"Comfortability_3\": \"Somewhat disagree\", \"Comfortability_4\": \"Somewhat agree\", \"Comfortability_5\": \"Strongly agree\", \"OverallDarkComfortScore\": 17, \"OverallLightComfortScore\": 5, \"time_diff\": 4, \"accuracy_diff\": 0.010000000000000009, \"comfort_diff\": 12}, {\"ParticipantId\": \"22\", \"Experimenter\": \"Lawrence\", \"Informed Consent\": \"Yes\", \"LightModeTime\": 97, \"LightModeAccuracy\": 0.93, \"DarkModeTime\": 107, \"DarkModeAccuracy\": 0.93, \"Comfortability_1\": \"Agree\", \"Comfortability_2\": \"Agree\", \"Comfortability_3\": \"Agree\", \"Comfortability_4\": \"Disagree\", \"Comfortability_5\": \"Agree\", \"OverallDarkComfortScore\": 14, \"OverallLightComfortScore\": 6, \"time_diff\": 10, \"accuracy_diff\": 0.0, \"comfort_diff\": 8}, {\"ParticipantId\": \"23\", \"Experimenter\": \"Lawrence\", \"Informed Consent\": \"Yes\", \"LightModeTime\": 45, \"LightModeAccuracy\": 0.93, \"DarkModeTime\": 48, \"DarkModeAccuracy\": 0.96, \"Comfortability_1\": \"Strongly agree\", \"Comfortability_2\": \"Strongly agree\", \"Comfortability_3\": \"Strongly agree\", \"Comfortability_4\": \"Strongly agree\", \"Comfortability_5\": \"Disagree\", \"OverallDarkComfortScore\": 12, \"OverallLightComfortScore\": 16, \"time_diff\": 3, \"accuracy_diff\": 0.029999999999999916, \"comfort_diff\": -4}, {\"ParticipantId\": \"24\", \"Experimenter\": \"Lawrence\", \"Informed Consent\": \"Yes\", \"LightModeTime\": 72, \"LightModeAccuracy\": 0.85, \"DarkModeTime\": 70, \"DarkModeAccuracy\": 0.86, \"Comfortability_1\": \"Somewhat agree\", \"Comfortability_2\": \"Somewhat disagree\", \"Comfortability_3\": \"Agree\", \"Comfortability_4\": \"Strongly agree\", \"Comfortability_5\": \"Somewhat disagree\", \"OverallDarkComfortScore\": 7, \"OverallLightComfortScore\": 14, \"time_diff\": -2, \"accuracy_diff\": 0.010000000000000009, \"comfort_diff\": -7}, {\"ParticipantId\": \"25\", \"Experimenter\": \"Lawrence\", \"Informed Consent\": \"Yes\", \"LightModeTime\": 67, \"LightModeAccuracy\": 0.89, \"DarkModeTime\": 61, \"DarkModeAccuracy\": 0.96, \"Comfortability_1\": \"Strongly agree\", \"Comfortability_2\": \"Somewhat agree\", \"Comfortability_3\": \"Somewhat disagree\", \"Comfortability_4\": \"Agree\", \"Comfortability_5\": \"Agree\", \"OverallDarkComfortScore\": 14, \"OverallLightComfortScore\": 7, \"time_diff\": -6, \"accuracy_diff\": 0.06999999999999995, \"comfort_diff\": 7}, {\"ParticipantId\": \"26\", \"Experimenter\": \"Kevin\", \"Informed Consent\": \"Yes\", \"LightModeTime\": 97, \"LightModeAccuracy\": 0.97, \"DarkModeTime\": 102, \"DarkModeAccuracy\": 0.96, \"Comfortability_1\": \"Neither agree nor disagree\", \"Comfortability_2\": \"Neither agree nor disagree\", \"Comfortability_3\": \"Strongly agree\", \"Comfortability_4\": \"Strongly agree\", \"Comfortability_5\": \"Strongly disagree\", \"OverallDarkComfortScore\": 5, \"OverallLightComfortScore\": 17, \"time_diff\": 5, \"accuracy_diff\": -0.010000000000000009, \"comfort_diff\": -12}, {\"ParticipantId\": \"28\", \"Experimenter\": \"Kevin\", \"Informed Consent\": \"Yes\", \"LightModeTime\": 80, \"LightModeAccuracy\": 0.98, \"DarkModeTime\": 72, \"DarkModeAccuracy\": 0.96, \"Comfortability_1\": \"Strongly agree\", \"Comfortability_2\": \"Strongly agree\", \"Comfortability_3\": \"Somewhat disagree\", \"Comfortability_4\": \"Somewhat disagree\", \"Comfortability_5\": \"Strongly agree\", \"OverallDarkComfortScore\": 17, \"OverallLightComfortScore\": 3, \"time_diff\": -8, \"accuracy_diff\": -0.020000000000000018, \"comfort_diff\": 14}, {\"ParticipantId\": \"29\", \"Experimenter\": \"Kevin\", \"Informed Consent\": \"Yes\", \"LightModeTime\": 65, \"LightModeAccuracy\": 0.96, \"DarkModeTime\": 69, \"DarkModeAccuracy\": 0.95, \"Comfortability_1\": \"Strongly agree\", \"Comfortability_2\": \"Strongly agree\", \"Comfortability_3\": \"Strongly agree\", \"Comfortability_4\": \"Strongly agree\", \"Comfortability_5\": \"Neither agree nor disagree\", \"OverallDarkComfortScore\": 14, \"OverallLightComfortScore\": 14, \"time_diff\": 4, \"accuracy_diff\": -0.010000000000000009, \"comfort_diff\": 0}, {\"ParticipantId\": \"30\", \"Experimenter\": \"Kevin\", \"Informed Consent\": \"Yes\", \"LightModeTime\": 72, \"LightModeAccuracy\": 0.94, \"DarkModeTime\": 67, \"DarkModeAccuracy\": 0.97, \"Comfortability_1\": \"Strongly agree\", \"Comfortability_2\": \"Strongly agree\", \"Comfortability_3\": \"Strongly agree\", \"Comfortability_4\": \"Strongly agree\", \"Comfortability_5\": \"Strongly agree\", \"OverallDarkComfortScore\": 17, \"OverallLightComfortScore\": 11, \"time_diff\": -5, \"accuracy_diff\": 0.030000000000000027, \"comfort_diff\": 6}]}}, {\"mode\": \"vega-lite\"});\n",
       "</script>"
      ],
      "text/plain": [
       "alt.Chart(...)"
      ]
     },
     "execution_count": 55,
     "metadata": {},
     "output_type": "execute_result"
    }
   ],
   "source": [
    "alt.Chart(data).mark_bar().encode(\n",
    "    x='ParticipantId',\n",
    "    y='DarkModeAccuracy'\n",
    ")"
   ]
  },
  {
   "cell_type": "markdown",
   "id": "791bbc5f",
   "metadata": {},
   "source": [
    "# Hypothesis 3: Dark Mode will have a higher perceived comfort score"
   ]
  },
  {
   "cell_type": "markdown",
   "id": "97686077",
   "metadata": {},
   "source": [
    "$H_0: \\mu_{CD} = \\mu_{CL}$\n",
    "\n",
    "$H_A: \\mu_{CD} > \\mu_{CL}$"
   ]
  },
  {
   "cell_type": "code",
   "execution_count": 40,
   "id": "66734eaa",
   "metadata": {},
   "outputs": [
    {
     "data": {
      "text/plain": [
       "ShapiroResult(statistic=0.9796977639198303, pvalue=0.8304286599159241)"
      ]
     },
     "execution_count": 40,
     "metadata": {},
     "output_type": "execute_result"
    }
   ],
   "source": [
    "scipy.stats.shapiro(data.comfort_diff)"
   ]
  },
  {
   "cell_type": "markdown",
   "id": "76305c29",
   "metadata": {},
   "source": [
    "Assumption was met because we got a p-value of 0.83 which is greater than our adjusted $\\alpha$ of 0.017"
   ]
  },
  {
   "cell_type": "code",
   "execution_count": 42,
   "id": "d72ce83c",
   "metadata": {},
   "outputs": [
    {
     "data": {
      "text/html": [
       "\n",
       "<div id=\"altair-viz-3018c06321ad4b449f5e8f9e074293fe\"></div>\n",
       "<script type=\"text/javascript\">\n",
       "  var VEGA_DEBUG = (typeof VEGA_DEBUG == \"undefined\") ? {} : VEGA_DEBUG;\n",
       "  (function(spec, embedOpt){\n",
       "    let outputDiv = document.currentScript.previousElementSibling;\n",
       "    if (outputDiv.id !== \"altair-viz-3018c06321ad4b449f5e8f9e074293fe\") {\n",
       "      outputDiv = document.getElementById(\"altair-viz-3018c06321ad4b449f5e8f9e074293fe\");\n",
       "    }\n",
       "    const paths = {\n",
       "      \"vega\": \"https://cdn.jsdelivr.net/npm//vega@5?noext\",\n",
       "      \"vega-lib\": \"https://cdn.jsdelivr.net/npm//vega-lib?noext\",\n",
       "      \"vega-lite\": \"https://cdn.jsdelivr.net/npm//vega-lite@4.17.0?noext\",\n",
       "      \"vega-embed\": \"https://cdn.jsdelivr.net/npm//vega-embed@6?noext\",\n",
       "    };\n",
       "\n",
       "    function maybeLoadScript(lib, version) {\n",
       "      var key = `${lib.replace(\"-\", \"\")}_version`;\n",
       "      return (VEGA_DEBUG[key] == version) ?\n",
       "        Promise.resolve(paths[lib]) :\n",
       "        new Promise(function(resolve, reject) {\n",
       "          var s = document.createElement('script');\n",
       "          document.getElementsByTagName(\"head\")[0].appendChild(s);\n",
       "          s.async = true;\n",
       "          s.onload = () => {\n",
       "            VEGA_DEBUG[key] = version;\n",
       "            return resolve(paths[lib]);\n",
       "          };\n",
       "          s.onerror = () => reject(`Error loading script: ${paths[lib]}`);\n",
       "          s.src = paths[lib];\n",
       "        });\n",
       "    }\n",
       "\n",
       "    function showError(err) {\n",
       "      outputDiv.innerHTML = `<div class=\"error\" style=\"color:red;\">${err}</div>`;\n",
       "      throw err;\n",
       "    }\n",
       "\n",
       "    function displayChart(vegaEmbed) {\n",
       "      vegaEmbed(outputDiv, spec, embedOpt)\n",
       "        .catch(err => showError(`Javascript Error: ${err.message}<br>This usually means there's a typo in your chart specification. See the javascript console for the full traceback.`));\n",
       "    }\n",
       "\n",
       "    if(typeof define === \"function\" && define.amd) {\n",
       "      requirejs.config({paths});\n",
       "      require([\"vega-embed\"], displayChart, err => showError(`Error loading script: ${err.message}`));\n",
       "    } else {\n",
       "      maybeLoadScript(\"vega\", \"5\")\n",
       "        .then(() => maybeLoadScript(\"vega-lite\", \"4.17.0\"))\n",
       "        .then(() => maybeLoadScript(\"vega-embed\", \"6\"))\n",
       "        .catch(showError)\n",
       "        .then(() => displayChart(vegaEmbed));\n",
       "    }\n",
       "  })({\"config\": {\"view\": {\"continuousWidth\": 400, \"continuousHeight\": 300}}, \"data\": {\"name\": \"data-557ebe95bf2c251ed8896bae9a86386d\"}, \"mark\": \"bar\", \"encoding\": {\"x\": {\"bin\": true, \"field\": \"comfort_diff\", \"title\": \"Change in perceived comfort score\", \"type\": \"quantitative\"}, \"y\": {\"aggregate\": \"count\", \"type\": \"quantitative\"}}, \"title\": \"Histogram of change in perceived comfort score\", \"$schema\": \"https://vega.github.io/schema/vega-lite/v4.17.0.json\", \"datasets\": {\"data-557ebe95bf2c251ed8896bae9a86386d\": [{\"ParticipantId\": \"1\", \"Experimenter\": \"Team\", \"Informed Consent\": \"Yes\", \"LightModeTime\": 76, \"LightModeAccuracy\": 0.96, \"DarkModeTime\": 75, \"DarkModeAccuracy\": 0.97, \"Comfortability_1\": \"Somewhat agree\", \"Comfortability_2\": \"Somewhat disagree\", \"Comfortability_3\": \"Agree\", \"Comfortability_4\": \"Agree\", \"Comfortability_5\": \"Somewhat disagree\", \"OverallDarkComfortScore\": 7, \"OverallLightComfortScore\": 13, \"time_diff\": -1, \"accuracy_diff\": 0.010000000000000009, \"comfort_diff\": -6}, {\"ParticipantId\": \"2\", \"Experimenter\": \"Team\", \"Informed Consent\": \"Yes\", \"LightModeTime\": 62, \"LightModeAccuracy\": 0.97, \"DarkModeTime\": 60, \"DarkModeAccuracy\": 0.96, \"Comfortability_1\": \"Agree\", \"Comfortability_2\": \"Agree\", \"Comfortability_3\": \"Agree\", \"Comfortability_4\": \"Agree\", \"Comfortability_5\": \"Agree\", \"OverallDarkComfortScore\": 14, \"OverallLightComfortScore\": 10, \"time_diff\": -2, \"accuracy_diff\": -0.010000000000000009, \"comfort_diff\": 4}, {\"ParticipantId\": \"3\", \"Experimenter\": \"Team\", \"Informed Consent\": \"Yes\", \"LightModeTime\": 77, \"LightModeAccuracy\": 0.96, \"DarkModeTime\": 72, \"DarkModeAccuracy\": 0.97, \"Comfortability_1\": \"Strongly agree\", \"Comfortability_2\": \"Strongly agree\", \"Comfortability_3\": \"Strongly agree\", \"Comfortability_4\": \"Strongly agree\", \"Comfortability_5\": \"Agree\", \"OverallDarkComfortScore\": 16, \"OverallLightComfortScore\": 12, \"time_diff\": -5, \"accuracy_diff\": 0.010000000000000009, \"comfort_diff\": 4}, {\"ParticipantId\": \"4\", \"Experimenter\": \"Team\", \"Informed Consent\": \"Yes\", \"LightModeTime\": 76, \"LightModeAccuracy\": 0.97, \"DarkModeTime\": 98, \"DarkModeAccuracy\": 0.92, \"Comfortability_1\": \"Somewhat disagree\", \"Comfortability_2\": \"Somewhat agree\", \"Comfortability_3\": \"Agree\", \"Comfortability_4\": \"Neither agree nor disagree\", \"Comfortability_5\": \"Somewhat agree\", \"OverallDarkComfortScore\": 9, \"OverallLightComfortScore\": 9, \"time_diff\": 22, \"accuracy_diff\": -0.04999999999999993, \"comfort_diff\": 0}, {\"ParticipantId\": \"5\", \"Experimenter\": \"Team\", \"Informed Consent\": \"Yes\", \"LightModeTime\": 72, \"LightModeAccuracy\": 0.96, \"DarkModeTime\": 77, \"DarkModeAccuracy\": 0.96, \"Comfortability_1\": \"Strongly agree\", \"Comfortability_2\": \"Strongly agree\", \"Comfortability_3\": \"Agree\", \"Comfortability_4\": \"Agree\", \"Comfortability_5\": \"Agree\", \"OverallDarkComfortScore\": 16, \"OverallLightComfortScore\": 10, \"time_diff\": 5, \"accuracy_diff\": 0.0, \"comfort_diff\": 6}, {\"ParticipantId\": \"6\", \"Experimenter\": \"Team\", \"Informed Consent\": \"Yes\", \"LightModeTime\": 86, \"LightModeAccuracy\": 0.96, \"DarkModeTime\": 88, \"DarkModeAccuracy\": 0.96, \"Comfortability_1\": \"Strongly agree\", \"Comfortability_2\": \"Somewhat agree\", \"Comfortability_3\": \"Strongly agree\", \"Comfortability_4\": \"Strongly agree\", \"Comfortability_5\": \"Neither agree nor disagree\", \"OverallDarkComfortScore\": 12, \"OverallLightComfortScore\": 14, \"time_diff\": 2, \"accuracy_diff\": 0.0, \"comfort_diff\": -2}, {\"ParticipantId\": \"7\", \"Experimenter\": \"Team\", \"Informed Consent\": \"Yes\", \"LightModeTime\": 56, \"LightModeAccuracy\": 0.97, \"DarkModeTime\": 54, \"DarkModeAccuracy\": 0.96, \"Comfortability_1\": \"Somewhat disagree\", \"Comfortability_2\": \"Somewhat disagree\", \"Comfortability_3\": \"Strongly agree\", \"Comfortability_4\": \"Strongly agree\", \"Comfortability_5\": \"Somewhat disagree\", \"OverallDarkComfortScore\": 5, \"OverallLightComfortScore\": 15, \"time_diff\": -2, \"accuracy_diff\": -0.010000000000000009, \"comfort_diff\": -10}, {\"ParticipantId\": \"8\", \"Experimenter\": \"Team\", \"Informed Consent\": \"Yes\", \"LightModeTime\": 53, \"LightModeAccuracy\": 0.95, \"DarkModeTime\": 53, \"DarkModeAccuracy\": 0.94, \"Comfortability_1\": \"Strongly agree\", \"Comfortability_2\": \"Agree\", \"Comfortability_3\": \"Strongly agree\", \"Comfortability_4\": \"Strongly agree\", \"Comfortability_5\": \"Disagree\", \"OverallDarkComfortScore\": 11, \"OverallLightComfortScore\": 16, \"time_diff\": 0, \"accuracy_diff\": -0.010000000000000009, \"comfort_diff\": -5}, {\"ParticipantId\": \"9\", \"Experimenter\": \"Team\", \"Informed Consent\": \"Yes\", \"LightModeTime\": 68, \"LightModeAccuracy\": 0.96, \"DarkModeTime\": 79, \"DarkModeAccuracy\": 0.97, \"Comfortability_1\": \"Neither agree nor disagree\", \"Comfortability_2\": \"Disagree\", \"Comfortability_3\": \"Somewhat disagree\", \"Comfortability_4\": \"Strongly agree\", \"Comfortability_5\": \"Somewhat agree\", \"OverallDarkComfortScore\": 7, \"OverallLightComfortScore\": 9, \"time_diff\": 11, \"accuracy_diff\": 0.010000000000000009, \"comfort_diff\": -2}, {\"ParticipantId\": \"10\", \"Experimenter\": \"Team\", \"Informed Consent\": \"Yes\", \"LightModeTime\": 71, \"LightModeAccuracy\": 0.96, \"DarkModeTime\": 73, \"DarkModeAccuracy\": 0.95, \"Comfortability_1\": \"Strongly agree\", \"Comfortability_2\": \"Strongly agree\", \"Comfortability_3\": \"Somewhat agree\", \"Comfortability_4\": \"Somewhat agree\", \"Comfortability_5\": \"Strongly agree\", \"OverallDarkComfortScore\": 17, \"OverallLightComfortScore\": 7, \"time_diff\": 2, \"accuracy_diff\": -0.010000000000000009, \"comfort_diff\": 10}, {\"ParticipantId\": \"11\", \"Experimenter\": \"Team\", \"Informed Consent\": \"Yes\", \"LightModeTime\": 57, \"LightModeAccuracy\": 0.94, \"DarkModeTime\": 74, \"DarkModeAccuracy\": 0.9, \"Comfortability_1\": \"Strongly agree\", \"Comfortability_2\": \"Strongly agree\", \"Comfortability_3\": \"Strongly agree\", \"Comfortability_4\": \"Strongly agree\", \"Comfortability_5\": \"Somewhat agree\", \"OverallDarkComfortScore\": 15, \"OverallLightComfortScore\": 13, \"time_diff\": 17, \"accuracy_diff\": -0.039999999999999925, \"comfort_diff\": 2}, {\"ParticipantId\": \"12\", \"Experimenter\": \"Team\", \"Informed Consent\": \"Yes\", \"LightModeTime\": 43, \"LightModeAccuracy\": 0.97, \"DarkModeTime\": 46, \"DarkModeAccuracy\": 0.94, \"Comfortability_1\": \"Agree\", \"Comfortability_2\": \"Somewhat agree\", \"Comfortability_3\": \"Somewhat agree\", \"Comfortability_4\": \"Somewhat agree\", \"Comfortability_5\": \"Neither agree nor disagree\", \"OverallDarkComfortScore\": 11, \"OverallLightComfortScore\": 10, \"time_diff\": 3, \"accuracy_diff\": -0.030000000000000027, \"comfort_diff\": 1}, {\"ParticipantId\": \"13\", \"Experimenter\": \"Team\", \"Informed Consent\": \"Yes\", \"LightModeTime\": 46, \"LightModeAccuracy\": 0.93, \"DarkModeTime\": 41, \"DarkModeAccuracy\": 0.94, \"Comfortability_1\": \"Strongly agree\", \"Comfortability_2\": \"Strongly agree\", \"Comfortability_3\": \"Agree\", \"Comfortability_4\": \"Agree\", \"Comfortability_5\": \"Strongly agree\", \"OverallDarkComfortScore\": 17, \"OverallLightComfortScore\": 9, \"time_diff\": -5, \"accuracy_diff\": 0.009999999999999898, \"comfort_diff\": 8}, {\"ParticipantId\": \"14\", \"Experimenter\": \"Team\", \"Informed Consent\": \"Yes\", \"LightModeTime\": 66, \"LightModeAccuracy\": 0.88, \"DarkModeTime\": 67, \"DarkModeAccuracy\": 0.9, \"Comfortability_1\": \"Agree\", \"Comfortability_2\": \"Agree\", \"Comfortability_3\": \"Disagree\", \"Comfortability_4\": \"Agree\", \"Comfortability_5\": \"Somewhat agree\", \"OverallDarkComfortScore\": 13, \"OverallLightComfortScore\": 7, \"time_diff\": 1, \"accuracy_diff\": 0.020000000000000018, \"comfort_diff\": 6}, {\"ParticipantId\": \"15\", \"Experimenter\": \"Team\", \"Informed Consent\": \"Yes\", \"LightModeTime\": 44, \"LightModeAccuracy\": 0.89, \"DarkModeTime\": 56, \"DarkModeAccuracy\": 0.85, \"Comfortability_1\": \"Somewhat agree\", \"Comfortability_2\": \"Agree\", \"Comfortability_3\": \"Agree\", \"Comfortability_4\": \"Agree\", \"Comfortability_5\": \"Neither agree nor disagree\", \"OverallDarkComfortScore\": 11, \"OverallLightComfortScore\": 12, \"time_diff\": 12, \"accuracy_diff\": -0.040000000000000036, \"comfort_diff\": -1}, {\"ParticipantId\": \"16\", \"Experimenter\": \"Oliver\", \"Informed Consent\": \"Yes\", \"LightModeTime\": 79, \"LightModeAccuracy\": 0.94, \"DarkModeTime\": 72, \"DarkModeAccuracy\": 0.95, \"Comfortability_1\": \"Somewhat disagree\", \"Comfortability_2\": \"Neither agree nor disagree\", \"Comfortability_3\": \"Agree\", \"Comfortability_4\": \"Agree\", \"Comfortability_5\": \"Somewhat disagree\", \"OverallDarkComfortScore\": 6, \"OverallLightComfortScore\": 13, \"time_diff\": -7, \"accuracy_diff\": 0.010000000000000009, \"comfort_diff\": -7}, {\"ParticipantId\": \"17\", \"Experimenter\": \"Lawrence\", \"Informed Consent\": \"Yes\", \"LightModeTime\": 67, \"LightModeAccuracy\": 0.97, \"DarkModeTime\": 71, \"DarkModeAccuracy\": 0.93, \"Comfortability_1\": \"Somewhat agree\", \"Comfortability_2\": \"Disagree\", \"Comfortability_3\": \"Agree\", \"Comfortability_4\": \"Agree\", \"Comfortability_5\": \"Disagree\", \"OverallDarkComfortScore\": 5, \"OverallLightComfortScore\": 14, \"time_diff\": 4, \"accuracy_diff\": -0.039999999999999925, \"comfort_diff\": -9}, {\"ParticipantId\": \"18\", \"Experimenter\": \"Oliver\", \"Informed Consent\": \"Yes\", \"LightModeTime\": 78, \"LightModeAccuracy\": 0.92, \"DarkModeTime\": 80, \"DarkModeAccuracy\": 0.93, \"Comfortability_1\": \"Strongly agree\", \"Comfortability_2\": \"Agree\", \"Comfortability_3\": \"Neither agree nor disagree\", \"Comfortability_4\": \"Somewhat agree\", \"Comfortability_5\": \"Strongly agree\", \"OverallDarkComfortScore\": 16, \"OverallLightComfortScore\": 6, \"time_diff\": 2, \"accuracy_diff\": 0.010000000000000009, \"comfort_diff\": 10}, {\"ParticipantId\": \"19\", \"Experimenter\": \"Oliver\", \"Informed Consent\": \"Yes\", \"LightModeTime\": 61, \"LightModeAccuracy\": 0.95, \"DarkModeTime\": 55, \"DarkModeAccuracy\": 0.96, \"Comfortability_1\": \"Agree\", \"Comfortability_2\": \"Agree\", \"Comfortability_3\": \"Agree\", \"Comfortability_4\": \"Agree\", \"Comfortability_5\": \"Somewhat agree\", \"OverallDarkComfortScore\": 13, \"OverallLightComfortScore\": 11, \"time_diff\": -6, \"accuracy_diff\": 0.010000000000000009, \"comfort_diff\": 2}, {\"ParticipantId\": \"20\", \"Experimenter\": \"Oliver\", \"Informed Consent\": \"Yes\", \"LightModeTime\": 57, \"LightModeAccuracy\": 0.96, \"DarkModeTime\": 56, \"DarkModeAccuracy\": 0.99, \"Comfortability_1\": \"Agree\", \"Comfortability_2\": \"Neither agree nor disagree\", \"Comfortability_3\": \"Agree\", \"Comfortability_4\": \"Neither agree nor disagree\", \"Comfortability_5\": \"Somewhat disagree\", \"OverallDarkComfortScore\": 9, \"OverallLightComfortScore\": 11, \"time_diff\": -1, \"accuracy_diff\": 0.030000000000000027, \"comfort_diff\": -2}, {\"ParticipantId\": \"21\", \"Experimenter\": \"Oliver\", \"Informed Consent\": \"Yes\", \"LightModeTime\": 88, \"LightModeAccuracy\": 0.97, \"DarkModeTime\": 92, \"DarkModeAccuracy\": 0.98, \"Comfortability_1\": \"Strongly agree\", \"Comfortability_2\": \"Strongly agree\", \"Comfortability_3\": \"Somewhat disagree\", \"Comfortability_4\": \"Somewhat agree\", \"Comfortability_5\": \"Strongly agree\", \"OverallDarkComfortScore\": 17, \"OverallLightComfortScore\": 5, \"time_diff\": 4, \"accuracy_diff\": 0.010000000000000009, \"comfort_diff\": 12}, {\"ParticipantId\": \"22\", \"Experimenter\": \"Lawrence\", \"Informed Consent\": \"Yes\", \"LightModeTime\": 97, \"LightModeAccuracy\": 0.93, \"DarkModeTime\": 107, \"DarkModeAccuracy\": 0.93, \"Comfortability_1\": \"Agree\", \"Comfortability_2\": \"Agree\", \"Comfortability_3\": \"Agree\", \"Comfortability_4\": \"Disagree\", \"Comfortability_5\": \"Agree\", \"OverallDarkComfortScore\": 14, \"OverallLightComfortScore\": 6, \"time_diff\": 10, \"accuracy_diff\": 0.0, \"comfort_diff\": 8}, {\"ParticipantId\": \"23\", \"Experimenter\": \"Lawrence\", \"Informed Consent\": \"Yes\", \"LightModeTime\": 45, \"LightModeAccuracy\": 0.93, \"DarkModeTime\": 48, \"DarkModeAccuracy\": 0.96, \"Comfortability_1\": \"Strongly agree\", \"Comfortability_2\": \"Strongly agree\", \"Comfortability_3\": \"Strongly agree\", \"Comfortability_4\": \"Strongly agree\", \"Comfortability_5\": \"Disagree\", \"OverallDarkComfortScore\": 12, \"OverallLightComfortScore\": 16, \"time_diff\": 3, \"accuracy_diff\": 0.029999999999999916, \"comfort_diff\": -4}, {\"ParticipantId\": \"24\", \"Experimenter\": \"Lawrence\", \"Informed Consent\": \"Yes\", \"LightModeTime\": 72, \"LightModeAccuracy\": 0.85, \"DarkModeTime\": 70, \"DarkModeAccuracy\": 0.86, \"Comfortability_1\": \"Somewhat agree\", \"Comfortability_2\": \"Somewhat disagree\", \"Comfortability_3\": \"Agree\", \"Comfortability_4\": \"Strongly agree\", \"Comfortability_5\": \"Somewhat disagree\", \"OverallDarkComfortScore\": 7, \"OverallLightComfortScore\": 14, \"time_diff\": -2, \"accuracy_diff\": 0.010000000000000009, \"comfort_diff\": -7}, {\"ParticipantId\": \"25\", \"Experimenter\": \"Lawrence\", \"Informed Consent\": \"Yes\", \"LightModeTime\": 67, \"LightModeAccuracy\": 0.89, \"DarkModeTime\": 61, \"DarkModeAccuracy\": 0.96, \"Comfortability_1\": \"Strongly agree\", \"Comfortability_2\": \"Somewhat agree\", \"Comfortability_3\": \"Somewhat disagree\", \"Comfortability_4\": \"Agree\", \"Comfortability_5\": \"Agree\", \"OverallDarkComfortScore\": 14, \"OverallLightComfortScore\": 7, \"time_diff\": -6, \"accuracy_diff\": 0.06999999999999995, \"comfort_diff\": 7}, {\"ParticipantId\": \"26\", \"Experimenter\": \"Kevin\", \"Informed Consent\": \"Yes\", \"LightModeTime\": 97, \"LightModeAccuracy\": 0.97, \"DarkModeTime\": 102, \"DarkModeAccuracy\": 0.96, \"Comfortability_1\": \"Neither agree nor disagree\", \"Comfortability_2\": \"Neither agree nor disagree\", \"Comfortability_3\": \"Strongly agree\", \"Comfortability_4\": \"Strongly agree\", \"Comfortability_5\": \"Strongly disagree\", \"OverallDarkComfortScore\": 5, \"OverallLightComfortScore\": 17, \"time_diff\": 5, \"accuracy_diff\": -0.010000000000000009, \"comfort_diff\": -12}, {\"ParticipantId\": \"28\", \"Experimenter\": \"Kevin\", \"Informed Consent\": \"Yes\", \"LightModeTime\": 80, \"LightModeAccuracy\": 0.98, \"DarkModeTime\": 72, \"DarkModeAccuracy\": 0.96, \"Comfortability_1\": \"Strongly agree\", \"Comfortability_2\": \"Strongly agree\", \"Comfortability_3\": \"Somewhat disagree\", \"Comfortability_4\": \"Somewhat disagree\", \"Comfortability_5\": \"Strongly agree\", \"OverallDarkComfortScore\": 17, \"OverallLightComfortScore\": 3, \"time_diff\": -8, \"accuracy_diff\": -0.020000000000000018, \"comfort_diff\": 14}, {\"ParticipantId\": \"29\", \"Experimenter\": \"Kevin\", \"Informed Consent\": \"Yes\", \"LightModeTime\": 65, \"LightModeAccuracy\": 0.96, \"DarkModeTime\": 69, \"DarkModeAccuracy\": 0.95, \"Comfortability_1\": \"Strongly agree\", \"Comfortability_2\": \"Strongly agree\", \"Comfortability_3\": \"Strongly agree\", \"Comfortability_4\": \"Strongly agree\", \"Comfortability_5\": \"Neither agree nor disagree\", \"OverallDarkComfortScore\": 14, \"OverallLightComfortScore\": 14, \"time_diff\": 4, \"accuracy_diff\": -0.010000000000000009, \"comfort_diff\": 0}, {\"ParticipantId\": \"30\", \"Experimenter\": \"Kevin\", \"Informed Consent\": \"Yes\", \"LightModeTime\": 72, \"LightModeAccuracy\": 0.94, \"DarkModeTime\": 67, \"DarkModeAccuracy\": 0.97, \"Comfortability_1\": \"Strongly agree\", \"Comfortability_2\": \"Strongly agree\", \"Comfortability_3\": \"Strongly agree\", \"Comfortability_4\": \"Strongly agree\", \"Comfortability_5\": \"Strongly agree\", \"OverallDarkComfortScore\": 17, \"OverallLightComfortScore\": 11, \"time_diff\": -5, \"accuracy_diff\": 0.030000000000000027, \"comfort_diff\": 6}]}}, {\"mode\": \"vega-lite\"});\n",
       "</script>"
      ],
      "text/plain": [
       "alt.Chart(...)"
      ]
     },
     "execution_count": 42,
     "metadata": {},
     "output_type": "execute_result"
    }
   ],
   "source": [
    "alt.Chart(data, title=\"Histogram of change in perceived comfort score\").mark_bar().encode(\n",
    "    x=alt.X(\"comfort_diff\", bin=True, title=\"Change in perceived comfort score\"),\n",
    "    y=\"count()\"\n",
    ")"
   ]
  },
  {
   "cell_type": "markdown",
   "id": "e87fc4b5",
   "metadata": {},
   "source": [
    "# Descriptive Statistics"
   ]
  },
  {
   "cell_type": "code",
   "execution_count": 43,
   "id": "74974cdd",
   "metadata": {},
   "outputs": [
    {
     "name": "stdout",
     "output_type": "stream",
     "text": [
      "Dark: mean = 11.97, SD = 4.14\n",
      "Light: mean = 10.83, SD = 3.61\n"
     ]
    }
   ],
   "source": [
    "darkModeComfortSTD = data.OverallDarkComfortScore.std()\n",
    "darkModeComfortMean = data.OverallDarkComfortScore.mean()\n",
    "\n",
    "lightModeComfortSTD = data.OverallLightComfortScore.std()\n",
    "lightModeComfortMean = data.OverallLightComfortScore.mean()\n",
    "\n",
    "print(\"Dark: mean = %.2f, SD = %.2f\" % (darkModeComfortMean, darkModeComfortSTD))\n",
    "print(\"Light: mean = %.2f, SD = %.2f\" % (lightModeComfortMean, lightModeComfortSTD))"
   ]
  },
  {
   "cell_type": "markdown",
   "id": "6c563504",
   "metadata": {},
   "source": [
    "# One-Tailed Paired Sample T-Test"
   ]
  },
  {
   "cell_type": "code",
   "execution_count": 44,
   "id": "ec601fa0",
   "metadata": {},
   "outputs": [
    {
     "data": {
      "text/plain": [
       "Ttest_relResult(statistic=0.8853336897019269, pvalue=0.19175846073217295)"
      ]
     },
     "execution_count": 44,
     "metadata": {},
     "output_type": "execute_result"
    }
   ],
   "source": [
    "scipy.stats.ttest_rel(data.OverallDarkComfortScore, data.OverallLightComfortScore, alternative='greater')"
   ]
  },
  {
   "cell_type": "markdown",
   "id": "4db8e5ad",
   "metadata": {},
   "source": [
    "The p-value of 0.19 is greater than our adjusted $\\alpha$ of 0.017, so we do not have statistically significant results and we fail to reject the null hypothesis that there is no difference in the mean perceived comfort scores between light and dark mode."
   ]
  },
  {
   "cell_type": "markdown",
   "id": "2d2c0f8b",
   "metadata": {},
   "source": [
    "# Effect Size"
   ]
  },
  {
   "cell_type": "code",
   "execution_count": 45,
   "id": "d95fa479",
   "metadata": {},
   "outputs": [
    {
     "data": {
      "text/plain": [
       "0.1644023389087364"
      ]
     },
     "execution_count": 45,
     "metadata": {},
     "output_type": "execute_result"
    }
   ],
   "source": [
    "cohen_d_comfort = data.comfort_diff.mean() / data.comfort_diff.std()\n",
    "cohen_d_comfort"
   ]
  },
  {
   "cell_type": "markdown",
   "id": "322947e4",
   "metadata": {},
   "source": [
    "This means there is only a small effect on perceived comfort score because the magnitude of Cohen's d for the perceived comfort score is 0.1644 which is in the small range."
   ]
  },
  {
   "cell_type": "markdown",
   "id": "b623a098",
   "metadata": {},
   "source": [
    "# Confidence Intervals"
   ]
  },
  {
   "cell_type": "code",
   "execution_count": 46,
   "id": "78e8ec79",
   "metadata": {},
   "outputs": [
    {
     "data": {
      "text/plain": [
       "(-1.3812364505222565, 3.657098519487774)"
      ]
     },
     "execution_count": 46,
     "metadata": {},
     "output_type": "execute_result"
    }
   ],
   "source": [
    "bounds_comfort = scipy.stats.norm.interval(alpha=0.95, loc=data.comfort_diff.mean(), scale=scipy.stats.sem(data.comfort_diff))\n",
    "bounds_comfort"
   ]
  },
  {
   "cell_type": "markdown",
   "id": "945debd6",
   "metadata": {},
   "source": [
    "This tells us that 95% of the time, the true mean difference in the mean comfort scores between light and dark mode will fall between -1.38 and 3.66 units. This lines up with the fact that we didn't reject the null hypothesis (since we didn't get a statistically significant result) because 0 is within this range, meaning there could be no difference in dark and light mode perceived scores. If there's no difference, then the mean perceived comfort score for dark mode isn't greater than the mean perceived comfort score for light mode. "
   ]
  },
  {
   "cell_type": "markdown",
   "id": "4921f7e1",
   "metadata": {},
   "source": [
    "# Data Visualization"
   ]
  },
  {
   "cell_type": "code",
   "execution_count": 56,
   "id": "ac9e3091",
   "metadata": {},
   "outputs": [
    {
     "data": {
      "text/html": [
       "\n",
       "<div id=\"altair-viz-ccd0a5f41b0f47efbb2e7c5d6a992b1c\"></div>\n",
       "<script type=\"text/javascript\">\n",
       "  var VEGA_DEBUG = (typeof VEGA_DEBUG == \"undefined\") ? {} : VEGA_DEBUG;\n",
       "  (function(spec, embedOpt){\n",
       "    let outputDiv = document.currentScript.previousElementSibling;\n",
       "    if (outputDiv.id !== \"altair-viz-ccd0a5f41b0f47efbb2e7c5d6a992b1c\") {\n",
       "      outputDiv = document.getElementById(\"altair-viz-ccd0a5f41b0f47efbb2e7c5d6a992b1c\");\n",
       "    }\n",
       "    const paths = {\n",
       "      \"vega\": \"https://cdn.jsdelivr.net/npm//vega@5?noext\",\n",
       "      \"vega-lib\": \"https://cdn.jsdelivr.net/npm//vega-lib?noext\",\n",
       "      \"vega-lite\": \"https://cdn.jsdelivr.net/npm//vega-lite@4.17.0?noext\",\n",
       "      \"vega-embed\": \"https://cdn.jsdelivr.net/npm//vega-embed@6?noext\",\n",
       "    };\n",
       "\n",
       "    function maybeLoadScript(lib, version) {\n",
       "      var key = `${lib.replace(\"-\", \"\")}_version`;\n",
       "      return (VEGA_DEBUG[key] == version) ?\n",
       "        Promise.resolve(paths[lib]) :\n",
       "        new Promise(function(resolve, reject) {\n",
       "          var s = document.createElement('script');\n",
       "          document.getElementsByTagName(\"head\")[0].appendChild(s);\n",
       "          s.async = true;\n",
       "          s.onload = () => {\n",
       "            VEGA_DEBUG[key] = version;\n",
       "            return resolve(paths[lib]);\n",
       "          };\n",
       "          s.onerror = () => reject(`Error loading script: ${paths[lib]}`);\n",
       "          s.src = paths[lib];\n",
       "        });\n",
       "    }\n",
       "\n",
       "    function showError(err) {\n",
       "      outputDiv.innerHTML = `<div class=\"error\" style=\"color:red;\">${err}</div>`;\n",
       "      throw err;\n",
       "    }\n",
       "\n",
       "    function displayChart(vegaEmbed) {\n",
       "      vegaEmbed(outputDiv, spec, embedOpt)\n",
       "        .catch(err => showError(`Javascript Error: ${err.message}<br>This usually means there's a typo in your chart specification. See the javascript console for the full traceback.`));\n",
       "    }\n",
       "\n",
       "    if(typeof define === \"function\" && define.amd) {\n",
       "      requirejs.config({paths});\n",
       "      require([\"vega-embed\"], displayChart, err => showError(`Error loading script: ${err.message}`));\n",
       "    } else {\n",
       "      maybeLoadScript(\"vega\", \"5\")\n",
       "        .then(() => maybeLoadScript(\"vega-lite\", \"4.17.0\"))\n",
       "        .then(() => maybeLoadScript(\"vega-embed\", \"6\"))\n",
       "        .catch(showError)\n",
       "        .then(() => displayChart(vegaEmbed));\n",
       "    }\n",
       "  })({\"config\": {\"view\": {\"continuousWidth\": 400, \"continuousHeight\": 300}}, \"data\": {\"name\": \"data-557ebe95bf2c251ed8896bae9a86386d\"}, \"mark\": \"bar\", \"encoding\": {\"x\": {\"field\": \"ParticipantId\", \"type\": \"nominal\"}, \"y\": {\"field\": \"OverallLightComfortScore\", \"type\": \"quantitative\"}}, \"$schema\": \"https://vega.github.io/schema/vega-lite/v4.17.0.json\", \"datasets\": {\"data-557ebe95bf2c251ed8896bae9a86386d\": [{\"ParticipantId\": \"1\", \"Experimenter\": \"Team\", \"Informed Consent\": \"Yes\", \"LightModeTime\": 76, \"LightModeAccuracy\": 0.96, \"DarkModeTime\": 75, \"DarkModeAccuracy\": 0.97, \"Comfortability_1\": \"Somewhat agree\", \"Comfortability_2\": \"Somewhat disagree\", \"Comfortability_3\": \"Agree\", \"Comfortability_4\": \"Agree\", \"Comfortability_5\": \"Somewhat disagree\", \"OverallDarkComfortScore\": 7, \"OverallLightComfortScore\": 13, \"time_diff\": -1, \"accuracy_diff\": 0.010000000000000009, \"comfort_diff\": -6}, {\"ParticipantId\": \"2\", \"Experimenter\": \"Team\", \"Informed Consent\": \"Yes\", \"LightModeTime\": 62, \"LightModeAccuracy\": 0.97, \"DarkModeTime\": 60, \"DarkModeAccuracy\": 0.96, \"Comfortability_1\": \"Agree\", \"Comfortability_2\": \"Agree\", \"Comfortability_3\": \"Agree\", \"Comfortability_4\": \"Agree\", \"Comfortability_5\": \"Agree\", \"OverallDarkComfortScore\": 14, \"OverallLightComfortScore\": 10, \"time_diff\": -2, \"accuracy_diff\": -0.010000000000000009, \"comfort_diff\": 4}, {\"ParticipantId\": \"3\", \"Experimenter\": \"Team\", \"Informed Consent\": \"Yes\", \"LightModeTime\": 77, \"LightModeAccuracy\": 0.96, \"DarkModeTime\": 72, \"DarkModeAccuracy\": 0.97, \"Comfortability_1\": \"Strongly agree\", \"Comfortability_2\": \"Strongly agree\", \"Comfortability_3\": \"Strongly agree\", \"Comfortability_4\": \"Strongly agree\", \"Comfortability_5\": \"Agree\", \"OverallDarkComfortScore\": 16, \"OverallLightComfortScore\": 12, \"time_diff\": -5, \"accuracy_diff\": 0.010000000000000009, \"comfort_diff\": 4}, {\"ParticipantId\": \"4\", \"Experimenter\": \"Team\", \"Informed Consent\": \"Yes\", \"LightModeTime\": 76, \"LightModeAccuracy\": 0.97, \"DarkModeTime\": 98, \"DarkModeAccuracy\": 0.92, \"Comfortability_1\": \"Somewhat disagree\", \"Comfortability_2\": \"Somewhat agree\", \"Comfortability_3\": \"Agree\", \"Comfortability_4\": \"Neither agree nor disagree\", \"Comfortability_5\": \"Somewhat agree\", \"OverallDarkComfortScore\": 9, \"OverallLightComfortScore\": 9, \"time_diff\": 22, \"accuracy_diff\": -0.04999999999999993, \"comfort_diff\": 0}, {\"ParticipantId\": \"5\", \"Experimenter\": \"Team\", \"Informed Consent\": \"Yes\", \"LightModeTime\": 72, \"LightModeAccuracy\": 0.96, \"DarkModeTime\": 77, \"DarkModeAccuracy\": 0.96, \"Comfortability_1\": \"Strongly agree\", \"Comfortability_2\": \"Strongly agree\", \"Comfortability_3\": \"Agree\", \"Comfortability_4\": \"Agree\", \"Comfortability_5\": \"Agree\", \"OverallDarkComfortScore\": 16, \"OverallLightComfortScore\": 10, \"time_diff\": 5, \"accuracy_diff\": 0.0, \"comfort_diff\": 6}, {\"ParticipantId\": \"6\", \"Experimenter\": \"Team\", \"Informed Consent\": \"Yes\", \"LightModeTime\": 86, \"LightModeAccuracy\": 0.96, \"DarkModeTime\": 88, \"DarkModeAccuracy\": 0.96, \"Comfortability_1\": \"Strongly agree\", \"Comfortability_2\": \"Somewhat agree\", \"Comfortability_3\": \"Strongly agree\", \"Comfortability_4\": \"Strongly agree\", \"Comfortability_5\": \"Neither agree nor disagree\", \"OverallDarkComfortScore\": 12, \"OverallLightComfortScore\": 14, \"time_diff\": 2, \"accuracy_diff\": 0.0, \"comfort_diff\": -2}, {\"ParticipantId\": \"7\", \"Experimenter\": \"Team\", \"Informed Consent\": \"Yes\", \"LightModeTime\": 56, \"LightModeAccuracy\": 0.97, \"DarkModeTime\": 54, \"DarkModeAccuracy\": 0.96, \"Comfortability_1\": \"Somewhat disagree\", \"Comfortability_2\": \"Somewhat disagree\", \"Comfortability_3\": \"Strongly agree\", \"Comfortability_4\": \"Strongly agree\", \"Comfortability_5\": \"Somewhat disagree\", \"OverallDarkComfortScore\": 5, \"OverallLightComfortScore\": 15, \"time_diff\": -2, \"accuracy_diff\": -0.010000000000000009, \"comfort_diff\": -10}, {\"ParticipantId\": \"8\", \"Experimenter\": \"Team\", \"Informed Consent\": \"Yes\", \"LightModeTime\": 53, \"LightModeAccuracy\": 0.95, \"DarkModeTime\": 53, \"DarkModeAccuracy\": 0.94, \"Comfortability_1\": \"Strongly agree\", \"Comfortability_2\": \"Agree\", \"Comfortability_3\": \"Strongly agree\", \"Comfortability_4\": \"Strongly agree\", \"Comfortability_5\": \"Disagree\", \"OverallDarkComfortScore\": 11, \"OverallLightComfortScore\": 16, \"time_diff\": 0, \"accuracy_diff\": -0.010000000000000009, \"comfort_diff\": -5}, {\"ParticipantId\": \"9\", \"Experimenter\": \"Team\", \"Informed Consent\": \"Yes\", \"LightModeTime\": 68, \"LightModeAccuracy\": 0.96, \"DarkModeTime\": 79, \"DarkModeAccuracy\": 0.97, \"Comfortability_1\": \"Neither agree nor disagree\", \"Comfortability_2\": \"Disagree\", \"Comfortability_3\": \"Somewhat disagree\", \"Comfortability_4\": \"Strongly agree\", \"Comfortability_5\": \"Somewhat agree\", \"OverallDarkComfortScore\": 7, \"OverallLightComfortScore\": 9, \"time_diff\": 11, \"accuracy_diff\": 0.010000000000000009, \"comfort_diff\": -2}, {\"ParticipantId\": \"10\", \"Experimenter\": \"Team\", \"Informed Consent\": \"Yes\", \"LightModeTime\": 71, \"LightModeAccuracy\": 0.96, \"DarkModeTime\": 73, \"DarkModeAccuracy\": 0.95, \"Comfortability_1\": \"Strongly agree\", \"Comfortability_2\": \"Strongly agree\", \"Comfortability_3\": \"Somewhat agree\", \"Comfortability_4\": \"Somewhat agree\", \"Comfortability_5\": \"Strongly agree\", \"OverallDarkComfortScore\": 17, \"OverallLightComfortScore\": 7, \"time_diff\": 2, \"accuracy_diff\": -0.010000000000000009, \"comfort_diff\": 10}, {\"ParticipantId\": \"11\", \"Experimenter\": \"Team\", \"Informed Consent\": \"Yes\", \"LightModeTime\": 57, \"LightModeAccuracy\": 0.94, \"DarkModeTime\": 74, \"DarkModeAccuracy\": 0.9, \"Comfortability_1\": \"Strongly agree\", \"Comfortability_2\": \"Strongly agree\", \"Comfortability_3\": \"Strongly agree\", \"Comfortability_4\": \"Strongly agree\", \"Comfortability_5\": \"Somewhat agree\", \"OverallDarkComfortScore\": 15, \"OverallLightComfortScore\": 13, \"time_diff\": 17, \"accuracy_diff\": -0.039999999999999925, \"comfort_diff\": 2}, {\"ParticipantId\": \"12\", \"Experimenter\": \"Team\", \"Informed Consent\": \"Yes\", \"LightModeTime\": 43, \"LightModeAccuracy\": 0.97, \"DarkModeTime\": 46, \"DarkModeAccuracy\": 0.94, \"Comfortability_1\": \"Agree\", \"Comfortability_2\": \"Somewhat agree\", \"Comfortability_3\": \"Somewhat agree\", \"Comfortability_4\": \"Somewhat agree\", \"Comfortability_5\": \"Neither agree nor disagree\", \"OverallDarkComfortScore\": 11, \"OverallLightComfortScore\": 10, \"time_diff\": 3, \"accuracy_diff\": -0.030000000000000027, \"comfort_diff\": 1}, {\"ParticipantId\": \"13\", \"Experimenter\": \"Team\", \"Informed Consent\": \"Yes\", \"LightModeTime\": 46, \"LightModeAccuracy\": 0.93, \"DarkModeTime\": 41, \"DarkModeAccuracy\": 0.94, \"Comfortability_1\": \"Strongly agree\", \"Comfortability_2\": \"Strongly agree\", \"Comfortability_3\": \"Agree\", \"Comfortability_4\": \"Agree\", \"Comfortability_5\": \"Strongly agree\", \"OverallDarkComfortScore\": 17, \"OverallLightComfortScore\": 9, \"time_diff\": -5, \"accuracy_diff\": 0.009999999999999898, \"comfort_diff\": 8}, {\"ParticipantId\": \"14\", \"Experimenter\": \"Team\", \"Informed Consent\": \"Yes\", \"LightModeTime\": 66, \"LightModeAccuracy\": 0.88, \"DarkModeTime\": 67, \"DarkModeAccuracy\": 0.9, \"Comfortability_1\": \"Agree\", \"Comfortability_2\": \"Agree\", \"Comfortability_3\": \"Disagree\", \"Comfortability_4\": \"Agree\", \"Comfortability_5\": \"Somewhat agree\", \"OverallDarkComfortScore\": 13, \"OverallLightComfortScore\": 7, \"time_diff\": 1, \"accuracy_diff\": 0.020000000000000018, \"comfort_diff\": 6}, {\"ParticipantId\": \"15\", \"Experimenter\": \"Team\", \"Informed Consent\": \"Yes\", \"LightModeTime\": 44, \"LightModeAccuracy\": 0.89, \"DarkModeTime\": 56, \"DarkModeAccuracy\": 0.85, \"Comfortability_1\": \"Somewhat agree\", \"Comfortability_2\": \"Agree\", \"Comfortability_3\": \"Agree\", \"Comfortability_4\": \"Agree\", \"Comfortability_5\": \"Neither agree nor disagree\", \"OverallDarkComfortScore\": 11, \"OverallLightComfortScore\": 12, \"time_diff\": 12, \"accuracy_diff\": -0.040000000000000036, \"comfort_diff\": -1}, {\"ParticipantId\": \"16\", \"Experimenter\": \"Oliver\", \"Informed Consent\": \"Yes\", \"LightModeTime\": 79, \"LightModeAccuracy\": 0.94, \"DarkModeTime\": 72, \"DarkModeAccuracy\": 0.95, \"Comfortability_1\": \"Somewhat disagree\", \"Comfortability_2\": \"Neither agree nor disagree\", \"Comfortability_3\": \"Agree\", \"Comfortability_4\": \"Agree\", \"Comfortability_5\": \"Somewhat disagree\", \"OverallDarkComfortScore\": 6, \"OverallLightComfortScore\": 13, \"time_diff\": -7, \"accuracy_diff\": 0.010000000000000009, \"comfort_diff\": -7}, {\"ParticipantId\": \"17\", \"Experimenter\": \"Lawrence\", \"Informed Consent\": \"Yes\", \"LightModeTime\": 67, \"LightModeAccuracy\": 0.97, \"DarkModeTime\": 71, \"DarkModeAccuracy\": 0.93, \"Comfortability_1\": \"Somewhat agree\", \"Comfortability_2\": \"Disagree\", \"Comfortability_3\": \"Agree\", \"Comfortability_4\": \"Agree\", \"Comfortability_5\": \"Disagree\", \"OverallDarkComfortScore\": 5, \"OverallLightComfortScore\": 14, \"time_diff\": 4, \"accuracy_diff\": -0.039999999999999925, \"comfort_diff\": -9}, {\"ParticipantId\": \"18\", \"Experimenter\": \"Oliver\", \"Informed Consent\": \"Yes\", \"LightModeTime\": 78, \"LightModeAccuracy\": 0.92, \"DarkModeTime\": 80, \"DarkModeAccuracy\": 0.93, \"Comfortability_1\": \"Strongly agree\", \"Comfortability_2\": \"Agree\", \"Comfortability_3\": \"Neither agree nor disagree\", \"Comfortability_4\": \"Somewhat agree\", \"Comfortability_5\": \"Strongly agree\", \"OverallDarkComfortScore\": 16, \"OverallLightComfortScore\": 6, \"time_diff\": 2, \"accuracy_diff\": 0.010000000000000009, \"comfort_diff\": 10}, {\"ParticipantId\": \"19\", \"Experimenter\": \"Oliver\", \"Informed Consent\": \"Yes\", \"LightModeTime\": 61, \"LightModeAccuracy\": 0.95, \"DarkModeTime\": 55, \"DarkModeAccuracy\": 0.96, \"Comfortability_1\": \"Agree\", \"Comfortability_2\": \"Agree\", \"Comfortability_3\": \"Agree\", \"Comfortability_4\": \"Agree\", \"Comfortability_5\": \"Somewhat agree\", \"OverallDarkComfortScore\": 13, \"OverallLightComfortScore\": 11, \"time_diff\": -6, \"accuracy_diff\": 0.010000000000000009, \"comfort_diff\": 2}, {\"ParticipantId\": \"20\", \"Experimenter\": \"Oliver\", \"Informed Consent\": \"Yes\", \"LightModeTime\": 57, \"LightModeAccuracy\": 0.96, \"DarkModeTime\": 56, \"DarkModeAccuracy\": 0.99, \"Comfortability_1\": \"Agree\", \"Comfortability_2\": \"Neither agree nor disagree\", \"Comfortability_3\": \"Agree\", \"Comfortability_4\": \"Neither agree nor disagree\", \"Comfortability_5\": \"Somewhat disagree\", \"OverallDarkComfortScore\": 9, \"OverallLightComfortScore\": 11, \"time_diff\": -1, \"accuracy_diff\": 0.030000000000000027, \"comfort_diff\": -2}, {\"ParticipantId\": \"21\", \"Experimenter\": \"Oliver\", \"Informed Consent\": \"Yes\", \"LightModeTime\": 88, \"LightModeAccuracy\": 0.97, \"DarkModeTime\": 92, \"DarkModeAccuracy\": 0.98, \"Comfortability_1\": \"Strongly agree\", \"Comfortability_2\": \"Strongly agree\", \"Comfortability_3\": \"Somewhat disagree\", \"Comfortability_4\": \"Somewhat agree\", \"Comfortability_5\": \"Strongly agree\", \"OverallDarkComfortScore\": 17, \"OverallLightComfortScore\": 5, \"time_diff\": 4, \"accuracy_diff\": 0.010000000000000009, \"comfort_diff\": 12}, {\"ParticipantId\": \"22\", \"Experimenter\": \"Lawrence\", \"Informed Consent\": \"Yes\", \"LightModeTime\": 97, \"LightModeAccuracy\": 0.93, \"DarkModeTime\": 107, \"DarkModeAccuracy\": 0.93, \"Comfortability_1\": \"Agree\", \"Comfortability_2\": \"Agree\", \"Comfortability_3\": \"Agree\", \"Comfortability_4\": \"Disagree\", \"Comfortability_5\": \"Agree\", \"OverallDarkComfortScore\": 14, \"OverallLightComfortScore\": 6, \"time_diff\": 10, \"accuracy_diff\": 0.0, \"comfort_diff\": 8}, {\"ParticipantId\": \"23\", \"Experimenter\": \"Lawrence\", \"Informed Consent\": \"Yes\", \"LightModeTime\": 45, \"LightModeAccuracy\": 0.93, \"DarkModeTime\": 48, \"DarkModeAccuracy\": 0.96, \"Comfortability_1\": \"Strongly agree\", \"Comfortability_2\": \"Strongly agree\", \"Comfortability_3\": \"Strongly agree\", \"Comfortability_4\": \"Strongly agree\", \"Comfortability_5\": \"Disagree\", \"OverallDarkComfortScore\": 12, \"OverallLightComfortScore\": 16, \"time_diff\": 3, \"accuracy_diff\": 0.029999999999999916, \"comfort_diff\": -4}, {\"ParticipantId\": \"24\", \"Experimenter\": \"Lawrence\", \"Informed Consent\": \"Yes\", \"LightModeTime\": 72, \"LightModeAccuracy\": 0.85, \"DarkModeTime\": 70, \"DarkModeAccuracy\": 0.86, \"Comfortability_1\": \"Somewhat agree\", \"Comfortability_2\": \"Somewhat disagree\", \"Comfortability_3\": \"Agree\", \"Comfortability_4\": \"Strongly agree\", \"Comfortability_5\": \"Somewhat disagree\", \"OverallDarkComfortScore\": 7, \"OverallLightComfortScore\": 14, \"time_diff\": -2, \"accuracy_diff\": 0.010000000000000009, \"comfort_diff\": -7}, {\"ParticipantId\": \"25\", \"Experimenter\": \"Lawrence\", \"Informed Consent\": \"Yes\", \"LightModeTime\": 67, \"LightModeAccuracy\": 0.89, \"DarkModeTime\": 61, \"DarkModeAccuracy\": 0.96, \"Comfortability_1\": \"Strongly agree\", \"Comfortability_2\": \"Somewhat agree\", \"Comfortability_3\": \"Somewhat disagree\", \"Comfortability_4\": \"Agree\", \"Comfortability_5\": \"Agree\", \"OverallDarkComfortScore\": 14, \"OverallLightComfortScore\": 7, \"time_diff\": -6, \"accuracy_diff\": 0.06999999999999995, \"comfort_diff\": 7}, {\"ParticipantId\": \"26\", \"Experimenter\": \"Kevin\", \"Informed Consent\": \"Yes\", \"LightModeTime\": 97, \"LightModeAccuracy\": 0.97, \"DarkModeTime\": 102, \"DarkModeAccuracy\": 0.96, \"Comfortability_1\": \"Neither agree nor disagree\", \"Comfortability_2\": \"Neither agree nor disagree\", \"Comfortability_3\": \"Strongly agree\", \"Comfortability_4\": \"Strongly agree\", \"Comfortability_5\": \"Strongly disagree\", \"OverallDarkComfortScore\": 5, \"OverallLightComfortScore\": 17, \"time_diff\": 5, \"accuracy_diff\": -0.010000000000000009, \"comfort_diff\": -12}, {\"ParticipantId\": \"28\", \"Experimenter\": \"Kevin\", \"Informed Consent\": \"Yes\", \"LightModeTime\": 80, \"LightModeAccuracy\": 0.98, \"DarkModeTime\": 72, \"DarkModeAccuracy\": 0.96, \"Comfortability_1\": \"Strongly agree\", \"Comfortability_2\": \"Strongly agree\", \"Comfortability_3\": \"Somewhat disagree\", \"Comfortability_4\": \"Somewhat disagree\", \"Comfortability_5\": \"Strongly agree\", \"OverallDarkComfortScore\": 17, \"OverallLightComfortScore\": 3, \"time_diff\": -8, \"accuracy_diff\": -0.020000000000000018, \"comfort_diff\": 14}, {\"ParticipantId\": \"29\", \"Experimenter\": \"Kevin\", \"Informed Consent\": \"Yes\", \"LightModeTime\": 65, \"LightModeAccuracy\": 0.96, \"DarkModeTime\": 69, \"DarkModeAccuracy\": 0.95, \"Comfortability_1\": \"Strongly agree\", \"Comfortability_2\": \"Strongly agree\", \"Comfortability_3\": \"Strongly agree\", \"Comfortability_4\": \"Strongly agree\", \"Comfortability_5\": \"Neither agree nor disagree\", \"OverallDarkComfortScore\": 14, \"OverallLightComfortScore\": 14, \"time_diff\": 4, \"accuracy_diff\": -0.010000000000000009, \"comfort_diff\": 0}, {\"ParticipantId\": \"30\", \"Experimenter\": \"Kevin\", \"Informed Consent\": \"Yes\", \"LightModeTime\": 72, \"LightModeAccuracy\": 0.94, \"DarkModeTime\": 67, \"DarkModeAccuracy\": 0.97, \"Comfortability_1\": \"Strongly agree\", \"Comfortability_2\": \"Strongly agree\", \"Comfortability_3\": \"Strongly agree\", \"Comfortability_4\": \"Strongly agree\", \"Comfortability_5\": \"Strongly agree\", \"OverallDarkComfortScore\": 17, \"OverallLightComfortScore\": 11, \"time_diff\": -5, \"accuracy_diff\": 0.030000000000000027, \"comfort_diff\": 6}]}}, {\"mode\": \"vega-lite\"});\n",
       "</script>"
      ],
      "text/plain": [
       "alt.Chart(...)"
      ]
     },
     "execution_count": 56,
     "metadata": {},
     "output_type": "execute_result"
    }
   ],
   "source": [
    "alt.Chart(data).mark_bar().encode(\n",
    "    x='ParticipantId',\n",
    "    y='OverallLightComfortScore'\n",
    ")"
   ]
  },
  {
   "cell_type": "code",
   "execution_count": 57,
   "id": "5167a19e",
   "metadata": {},
   "outputs": [
    {
     "data": {
      "text/html": [
       "\n",
       "<div id=\"altair-viz-bb152d41ccdd4e49b9507bdf0cade3e1\"></div>\n",
       "<script type=\"text/javascript\">\n",
       "  var VEGA_DEBUG = (typeof VEGA_DEBUG == \"undefined\") ? {} : VEGA_DEBUG;\n",
       "  (function(spec, embedOpt){\n",
       "    let outputDiv = document.currentScript.previousElementSibling;\n",
       "    if (outputDiv.id !== \"altair-viz-bb152d41ccdd4e49b9507bdf0cade3e1\") {\n",
       "      outputDiv = document.getElementById(\"altair-viz-bb152d41ccdd4e49b9507bdf0cade3e1\");\n",
       "    }\n",
       "    const paths = {\n",
       "      \"vega\": \"https://cdn.jsdelivr.net/npm//vega@5?noext\",\n",
       "      \"vega-lib\": \"https://cdn.jsdelivr.net/npm//vega-lib?noext\",\n",
       "      \"vega-lite\": \"https://cdn.jsdelivr.net/npm//vega-lite@4.17.0?noext\",\n",
       "      \"vega-embed\": \"https://cdn.jsdelivr.net/npm//vega-embed@6?noext\",\n",
       "    };\n",
       "\n",
       "    function maybeLoadScript(lib, version) {\n",
       "      var key = `${lib.replace(\"-\", \"\")}_version`;\n",
       "      return (VEGA_DEBUG[key] == version) ?\n",
       "        Promise.resolve(paths[lib]) :\n",
       "        new Promise(function(resolve, reject) {\n",
       "          var s = document.createElement('script');\n",
       "          document.getElementsByTagName(\"head\")[0].appendChild(s);\n",
       "          s.async = true;\n",
       "          s.onload = () => {\n",
       "            VEGA_DEBUG[key] = version;\n",
       "            return resolve(paths[lib]);\n",
       "          };\n",
       "          s.onerror = () => reject(`Error loading script: ${paths[lib]}`);\n",
       "          s.src = paths[lib];\n",
       "        });\n",
       "    }\n",
       "\n",
       "    function showError(err) {\n",
       "      outputDiv.innerHTML = `<div class=\"error\" style=\"color:red;\">${err}</div>`;\n",
       "      throw err;\n",
       "    }\n",
       "\n",
       "    function displayChart(vegaEmbed) {\n",
       "      vegaEmbed(outputDiv, spec, embedOpt)\n",
       "        .catch(err => showError(`Javascript Error: ${err.message}<br>This usually means there's a typo in your chart specification. See the javascript console for the full traceback.`));\n",
       "    }\n",
       "\n",
       "    if(typeof define === \"function\" && define.amd) {\n",
       "      requirejs.config({paths});\n",
       "      require([\"vega-embed\"], displayChart, err => showError(`Error loading script: ${err.message}`));\n",
       "    } else {\n",
       "      maybeLoadScript(\"vega\", \"5\")\n",
       "        .then(() => maybeLoadScript(\"vega-lite\", \"4.17.0\"))\n",
       "        .then(() => maybeLoadScript(\"vega-embed\", \"6\"))\n",
       "        .catch(showError)\n",
       "        .then(() => displayChart(vegaEmbed));\n",
       "    }\n",
       "  })({\"config\": {\"view\": {\"continuousWidth\": 400, \"continuousHeight\": 300}}, \"data\": {\"name\": \"data-557ebe95bf2c251ed8896bae9a86386d\"}, \"mark\": \"bar\", \"encoding\": {\"x\": {\"field\": \"ParticipantId\", \"type\": \"nominal\"}, \"y\": {\"field\": \"OverallDarkComfortScore\", \"type\": \"quantitative\"}}, \"$schema\": \"https://vega.github.io/schema/vega-lite/v4.17.0.json\", \"datasets\": {\"data-557ebe95bf2c251ed8896bae9a86386d\": [{\"ParticipantId\": \"1\", \"Experimenter\": \"Team\", \"Informed Consent\": \"Yes\", \"LightModeTime\": 76, \"LightModeAccuracy\": 0.96, \"DarkModeTime\": 75, \"DarkModeAccuracy\": 0.97, \"Comfortability_1\": \"Somewhat agree\", \"Comfortability_2\": \"Somewhat disagree\", \"Comfortability_3\": \"Agree\", \"Comfortability_4\": \"Agree\", \"Comfortability_5\": \"Somewhat disagree\", \"OverallDarkComfortScore\": 7, \"OverallLightComfortScore\": 13, \"time_diff\": -1, \"accuracy_diff\": 0.010000000000000009, \"comfort_diff\": -6}, {\"ParticipantId\": \"2\", \"Experimenter\": \"Team\", \"Informed Consent\": \"Yes\", \"LightModeTime\": 62, \"LightModeAccuracy\": 0.97, \"DarkModeTime\": 60, \"DarkModeAccuracy\": 0.96, \"Comfortability_1\": \"Agree\", \"Comfortability_2\": \"Agree\", \"Comfortability_3\": \"Agree\", \"Comfortability_4\": \"Agree\", \"Comfortability_5\": \"Agree\", \"OverallDarkComfortScore\": 14, \"OverallLightComfortScore\": 10, \"time_diff\": -2, \"accuracy_diff\": -0.010000000000000009, \"comfort_diff\": 4}, {\"ParticipantId\": \"3\", \"Experimenter\": \"Team\", \"Informed Consent\": \"Yes\", \"LightModeTime\": 77, \"LightModeAccuracy\": 0.96, \"DarkModeTime\": 72, \"DarkModeAccuracy\": 0.97, \"Comfortability_1\": \"Strongly agree\", \"Comfortability_2\": \"Strongly agree\", \"Comfortability_3\": \"Strongly agree\", \"Comfortability_4\": \"Strongly agree\", \"Comfortability_5\": \"Agree\", \"OverallDarkComfortScore\": 16, \"OverallLightComfortScore\": 12, \"time_diff\": -5, \"accuracy_diff\": 0.010000000000000009, \"comfort_diff\": 4}, {\"ParticipantId\": \"4\", \"Experimenter\": \"Team\", \"Informed Consent\": \"Yes\", \"LightModeTime\": 76, \"LightModeAccuracy\": 0.97, \"DarkModeTime\": 98, \"DarkModeAccuracy\": 0.92, \"Comfortability_1\": \"Somewhat disagree\", \"Comfortability_2\": \"Somewhat agree\", \"Comfortability_3\": \"Agree\", \"Comfortability_4\": \"Neither agree nor disagree\", \"Comfortability_5\": \"Somewhat agree\", \"OverallDarkComfortScore\": 9, \"OverallLightComfortScore\": 9, \"time_diff\": 22, \"accuracy_diff\": -0.04999999999999993, \"comfort_diff\": 0}, {\"ParticipantId\": \"5\", \"Experimenter\": \"Team\", \"Informed Consent\": \"Yes\", \"LightModeTime\": 72, \"LightModeAccuracy\": 0.96, \"DarkModeTime\": 77, \"DarkModeAccuracy\": 0.96, \"Comfortability_1\": \"Strongly agree\", \"Comfortability_2\": \"Strongly agree\", \"Comfortability_3\": \"Agree\", \"Comfortability_4\": \"Agree\", \"Comfortability_5\": \"Agree\", \"OverallDarkComfortScore\": 16, \"OverallLightComfortScore\": 10, \"time_diff\": 5, \"accuracy_diff\": 0.0, \"comfort_diff\": 6}, {\"ParticipantId\": \"6\", \"Experimenter\": \"Team\", \"Informed Consent\": \"Yes\", \"LightModeTime\": 86, \"LightModeAccuracy\": 0.96, \"DarkModeTime\": 88, \"DarkModeAccuracy\": 0.96, \"Comfortability_1\": \"Strongly agree\", \"Comfortability_2\": \"Somewhat agree\", \"Comfortability_3\": \"Strongly agree\", \"Comfortability_4\": \"Strongly agree\", \"Comfortability_5\": \"Neither agree nor disagree\", \"OverallDarkComfortScore\": 12, \"OverallLightComfortScore\": 14, \"time_diff\": 2, \"accuracy_diff\": 0.0, \"comfort_diff\": -2}, {\"ParticipantId\": \"7\", \"Experimenter\": \"Team\", \"Informed Consent\": \"Yes\", \"LightModeTime\": 56, \"LightModeAccuracy\": 0.97, \"DarkModeTime\": 54, \"DarkModeAccuracy\": 0.96, \"Comfortability_1\": \"Somewhat disagree\", \"Comfortability_2\": \"Somewhat disagree\", \"Comfortability_3\": \"Strongly agree\", \"Comfortability_4\": \"Strongly agree\", \"Comfortability_5\": \"Somewhat disagree\", \"OverallDarkComfortScore\": 5, \"OverallLightComfortScore\": 15, \"time_diff\": -2, \"accuracy_diff\": -0.010000000000000009, \"comfort_diff\": -10}, {\"ParticipantId\": \"8\", \"Experimenter\": \"Team\", \"Informed Consent\": \"Yes\", \"LightModeTime\": 53, \"LightModeAccuracy\": 0.95, \"DarkModeTime\": 53, \"DarkModeAccuracy\": 0.94, \"Comfortability_1\": \"Strongly agree\", \"Comfortability_2\": \"Agree\", \"Comfortability_3\": \"Strongly agree\", \"Comfortability_4\": \"Strongly agree\", \"Comfortability_5\": \"Disagree\", \"OverallDarkComfortScore\": 11, \"OverallLightComfortScore\": 16, \"time_diff\": 0, \"accuracy_diff\": -0.010000000000000009, \"comfort_diff\": -5}, {\"ParticipantId\": \"9\", \"Experimenter\": \"Team\", \"Informed Consent\": \"Yes\", \"LightModeTime\": 68, \"LightModeAccuracy\": 0.96, \"DarkModeTime\": 79, \"DarkModeAccuracy\": 0.97, \"Comfortability_1\": \"Neither agree nor disagree\", \"Comfortability_2\": \"Disagree\", \"Comfortability_3\": \"Somewhat disagree\", \"Comfortability_4\": \"Strongly agree\", \"Comfortability_5\": \"Somewhat agree\", \"OverallDarkComfortScore\": 7, \"OverallLightComfortScore\": 9, \"time_diff\": 11, \"accuracy_diff\": 0.010000000000000009, \"comfort_diff\": -2}, {\"ParticipantId\": \"10\", \"Experimenter\": \"Team\", \"Informed Consent\": \"Yes\", \"LightModeTime\": 71, \"LightModeAccuracy\": 0.96, \"DarkModeTime\": 73, \"DarkModeAccuracy\": 0.95, \"Comfortability_1\": \"Strongly agree\", \"Comfortability_2\": \"Strongly agree\", \"Comfortability_3\": \"Somewhat agree\", \"Comfortability_4\": \"Somewhat agree\", \"Comfortability_5\": \"Strongly agree\", \"OverallDarkComfortScore\": 17, \"OverallLightComfortScore\": 7, \"time_diff\": 2, \"accuracy_diff\": -0.010000000000000009, \"comfort_diff\": 10}, {\"ParticipantId\": \"11\", \"Experimenter\": \"Team\", \"Informed Consent\": \"Yes\", \"LightModeTime\": 57, \"LightModeAccuracy\": 0.94, \"DarkModeTime\": 74, \"DarkModeAccuracy\": 0.9, \"Comfortability_1\": \"Strongly agree\", \"Comfortability_2\": \"Strongly agree\", \"Comfortability_3\": \"Strongly agree\", \"Comfortability_4\": \"Strongly agree\", \"Comfortability_5\": \"Somewhat agree\", \"OverallDarkComfortScore\": 15, \"OverallLightComfortScore\": 13, \"time_diff\": 17, \"accuracy_diff\": -0.039999999999999925, \"comfort_diff\": 2}, {\"ParticipantId\": \"12\", \"Experimenter\": \"Team\", \"Informed Consent\": \"Yes\", \"LightModeTime\": 43, \"LightModeAccuracy\": 0.97, \"DarkModeTime\": 46, \"DarkModeAccuracy\": 0.94, \"Comfortability_1\": \"Agree\", \"Comfortability_2\": \"Somewhat agree\", \"Comfortability_3\": \"Somewhat agree\", \"Comfortability_4\": \"Somewhat agree\", \"Comfortability_5\": \"Neither agree nor disagree\", \"OverallDarkComfortScore\": 11, \"OverallLightComfortScore\": 10, \"time_diff\": 3, \"accuracy_diff\": -0.030000000000000027, \"comfort_diff\": 1}, {\"ParticipantId\": \"13\", \"Experimenter\": \"Team\", \"Informed Consent\": \"Yes\", \"LightModeTime\": 46, \"LightModeAccuracy\": 0.93, \"DarkModeTime\": 41, \"DarkModeAccuracy\": 0.94, \"Comfortability_1\": \"Strongly agree\", \"Comfortability_2\": \"Strongly agree\", \"Comfortability_3\": \"Agree\", \"Comfortability_4\": \"Agree\", \"Comfortability_5\": \"Strongly agree\", \"OverallDarkComfortScore\": 17, \"OverallLightComfortScore\": 9, \"time_diff\": -5, \"accuracy_diff\": 0.009999999999999898, \"comfort_diff\": 8}, {\"ParticipantId\": \"14\", \"Experimenter\": \"Team\", \"Informed Consent\": \"Yes\", \"LightModeTime\": 66, \"LightModeAccuracy\": 0.88, \"DarkModeTime\": 67, \"DarkModeAccuracy\": 0.9, \"Comfortability_1\": \"Agree\", \"Comfortability_2\": \"Agree\", \"Comfortability_3\": \"Disagree\", \"Comfortability_4\": \"Agree\", \"Comfortability_5\": \"Somewhat agree\", \"OverallDarkComfortScore\": 13, \"OverallLightComfortScore\": 7, \"time_diff\": 1, \"accuracy_diff\": 0.020000000000000018, \"comfort_diff\": 6}, {\"ParticipantId\": \"15\", \"Experimenter\": \"Team\", \"Informed Consent\": \"Yes\", \"LightModeTime\": 44, \"LightModeAccuracy\": 0.89, \"DarkModeTime\": 56, \"DarkModeAccuracy\": 0.85, \"Comfortability_1\": \"Somewhat agree\", \"Comfortability_2\": \"Agree\", \"Comfortability_3\": \"Agree\", \"Comfortability_4\": \"Agree\", \"Comfortability_5\": \"Neither agree nor disagree\", \"OverallDarkComfortScore\": 11, \"OverallLightComfortScore\": 12, \"time_diff\": 12, \"accuracy_diff\": -0.040000000000000036, \"comfort_diff\": -1}, {\"ParticipantId\": \"16\", \"Experimenter\": \"Oliver\", \"Informed Consent\": \"Yes\", \"LightModeTime\": 79, \"LightModeAccuracy\": 0.94, \"DarkModeTime\": 72, \"DarkModeAccuracy\": 0.95, \"Comfortability_1\": \"Somewhat disagree\", \"Comfortability_2\": \"Neither agree nor disagree\", \"Comfortability_3\": \"Agree\", \"Comfortability_4\": \"Agree\", \"Comfortability_5\": \"Somewhat disagree\", \"OverallDarkComfortScore\": 6, \"OverallLightComfortScore\": 13, \"time_diff\": -7, \"accuracy_diff\": 0.010000000000000009, \"comfort_diff\": -7}, {\"ParticipantId\": \"17\", \"Experimenter\": \"Lawrence\", \"Informed Consent\": \"Yes\", \"LightModeTime\": 67, \"LightModeAccuracy\": 0.97, \"DarkModeTime\": 71, \"DarkModeAccuracy\": 0.93, \"Comfortability_1\": \"Somewhat agree\", \"Comfortability_2\": \"Disagree\", \"Comfortability_3\": \"Agree\", \"Comfortability_4\": \"Agree\", \"Comfortability_5\": \"Disagree\", \"OverallDarkComfortScore\": 5, \"OverallLightComfortScore\": 14, \"time_diff\": 4, \"accuracy_diff\": -0.039999999999999925, \"comfort_diff\": -9}, {\"ParticipantId\": \"18\", \"Experimenter\": \"Oliver\", \"Informed Consent\": \"Yes\", \"LightModeTime\": 78, \"LightModeAccuracy\": 0.92, \"DarkModeTime\": 80, \"DarkModeAccuracy\": 0.93, \"Comfortability_1\": \"Strongly agree\", \"Comfortability_2\": \"Agree\", \"Comfortability_3\": \"Neither agree nor disagree\", \"Comfortability_4\": \"Somewhat agree\", \"Comfortability_5\": \"Strongly agree\", \"OverallDarkComfortScore\": 16, \"OverallLightComfortScore\": 6, \"time_diff\": 2, \"accuracy_diff\": 0.010000000000000009, \"comfort_diff\": 10}, {\"ParticipantId\": \"19\", \"Experimenter\": \"Oliver\", \"Informed Consent\": \"Yes\", \"LightModeTime\": 61, \"LightModeAccuracy\": 0.95, \"DarkModeTime\": 55, \"DarkModeAccuracy\": 0.96, \"Comfortability_1\": \"Agree\", \"Comfortability_2\": \"Agree\", \"Comfortability_3\": \"Agree\", \"Comfortability_4\": \"Agree\", \"Comfortability_5\": \"Somewhat agree\", \"OverallDarkComfortScore\": 13, \"OverallLightComfortScore\": 11, \"time_diff\": -6, \"accuracy_diff\": 0.010000000000000009, \"comfort_diff\": 2}, {\"ParticipantId\": \"20\", \"Experimenter\": \"Oliver\", \"Informed Consent\": \"Yes\", \"LightModeTime\": 57, \"LightModeAccuracy\": 0.96, \"DarkModeTime\": 56, \"DarkModeAccuracy\": 0.99, \"Comfortability_1\": \"Agree\", \"Comfortability_2\": \"Neither agree nor disagree\", \"Comfortability_3\": \"Agree\", \"Comfortability_4\": \"Neither agree nor disagree\", \"Comfortability_5\": \"Somewhat disagree\", \"OverallDarkComfortScore\": 9, \"OverallLightComfortScore\": 11, \"time_diff\": -1, \"accuracy_diff\": 0.030000000000000027, \"comfort_diff\": -2}, {\"ParticipantId\": \"21\", \"Experimenter\": \"Oliver\", \"Informed Consent\": \"Yes\", \"LightModeTime\": 88, \"LightModeAccuracy\": 0.97, \"DarkModeTime\": 92, \"DarkModeAccuracy\": 0.98, \"Comfortability_1\": \"Strongly agree\", \"Comfortability_2\": \"Strongly agree\", \"Comfortability_3\": \"Somewhat disagree\", \"Comfortability_4\": \"Somewhat agree\", \"Comfortability_5\": \"Strongly agree\", \"OverallDarkComfortScore\": 17, \"OverallLightComfortScore\": 5, \"time_diff\": 4, \"accuracy_diff\": 0.010000000000000009, \"comfort_diff\": 12}, {\"ParticipantId\": \"22\", \"Experimenter\": \"Lawrence\", \"Informed Consent\": \"Yes\", \"LightModeTime\": 97, \"LightModeAccuracy\": 0.93, \"DarkModeTime\": 107, \"DarkModeAccuracy\": 0.93, \"Comfortability_1\": \"Agree\", \"Comfortability_2\": \"Agree\", \"Comfortability_3\": \"Agree\", \"Comfortability_4\": \"Disagree\", \"Comfortability_5\": \"Agree\", \"OverallDarkComfortScore\": 14, \"OverallLightComfortScore\": 6, \"time_diff\": 10, \"accuracy_diff\": 0.0, \"comfort_diff\": 8}, {\"ParticipantId\": \"23\", \"Experimenter\": \"Lawrence\", \"Informed Consent\": \"Yes\", \"LightModeTime\": 45, \"LightModeAccuracy\": 0.93, \"DarkModeTime\": 48, \"DarkModeAccuracy\": 0.96, \"Comfortability_1\": \"Strongly agree\", \"Comfortability_2\": \"Strongly agree\", \"Comfortability_3\": \"Strongly agree\", \"Comfortability_4\": \"Strongly agree\", \"Comfortability_5\": \"Disagree\", \"OverallDarkComfortScore\": 12, \"OverallLightComfortScore\": 16, \"time_diff\": 3, \"accuracy_diff\": 0.029999999999999916, \"comfort_diff\": -4}, {\"ParticipantId\": \"24\", \"Experimenter\": \"Lawrence\", \"Informed Consent\": \"Yes\", \"LightModeTime\": 72, \"LightModeAccuracy\": 0.85, \"DarkModeTime\": 70, \"DarkModeAccuracy\": 0.86, \"Comfortability_1\": \"Somewhat agree\", \"Comfortability_2\": \"Somewhat disagree\", \"Comfortability_3\": \"Agree\", \"Comfortability_4\": \"Strongly agree\", \"Comfortability_5\": \"Somewhat disagree\", \"OverallDarkComfortScore\": 7, \"OverallLightComfortScore\": 14, \"time_diff\": -2, \"accuracy_diff\": 0.010000000000000009, \"comfort_diff\": -7}, {\"ParticipantId\": \"25\", \"Experimenter\": \"Lawrence\", \"Informed Consent\": \"Yes\", \"LightModeTime\": 67, \"LightModeAccuracy\": 0.89, \"DarkModeTime\": 61, \"DarkModeAccuracy\": 0.96, \"Comfortability_1\": \"Strongly agree\", \"Comfortability_2\": \"Somewhat agree\", \"Comfortability_3\": \"Somewhat disagree\", \"Comfortability_4\": \"Agree\", \"Comfortability_5\": \"Agree\", \"OverallDarkComfortScore\": 14, \"OverallLightComfortScore\": 7, \"time_diff\": -6, \"accuracy_diff\": 0.06999999999999995, \"comfort_diff\": 7}, {\"ParticipantId\": \"26\", \"Experimenter\": \"Kevin\", \"Informed Consent\": \"Yes\", \"LightModeTime\": 97, \"LightModeAccuracy\": 0.97, \"DarkModeTime\": 102, \"DarkModeAccuracy\": 0.96, \"Comfortability_1\": \"Neither agree nor disagree\", \"Comfortability_2\": \"Neither agree nor disagree\", \"Comfortability_3\": \"Strongly agree\", \"Comfortability_4\": \"Strongly agree\", \"Comfortability_5\": \"Strongly disagree\", \"OverallDarkComfortScore\": 5, \"OverallLightComfortScore\": 17, \"time_diff\": 5, \"accuracy_diff\": -0.010000000000000009, \"comfort_diff\": -12}, {\"ParticipantId\": \"28\", \"Experimenter\": \"Kevin\", \"Informed Consent\": \"Yes\", \"LightModeTime\": 80, \"LightModeAccuracy\": 0.98, \"DarkModeTime\": 72, \"DarkModeAccuracy\": 0.96, \"Comfortability_1\": \"Strongly agree\", \"Comfortability_2\": \"Strongly agree\", \"Comfortability_3\": \"Somewhat disagree\", \"Comfortability_4\": \"Somewhat disagree\", \"Comfortability_5\": \"Strongly agree\", \"OverallDarkComfortScore\": 17, \"OverallLightComfortScore\": 3, \"time_diff\": -8, \"accuracy_diff\": -0.020000000000000018, \"comfort_diff\": 14}, {\"ParticipantId\": \"29\", \"Experimenter\": \"Kevin\", \"Informed Consent\": \"Yes\", \"LightModeTime\": 65, \"LightModeAccuracy\": 0.96, \"DarkModeTime\": 69, \"DarkModeAccuracy\": 0.95, \"Comfortability_1\": \"Strongly agree\", \"Comfortability_2\": \"Strongly agree\", \"Comfortability_3\": \"Strongly agree\", \"Comfortability_4\": \"Strongly agree\", \"Comfortability_5\": \"Neither agree nor disagree\", \"OverallDarkComfortScore\": 14, \"OverallLightComfortScore\": 14, \"time_diff\": 4, \"accuracy_diff\": -0.010000000000000009, \"comfort_diff\": 0}, {\"ParticipantId\": \"30\", \"Experimenter\": \"Kevin\", \"Informed Consent\": \"Yes\", \"LightModeTime\": 72, \"LightModeAccuracy\": 0.94, \"DarkModeTime\": 67, \"DarkModeAccuracy\": 0.97, \"Comfortability_1\": \"Strongly agree\", \"Comfortability_2\": \"Strongly agree\", \"Comfortability_3\": \"Strongly agree\", \"Comfortability_4\": \"Strongly agree\", \"Comfortability_5\": \"Strongly agree\", \"OverallDarkComfortScore\": 17, \"OverallLightComfortScore\": 11, \"time_diff\": -5, \"accuracy_diff\": 0.030000000000000027, \"comfort_diff\": 6}]}}, {\"mode\": \"vega-lite\"});\n",
       "</script>"
      ],
      "text/plain": [
       "alt.Chart(...)"
      ]
     },
     "execution_count": 57,
     "metadata": {},
     "output_type": "execute_result"
    }
   ],
   "source": [
    "alt.Chart(data).mark_bar().encode(\n",
    "    x='ParticipantId',\n",
    "    y='OverallDarkComfortScore'\n",
    ")"
   ]
  },
  {
   "cell_type": "code",
   "execution_count": null,
   "id": "63ef60e7",
   "metadata": {},
   "outputs": [],
   "source": []
  }
 ],
 "metadata": {
  "kernelspec": {
   "display_name": "Python 3 (ipykernel)",
   "language": "python",
   "name": "python3"
  },
  "language_info": {
   "codemirror_mode": {
    "name": "ipython",
    "version": 3
   },
   "file_extension": ".py",
   "mimetype": "text/x-python",
   "name": "python",
   "nbconvert_exporter": "python",
   "pygments_lexer": "ipython3",
   "version": "3.9.5"
  }
 },
 "nbformat": 4,
 "nbformat_minor": 5
}
